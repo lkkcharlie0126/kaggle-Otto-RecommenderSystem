{
 "cells": [
  {
   "cell_type": "code",
   "execution_count": 1,
   "metadata": {},
   "outputs": [],
   "source": [
    "import pandas as pd, numpy as np\n",
    "from tqdm.notebook import tqdm\n",
    "import os, sys, pickle, glob, gc\n",
    "from collections import Counter\n",
    "import itertools"
   ]
  },
  {
   "cell_type": "code",
   "execution_count": 2,
   "metadata": {},
   "outputs": [],
   "source": [
    "inputPath = '../input/newSplited/'\n",
    "outputPath = '../output/newSplited/'"
   ]
  },
  {
   "cell_type": "code",
   "execution_count": 3,
   "metadata": {},
   "outputs": [],
   "source": [
    "TOPN_candidate = 100\n",
    "SUBSETNUM = 2\n",
    "SETS = [2, 3]\n",
    "predTypes = ['clicks', 'carts', 'orders']\n",
    "candNote = 'covisit_20_20_20_newSuggester2_Covwgt_timeWgt'\n",
    "featureNote = 'norm'\n",
    "data4XgbNote = 'covisit_20_20_20_newSuggester2_Covwgt_timeWgt'\n",
    "type_labels = {'clicks':0, 'carts':1, 'orders':2}"
   ]
  },
  {
   "cell_type": "code",
   "execution_count": 4,
   "metadata": {},
   "outputs": [
    {
     "name": "stdout",
     "output_type": "stream",
     "text": [
      "type: clicks\n",
      "sub: 0\n",
      "sub: 1\n",
      "type: carts\n",
      "sub: 0\n",
      "sub: 1\n",
      "type: orders\n",
      "sub: 0\n",
      "sub: 1\n",
      "type: clicks\n",
      "sub: 0\n",
      "sub: 1\n",
      "type: carts\n",
      "sub: 0\n",
      "sub: 1\n",
      "type: orders\n",
      "sub: 0\n",
      "sub: 1\n"
     ]
    }
   ],
   "source": [
    "for SET in SETS:\n",
    "    candidatesSavePath = outputPath + f'candidates_set{SET}_top{TOPN_candidate}_{candNote}/'\n",
    "    data4xgb_path = outputPath + f'data4xgb_set{SET}_top_{TOPN_candidate}_{data4XgbNote}/'\n",
    "    ! mkdir {data4xgb_path}\n",
    "    featuresPath = outputPath + f'features_set{SET}_{featureNote}/'\n",
    "    item_features = pd.read_parquet(featuresPath + 'item_features.pqt')\n",
    "    user_features = pd.read_parquet(featuresPath + 'user_features.pqt')\n",
    "    userItem_features = pd.read_parquet(featuresPath + 'userItem_features.pqt')\n",
    "\n",
    "    \n",
    "    for predType in predTypes:\n",
    "        print('type:', predType)\n",
    "        for s in range(SUBSETNUM):\n",
    "            print('sub:', s)\n",
    "            sub = pd.read_parquet(candidatesSavePath + f'{predType}Candidate_{s}.pqt')\n",
    "            sub['session'] = sub.session.astype('int32')\n",
    "            sub['order_by_rule'] = sub.groupby('session').cumcount(ascending=False)\n",
    "            sub = sub.merge(item_features, left_on='aid', right_index=True, how='left').fillna(-1)\n",
    "            sub = sub.merge(user_features, left_on='session', right_index=True, how='left').fillna(-1)\n",
    "            sub = sub.merge(userItem_features, left_on=['session', 'aid'], right_index=True, how='left').fillna(0)\n",
    "            if SET == 1 or SET ==2:\n",
    "                if SET == 1:\n",
    "                    val_labels_pd = pd.read_parquet('../input/split_2-1_pqt/test_labels.parquet')\n",
    "                else:\n",
    "                    val_labels_pd = pd.read_parquet('../input/splited/test_labels.parquet')\n",
    "                val_labels_type = val_labels_pd.loc[val_labels_pd['type'] == predType]\n",
    "                aids = val_labels_type.ground_truth.explode().astype('int32').rename('aid')\n",
    "                val_labels_type = val_labels_type[['session']].astype('int32')\n",
    "                val_labels_type = val_labels_type.merge(aids, left_index=True, right_index=True, how='left')\n",
    "                val_labels_type[predType[:-1]] = 1\n",
    "                sub = sub.merge(val_labels_type, on=['session','aid'],how='left').fillna(0)\n",
    "            sub.to_parquet(data4xgb_path + f'data4xgb_{predType}_{s}.pqt')\n"
   ]
  },
  {
   "cell_type": "code",
   "execution_count": null,
   "metadata": {},
   "outputs": [],
   "source": []
  }
 ],
 "metadata": {
  "kernelspec": {
   "display_name": "rapids",
   "language": "python",
   "name": "python3"
  },
  "language_info": {
   "codemirror_mode": {
    "name": "ipython",
    "version": 3
   },
   "file_extension": ".py",
   "mimetype": "text/x-python",
   "name": "python",
   "nbconvert_exporter": "python",
   "pygments_lexer": "ipython3",
   "version": "3.9.13 | packaged by conda-forge | (main, May 27 2022, 16:56:21) \n[GCC 10.3.0]"
  },
  "orig_nbformat": 4,
  "vscode": {
   "interpreter": {
    "hash": "f708a36acfaef0acf74ccd43dfb58100269bf08fb79032a1e0a6f35bd9856f51"
   }
  }
 },
 "nbformat": 4,
 "nbformat_minor": 2
}
