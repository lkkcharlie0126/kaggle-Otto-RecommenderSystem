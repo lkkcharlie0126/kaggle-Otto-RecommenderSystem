{
 "cells": [
  {
   "cell_type": "code",
   "execution_count": 1,
   "metadata": {},
   "outputs": [],
   "source": [
    "%load_ext autoreload\n",
    "%autoreload 2"
   ]
  },
  {
   "cell_type": "code",
   "execution_count": 1,
   "metadata": {},
   "outputs": [],
   "source": [
    "import pandas as pd, numpy as np\n",
    "from tqdm.auto import tqdm\n",
    "import os, sys, pickle, glob, gc, shutil\n",
    "import math\n",
    "from pathlib import Path\n",
    "from collections import Counter\n",
    "import itertools\n",
    "from eventsSuggesterNew import ClicksSuggester, BuysSuggester, CartsSuggester\n",
    "import gensim"
   ]
  },
  {
   "cell_type": "code",
   "execution_count": 2,
   "metadata": {},
   "outputs": [
    {
     "name": "stdout",
     "output_type": "stream",
     "text": [
      "mkdir: cannot create directory ‘../output/newSplited/’: File exists\n"
     ]
    }
   ],
   "source": [
    "inputPath = '../input/newSplited/'\n",
    "outputPath = '../output/newSplited/'\n",
    "! mkdir {outputPath}"
   ]
  },
  {
   "cell_type": "code",
   "execution_count": 3,
   "metadata": {},
   "outputs": [],
   "source": [
    "type_labels = {'clicks':0, 'carts':1, 'orders':2}"
   ]
  },
  {
   "attachments": {},
   "cell_type": "markdown",
   "metadata": {},
   "source": [
    "# Generate candidates"
   ]
  },
  {
   "cell_type": "code",
   "execution_count": 4,
   "metadata": {},
   "outputs": [],
   "source": [
    "candidatesNum = 100\n",
    "SET = 2\n",
    "VER = 6\n",
    "note_covisit = 'covisit_20_20_20'\n",
    "note_candidate = 'suggester_addLast'"
   ]
  },
  {
   "cell_type": "code",
   "execution_count": 5,
   "metadata": {},
   "outputs": [],
   "source": [
    "def load_test(path):    \n",
    "    dfs = []\n",
    "    for e, chunk_file in enumerate(glob.glob(path)):\n",
    "        chunk = pd.read_parquet(chunk_file)\n",
    "        chunk.ts = (chunk.ts/1000).astype('int32')\n",
    "        chunk['type'] = chunk['type'].map(type_labels).astype('int8')\n",
    "        dfs.append(chunk)\n",
    "    return pd.concat(dfs).reset_index(drop=True) #.astype({\"ts\": \"datetime64[ms]\"})\n",
    "\n",
    "def pqt_to_dict(df):\n",
    "    return df.groupby('aid_x').aid_y.apply(list).to_dict()\n",
    "\n",
    "def saveChunk(data, chunkSize, path, predType):\n",
    "    n = len(data)\n",
    "    i = 0\n",
    "    while(i*chunkSize < n):\n",
    "        sub = data[i*chunkSize:(i+1)*chunkSize]\n",
    "        sub.to_parquet(path + f'{predType}_{i}.pqt')\n",
    "        i += 1"
   ]
  },
  {
   "attachments": {},
   "cell_type": "markdown",
   "metadata": {},
   "source": [
    "## Load testA data"
   ]
  },
  {
   "cell_type": "code",
   "execution_count": 7,
   "metadata": {},
   "outputs": [
    {
     "data": {
      "text/html": [
       "<div>\n",
       "<style scoped>\n",
       "    .dataframe tbody tr th:only-of-type {\n",
       "        vertical-align: middle;\n",
       "    }\n",
       "\n",
       "    .dataframe tbody tr th {\n",
       "        vertical-align: top;\n",
       "    }\n",
       "\n",
       "    .dataframe thead th {\n",
       "        text-align: right;\n",
       "    }\n",
       "</style>\n",
       "<table border=\"1\" class=\"dataframe\">\n",
       "  <thead>\n",
       "    <tr style=\"text-align: right;\">\n",
       "      <th></th>\n",
       "      <th>session</th>\n",
       "      <th>aid</th>\n",
       "      <th>ts</th>\n",
       "      <th>type</th>\n",
       "    </tr>\n",
       "  </thead>\n",
       "  <tbody>\n",
       "    <tr>\n",
       "      <th>0</th>\n",
       "      <td>11098528</td>\n",
       "      <td>11830</td>\n",
       "      <td>1661119200</td>\n",
       "      <td>0</td>\n",
       "    </tr>\n",
       "    <tr>\n",
       "      <th>1</th>\n",
       "      <td>11098529</td>\n",
       "      <td>1105029</td>\n",
       "      <td>1661119200</td>\n",
       "      <td>0</td>\n",
       "    </tr>\n",
       "    <tr>\n",
       "      <th>2</th>\n",
       "      <td>11098530</td>\n",
       "      <td>264500</td>\n",
       "      <td>1661119200</td>\n",
       "      <td>0</td>\n",
       "    </tr>\n",
       "    <tr>\n",
       "      <th>3</th>\n",
       "      <td>11098530</td>\n",
       "      <td>264500</td>\n",
       "      <td>1661119288</td>\n",
       "      <td>0</td>\n",
       "    </tr>\n",
       "    <tr>\n",
       "      <th>4</th>\n",
       "      <td>11098530</td>\n",
       "      <td>409236</td>\n",
       "      <td>1661119369</td>\n",
       "      <td>0</td>\n",
       "    </tr>\n",
       "    <tr>\n",
       "      <th>...</th>\n",
       "      <td>...</td>\n",
       "      <td>...</td>\n",
       "      <td>...</td>\n",
       "      <td>...</td>\n",
       "    </tr>\n",
       "    <tr>\n",
       "      <th>7683572</th>\n",
       "      <td>12899774</td>\n",
       "      <td>33035</td>\n",
       "      <td>1661723968</td>\n",
       "      <td>0</td>\n",
       "    </tr>\n",
       "    <tr>\n",
       "      <th>7683573</th>\n",
       "      <td>12899775</td>\n",
       "      <td>1743151</td>\n",
       "      <td>1661723970</td>\n",
       "      <td>0</td>\n",
       "    </tr>\n",
       "    <tr>\n",
       "      <th>7683574</th>\n",
       "      <td>12899776</td>\n",
       "      <td>548599</td>\n",
       "      <td>1661723972</td>\n",
       "      <td>0</td>\n",
       "    </tr>\n",
       "    <tr>\n",
       "      <th>7683575</th>\n",
       "      <td>12899777</td>\n",
       "      <td>384045</td>\n",
       "      <td>1661723976</td>\n",
       "      <td>0</td>\n",
       "    </tr>\n",
       "    <tr>\n",
       "      <th>7683576</th>\n",
       "      <td>12899778</td>\n",
       "      <td>561560</td>\n",
       "      <td>1661723983</td>\n",
       "      <td>0</td>\n",
       "    </tr>\n",
       "  </tbody>\n",
       "</table>\n",
       "<p>7683577 rows × 4 columns</p>\n",
       "</div>"
      ],
      "text/plain": [
       "          session      aid          ts  type\n",
       "0        11098528    11830  1661119200     0\n",
       "1        11098529  1105029  1661119200     0\n",
       "2        11098530   264500  1661119200     0\n",
       "3        11098530   264500  1661119288     0\n",
       "4        11098530   409236  1661119369     0\n",
       "...           ...      ...         ...   ...\n",
       "7683572  12899774    33035  1661723968     0\n",
       "7683573  12899775  1743151  1661723970     0\n",
       "7683574  12899776   548599  1661723972     0\n",
       "7683575  12899777   384045  1661723976     0\n",
       "7683576  12899778   561560  1661723983     0\n",
       "\n",
       "[7683577 rows x 4 columns]"
      ]
     },
     "execution_count": 7,
     "metadata": {},
     "output_type": "execute_result"
    }
   ],
   "source": [
    "if SET == 1:\n",
    "    testA = load_test('../input/split_2-1_pqt/test_parquets/*')\n",
    "elif SET == 2:\n",
    "    testA = pd.read_parquet('../input/splited/test.parquet')\n",
    "elif SET == 3:\n",
    "    testA = load_test('../input/parquets/test_parquets/*')\n",
    "testA"
   ]
  },
  {
   "attachments": {},
   "cell_type": "markdown",
   "metadata": {},
   "source": [
    "## Load covistation matrix"
   ]
  },
  {
   "cell_type": "code",
   "execution_count": 8,
   "metadata": {},
   "outputs": [],
   "source": [
    "covisitTypes = ['clicks', 'click2click', 'cartsOrders', 'buy2buy', 'click2cart', 'click2order']\n",
    "topN = {'clicks': 20, 'click2click': 20, 'cartsOrders': 20, 'buy2buy': 20, 'click2cart': 20, 'click2order': 20, 'buy2buy_q': 20}\n",
    "diskPart = {'clicks': 8, 'click2click': 8, 'cartsOrders': 8, 'buy2buy': 2, 'click2cart': 8, 'click2order': 8, 'buy2buy_q': 2}\n",
    "covisitMat = {}"
   ]
  },
  {
   "cell_type": "code",
   "execution_count": 9,
   "metadata": {},
   "outputs": [],
   "source": [
    "coVisitSaveFolder = outputPath + f'/coVisit/set{SET}/top20_20_20/'"
   ]
  },
  {
   "cell_type": "code",
   "execution_count": null,
   "metadata": {},
   "outputs": [],
   "source": [
    "for covisitType in covisitTypes:\n",
    "    for k in range(0, diskPart[covisitType]):\n",
    "        covisitMat[covisitType] = {}\n",
    "        covisitMat[covisitType].update( pqt_to_dict( pd.read_parquet(coVisitSaveFolder + f'top_{topN[covisitType]}_{covisitType}_v{VER}_{k}.pqt') ) )"
   ]
  },
  {
   "attachments": {},
   "cell_type": "markdown",
   "metadata": {},
   "source": [
    "## find most frequently item"
   ]
  },
  {
   "cell_type": "code",
   "execution_count": 11,
   "metadata": {},
   "outputs": [],
   "source": [
    "top_clicks = testA.loc[testA['type']==0,'aid'].value_counts().index.values[:candidatesNum].astype(np.int32)\n",
    "top_carts = testA.loc[testA['type'] == 1,'aid'].value_counts().index.values[:candidatesNum].astype(np.int32)\n",
    "top_orders = testA.loc[testA['type'] == 2,'aid'].value_counts().index.values[:candidatesNum].astype(np.int32)"
   ]
  },
  {
   "attachments": {},
   "cell_type": "markdown",
   "metadata": {},
   "source": [
    "## Load trained aid2vec model"
   ]
  },
  {
   "cell_type": "code",
   "execution_count": 11,
   "metadata": {},
   "outputs": [],
   "source": [
    "aid2vec_model = gensim.models.KeyedVectors.load_word2vec_format(f'../output/newSplited/savedModel/set_{SET}/otto_aid2vec_5d.bin', binary=True)"
   ]
  },
  {
   "attachments": {},
   "cell_type": "markdown",
   "metadata": {},
   "source": [
    "# suggest"
   ]
  },
  {
   "cell_type": "code",
   "execution_count": null,
   "metadata": {},
   "outputs": [],
   "source": [
    "candidatesSavePath = outputPath + f'candidates/set{SET}_top_{candidatesNum}/{note_candidate}/'\n",
    "try: \n",
    "    os.makedirs(candidatesSavePath) \n",
    "except OSError as error: \n",
    "    print(error)"
   ]
  },
  {
   "cell_type": "code",
   "execution_count": null,
   "metadata": {},
   "outputs": [],
   "source": [
    "suggesters = {\n",
    "    'clicks': ClicksSuggester(top_clicks, covisitMat['click2click'], covisitMat['clicks'], aid2vec_model), \n",
    "    'carts': CartsSuggester(top_carts, covisitMat['buy2buy'], covisitMat['cartsOrders'], covisitMat['click2cart'], aid2vec_model), \n",
    "    'orders': BuysSuggester(top_orders, covisitMat['buy2buy'], covisitMat['cartsOrders'], covisitMat['click2order'], aid2vec_model),\n",
    "}\n",
    "\n",
    "pred_dfs = {}\n",
    "for predType in suggesters:\n",
    "    pred_dfs[predType] = testA.sort_values([\"session\", \"ts\"]).groupby([\"session\"]).progress_apply(lambda x: suggesters[predType].suggest(x, candidatesNum)).to_frame().reset_index()\n",
    "    print(pred_dfs[predType])\n",
    "    aids = pred_dfs[predType].labels.explode().astype('int32').rename('aid')\n",
    "    candidate = pred_dfs[predType][['session']].astype('int32')\n",
    "    candidate = candidate.merge(aids, left_index=True, right_index=True, how='left').reset_index(drop=True)\n",
    "    saveChunk(candidate, 650000 * 100, candidatesSavePath, predType)\n"
   ]
  },
  {
   "attachments": {},
   "cell_type": "markdown",
   "metadata": {},
   "source": [
    "## Check recall rate of candidates (for set == 2 or set ==1)"
   ]
  },
  {
   "cell_type": "code",
   "execution_count": null,
   "metadata": {},
   "outputs": [],
   "source": [
    "for predType in pred_dfs:\n",
    "    pred_dfs[predType]['type'] = predType\n",
    "    print(pred_dfs[predType])\n",
    "pred_df = pd.concat(list(pred_dfs.values())).reset_index(drop=True)\n",
    "print(pred_df)"
   ]
  },
  {
   "cell_type": "code",
   "execution_count": null,
   "metadata": {},
   "outputs": [],
   "source": [
    "if SET == 1:\n",
    "    test_labels = pd.read_parquet('../input/split_2-1_pqt/test_labels.parquet')\n",
    "elif SET == 2:\n",
    "    test_labels = pd.read_parquet('../input/splited/test_labels.parquet')"
   ]
  },
  {
   "cell_type": "code",
   "execution_count": null,
   "metadata": {},
   "outputs": [
    {
     "data": {
      "text/html": [
       "<div>\n",
       "<style scoped>\n",
       "    .dataframe tbody tr th:only-of-type {\n",
       "        vertical-align: middle;\n",
       "    }\n",
       "\n",
       "    .dataframe tbody tr th {\n",
       "        vertical-align: top;\n",
       "    }\n",
       "\n",
       "    .dataframe thead th {\n",
       "        text-align: right;\n",
       "    }\n",
       "</style>\n",
       "<table border=\"1\" class=\"dataframe\">\n",
       "  <thead>\n",
       "    <tr style=\"text-align: right;\">\n",
       "      <th></th>\n",
       "      <th>session</th>\n",
       "      <th>type</th>\n",
       "      <th>ground_truth</th>\n",
       "      <th>labels</th>\n",
       "      <th>hits</th>\n",
       "      <th>gt_count</th>\n",
       "    </tr>\n",
       "  </thead>\n",
       "  <tbody>\n",
       "    <tr>\n",
       "      <th>0</th>\n",
       "      <td>11098528</td>\n",
       "      <td>clicks</td>\n",
       "      <td>[1679529]</td>\n",
       "      <td>[11830, 588923, 876129, 1732105, 307904, 20535...</td>\n",
       "      <td>0</td>\n",
       "      <td>1</td>\n",
       "    </tr>\n",
       "    <tr>\n",
       "      <th>1</th>\n",
       "      <td>11098528</td>\n",
       "      <td>carts</td>\n",
       "      <td>[1199737]</td>\n",
       "      <td>[11830, 588923, 876129, 1732105, 307904, 88450...</td>\n",
       "      <td>0</td>\n",
       "      <td>1</td>\n",
       "    </tr>\n",
       "    <tr>\n",
       "      <th>2</th>\n",
       "      <td>11098528</td>\n",
       "      <td>orders</td>\n",
       "      <td>[990658, 950341, 1462506, 1561739, 907564, 369...</td>\n",
       "      <td>[11830, 588923, 876129, 1732105, 307904, 88450...</td>\n",
       "      <td>1</td>\n",
       "      <td>11</td>\n",
       "    </tr>\n",
       "    <tr>\n",
       "      <th>3</th>\n",
       "      <td>11098529</td>\n",
       "      <td>clicks</td>\n",
       "      <td>[1105029]</td>\n",
       "      <td>[1105029, 297916, 459126, 217742, 1717995, 138...</td>\n",
       "      <td>1</td>\n",
       "      <td>1</td>\n",
       "    </tr>\n",
       "    <tr>\n",
       "      <th>4</th>\n",
       "      <td>11098530</td>\n",
       "      <td>orders</td>\n",
       "      <td>[409236]</td>\n",
       "      <td>[409236, 264500, 1268065, 963957, 583026, 2108...</td>\n",
       "      <td>1</td>\n",
       "      <td>1</td>\n",
       "    </tr>\n",
       "    <tr>\n",
       "      <th>...</th>\n",
       "      <td>...</td>\n",
       "      <td>...</td>\n",
       "      <td>...</td>\n",
       "      <td>...</td>\n",
       "      <td>...</td>\n",
       "      <td>...</td>\n",
       "    </tr>\n",
       "    <tr>\n",
       "      <th>2212687</th>\n",
       "      <td>12899774</td>\n",
       "      <td>clicks</td>\n",
       "      <td>[1399483]</td>\n",
       "      <td>[33035, 771913, 31490, 1399483, 1053112, 86143...</td>\n",
       "      <td>1</td>\n",
       "      <td>1</td>\n",
       "    </tr>\n",
       "    <tr>\n",
       "      <th>2212688</th>\n",
       "      <td>12899775</td>\n",
       "      <td>clicks</td>\n",
       "      <td>[1760714]</td>\n",
       "      <td>[1743151, 155954, 1550204, 1760714, 1022572, 3...</td>\n",
       "      <td>1</td>\n",
       "      <td>1</td>\n",
       "    </tr>\n",
       "    <tr>\n",
       "      <th>2212689</th>\n",
       "      <td>12899776</td>\n",
       "      <td>clicks</td>\n",
       "      <td>[1737908]</td>\n",
       "      <td>[548599, 1150130, 793373, 1401030, 1440959, 51...</td>\n",
       "      <td>0</td>\n",
       "      <td>1</td>\n",
       "    </tr>\n",
       "    <tr>\n",
       "      <th>2212690</th>\n",
       "      <td>12899777</td>\n",
       "      <td>clicks</td>\n",
       "      <td>[384045]</td>\n",
       "      <td>[384045, 1308634, 1450928, 1281056, 1688215, 1...</td>\n",
       "      <td>1</td>\n",
       "      <td>1</td>\n",
       "    </tr>\n",
       "    <tr>\n",
       "      <th>2212691</th>\n",
       "      <td>12899778</td>\n",
       "      <td>clicks</td>\n",
       "      <td>[32070]</td>\n",
       "      <td>[561560, 1167224, 32070, 1175618, 1495496, 379...</td>\n",
       "      <td>1</td>\n",
       "      <td>1</td>\n",
       "    </tr>\n",
       "  </tbody>\n",
       "</table>\n",
       "<p>2212692 rows × 6 columns</p>\n",
       "</div>"
      ],
      "text/plain": [
       "          session    type                                       ground_truth  \\\n",
       "0        11098528  clicks                                          [1679529]   \n",
       "1        11098528   carts                                          [1199737]   \n",
       "2        11098528  orders  [990658, 950341, 1462506, 1561739, 907564, 369...   \n",
       "3        11098529  clicks                                          [1105029]   \n",
       "4        11098530  orders                                           [409236]   \n",
       "...           ...     ...                                                ...   \n",
       "2212687  12899774  clicks                                          [1399483]   \n",
       "2212688  12899775  clicks                                          [1760714]   \n",
       "2212689  12899776  clicks                                          [1737908]   \n",
       "2212690  12899777  clicks                                           [384045]   \n",
       "2212691  12899778  clicks                                            [32070]   \n",
       "\n",
       "                                                    labels  hits  gt_count  \n",
       "0        [11830, 588923, 876129, 1732105, 307904, 20535...     0         1  \n",
       "1        [11830, 588923, 876129, 1732105, 307904, 88450...     0         1  \n",
       "2        [11830, 588923, 876129, 1732105, 307904, 88450...     1        11  \n",
       "3        [1105029, 297916, 459126, 217742, 1717995, 138...     1         1  \n",
       "4        [409236, 264500, 1268065, 963957, 583026, 2108...     1         1  \n",
       "...                                                    ...   ...       ...  \n",
       "2212687  [33035, 771913, 31490, 1399483, 1053112, 86143...     1         1  \n",
       "2212688  [1743151, 155954, 1550204, 1760714, 1022572, 3...     1         1  \n",
       "2212689  [548599, 1150130, 793373, 1401030, 1440959, 51...     0         1  \n",
       "2212690  [384045, 1308634, 1450928, 1281056, 1688215, 1...     1         1  \n",
       "2212691  [561560, 1167224, 32070, 1175618, 1495496, 379...     1         1  \n",
       "\n",
       "[2212692 rows x 6 columns]"
      ]
     },
     "execution_count": 31,
     "metadata": {},
     "output_type": "execute_result"
    }
   ],
   "source": [
    "test_labels = test_labels.merge(pred_df, how='left', on=['session', 'type'])\n",
    "test_labels['hits'] = test_labels.apply(lambda df: len(set(df.ground_truth).intersection(set(df.labels[:20]))), axis=1)\n",
    "test_labels['gt_count'] = test_labels.ground_truth.str.len().clip(0,20)\n",
    "test_labels"
   ]
  },
  {
   "cell_type": "code",
   "execution_count": null,
   "metadata": {},
   "outputs": [
    {
     "name": "stdout",
     "output_type": "stream",
     "text": [
      "Set: 2 Top: 100\n",
      "type\n",
      "carts     0.419272\n",
      "clicks    0.536148\n",
      "orders    0.652270\n",
      "dtype: float64\n",
      "0.5707582388019186\n"
     ]
    }
   ],
   "source": [
    "print('Set:', SET, 'Top:', candidatesNum)\n",
    "recall_per_type = test_labels.groupby(['type'])['hits'].sum() / test_labels.groupby(['type'])['gt_count'].sum()\n",
    "print(recall_per_type)\n",
    "score = (recall_per_type * pd.Series({'clicks': 0.10, 'carts': 0.30, 'orders': 0.60})).sum()\n",
    "print(score)"
   ]
  },
  {
   "attachments": {},
   "cell_type": "markdown",
   "metadata": {},
   "source": [
    "## Submit only covisitation candidates (for SET == 3)"
   ]
  },
  {
   "cell_type": "code",
   "execution_count": null,
   "metadata": {},
   "outputs": [],
   "source": [
    "for predType in pred_dfs:\n",
    "    pred_dfs[predType].session = pred_dfs[predType].session.apply(lambda x: str(x) + '_' + predType)\n",
    "    pred_dfs[predType].labels = pred_dfs[predType].labels.apply(lambda x: x[:20])\n",
    "    print(pred_dfs[predType])"
   ]
  },
  {
   "cell_type": "code",
   "execution_count": null,
   "metadata": {},
   "outputs": [],
   "source": [
    "pred_df = pd.concat(list(pred_dfs.values()))\n",
    "pred_df.columns = [\"session_type\", \"labels\"]\n",
    "pred_df[\"labels\"] = pred_df.labels.apply(lambda x: \" \".join(map(str,x)))\n",
    "pred_df"
   ]
  },
  {
   "cell_type": "code",
   "execution_count": null,
   "metadata": {},
   "outputs": [],
   "source": [
    "pred_df.to_csv(f'../submissions/covisitCandidates_{note_candidate}.csv', index=False)"
   ]
  },
  {
   "attachments": {},
   "cell_type": "markdown",
   "metadata": {},
   "source": [
    "# Validate on small dataset"
   ]
  },
  {
   "cell_type": "code",
   "execution_count": 11,
   "metadata": {},
   "outputs": [],
   "source": [
    "SET = 2\n",
    "aid2vec_model = gensim.models.KeyedVectors.load_word2vec_format(f'../output/newSplited/savedModel/set_{SET}/otto_aid2vec_5d.bin', binary=True)"
   ]
  },
  {
   "cell_type": "code",
   "execution_count": 322,
   "metadata": {},
   "outputs": [],
   "source": [
    "testA = pd.read_parquet('../input/splited/test.parquet')\n",
    "top_clicks = testA.loc[testA['type']==0,'aid'].value_counts().index.values[:100].astype(np.int32)\n",
    "top_carts = testA.loc[testA['type'] == 1,'aid'].value_counts().index.values[:100].astype(np.int32)\n",
    "top_orders = testA.loc[testA['type'] == 2,'aid'].value_counts().index.values[:100].astype(np.int32)"
   ]
  },
  {
   "cell_type": "code",
   "execution_count": 341,
   "metadata": {},
   "outputs": [
    {
     "data": {
      "text/plain": [
       "3"
      ]
     },
     "execution_count": 341,
     "metadata": {},
     "output_type": "execute_result"
    }
   ],
   "source": [
    "import random\n",
    "from eventsSuggesterNew import ClicksSuggester, BuysSuggester, CartsSuggester\n",
    "\n",
    "testA = pd.read_parquet('../input/splited/test.parquet')\n",
    "random.seed(10)\n",
    "uniqueUser = list(testA.session.unique())\n",
    "keepUsers = random.sample(uniqueUser, int(len(uniqueUser)/10))\n",
    "testA = testA[testA.session.isin(keepUsers)].reset_index(drop=True)\n",
    "\n",
    "predType = 'orders'\n",
    "suggesters = {\n",
    "    'clicks': ClicksSuggester(top_clicks, covisitMat['click2click'], covisitMat['clicks'], aid2vec_model), \n",
    "    'carts': CartsSuggester(top_carts, covisitMat['buy2buy'], covisitMat['cartsOrders'], covisitMat['click2cart'], aid2vec_model), \n",
    "    'orders': BuysSuggester(top_orders, covisitMat['buy2buy'], covisitMat['cartsOrders'], covisitMat['click2order'], aid2vec_model),\n",
    "}\n",
    "suggester = suggesters[predType]"
   ]
  },
  {
   "cell_type": "code",
   "execution_count": 342,
   "metadata": {},
   "outputs": [
    {
     "data": {
      "application/vnd.jupyter.widget-view+json": {
       "model_id": "1b40716726dc45bc9dfa537802efc707",
       "version_major": 2,
       "version_minor": 0
      },
      "text/plain": [
       "A Jupyter Widget"
      ]
     },
     "metadata": {},
     "output_type": "display_data"
    },
    {
     "data": {
      "text/html": [
       "<div>\n",
       "<style scoped>\n",
       "    .dataframe tbody tr th:only-of-type {\n",
       "        vertical-align: middle;\n",
       "    }\n",
       "\n",
       "    .dataframe tbody tr th {\n",
       "        vertical-align: top;\n",
       "    }\n",
       "\n",
       "    .dataframe thead th {\n",
       "        text-align: right;\n",
       "    }\n",
       "</style>\n",
       "<table border=\"1\" class=\"dataframe\">\n",
       "  <thead>\n",
       "    <tr style=\"text-align: right;\">\n",
       "      <th></th>\n",
       "      <th>session</th>\n",
       "      <th>labels</th>\n",
       "    </tr>\n",
       "  </thead>\n",
       "  <tbody>\n",
       "    <tr>\n",
       "      <th>0</th>\n",
       "      <td>11098529</td>\n",
       "      <td>[1105029, 1135201, 295362, 441348, 1049489, 51...</td>\n",
       "    </tr>\n",
       "    <tr>\n",
       "      <th>1</th>\n",
       "      <td>11098540</td>\n",
       "      <td>[1545215, 1277598, 896787, 789082, 1472725, 10...</td>\n",
       "    </tr>\n",
       "    <tr>\n",
       "      <th>2</th>\n",
       "      <td>11098553</td>\n",
       "      <td>[314297, 1061776, 399992, 1783610, 1125095, 57...</td>\n",
       "    </tr>\n",
       "    <tr>\n",
       "      <th>3</th>\n",
       "      <td>11098557</td>\n",
       "      <td>[1234327, 719075, 1471333, 1732776, 53060, 527...</td>\n",
       "    </tr>\n",
       "    <tr>\n",
       "      <th>4</th>\n",
       "      <td>11098559</td>\n",
       "      <td>[907069, 84703, 1003267, 607328, 1381738, 5999...</td>\n",
       "    </tr>\n",
       "    <tr>\n",
       "      <th>...</th>\n",
       "      <td>...</td>\n",
       "      <td>...</td>\n",
       "    </tr>\n",
       "    <tr>\n",
       "      <th>180120</th>\n",
       "      <td>12899695</td>\n",
       "      <td>[206768, 1712543, 1005385, 1572478, 413094, 18...</td>\n",
       "    </tr>\n",
       "    <tr>\n",
       "      <th>180121</th>\n",
       "      <td>12899714</td>\n",
       "      <td>[559593, 138753, 683268, 472892, 1839548, 5541...</td>\n",
       "    </tr>\n",
       "    <tr>\n",
       "      <th>180122</th>\n",
       "      <td>12899719</td>\n",
       "      <td>[1217083, 250637, 132109, 226025, 508883, 1156...</td>\n",
       "    </tr>\n",
       "    <tr>\n",
       "      <th>180123</th>\n",
       "      <td>12899763</td>\n",
       "      <td>[1539032, 750901, 95488, 873385, 1854775, 3695...</td>\n",
       "    </tr>\n",
       "    <tr>\n",
       "      <th>180124</th>\n",
       "      <td>12899773</td>\n",
       "      <td>[1311526, 37930, 125520, 132574, 781068, 98155...</td>\n",
       "    </tr>\n",
       "  </tbody>\n",
       "</table>\n",
       "<p>180125 rows × 2 columns</p>\n",
       "</div>"
      ],
      "text/plain": [
       "         session                                             labels\n",
       "0       11098529  [1105029, 1135201, 295362, 441348, 1049489, 51...\n",
       "1       11098540  [1545215, 1277598, 896787, 789082, 1472725, 10...\n",
       "2       11098553  [314297, 1061776, 399992, 1783610, 1125095, 57...\n",
       "3       11098557  [1234327, 719075, 1471333, 1732776, 53060, 527...\n",
       "4       11098559  [907069, 84703, 1003267, 607328, 1381738, 5999...\n",
       "...          ...                                                ...\n",
       "180120  12899695  [206768, 1712543, 1005385, 1572478, 413094, 18...\n",
       "180121  12899714  [559593, 138753, 683268, 472892, 1839548, 5541...\n",
       "180122  12899719  [1217083, 250637, 132109, 226025, 508883, 1156...\n",
       "180123  12899763  [1539032, 750901, 95488, 873385, 1854775, 3695...\n",
       "180124  12899773  [1311526, 37930, 125520, 132574, 781068, 98155...\n",
       "\n",
       "[180125 rows x 2 columns]"
      ]
     },
     "execution_count": 342,
     "metadata": {},
     "output_type": "execute_result"
    }
   ],
   "source": [
    "tqdm.pandas()\n",
    "pred_df = testA.sort_values([\"session\", \"ts\"]).groupby([\"session\"]).progress_apply(lambda x: suggester.suggest(x, candidatesNum)).to_frame().reset_index()\n",
    "pred_df.columns = ['session', 'labels']\n",
    "pred_df['session'] = pred_df['session'].astype('int32')\n",
    "pred_df"
   ]
  },
  {
   "cell_type": "code",
   "execution_count": 343,
   "metadata": {},
   "outputs": [
    {
     "data": {
      "text/plain": [
       "0.6915200924380537"
      ]
     },
     "execution_count": 343,
     "metadata": {},
     "output_type": "execute_result"
    }
   ],
   "source": [
    "pred_df['type'] = predType\n",
    "test_labels = pd.read_parquet('../input/splited/test_labels.parquet')\n",
    "type_labels = test_labels[test_labels['type'] == predType]\n",
    "type_labels = type_labels.merge(pred_df, how='left', on=['session', 'type']).dropna()\n",
    "type_labels['hits_all'] = type_labels.apply(lambda df: len(set(df.ground_truth).intersection(set(df.labels))), axis=1)\n",
    "type_labels['hits_20'] = type_labels.apply(lambda df: len(set(df.ground_truth).intersection(set(df.labels[:20]))), axis=1)\n",
    "type_labels['gt_count'] = type_labels.ground_truth.str.len().clip(0,20)\n",
    "recall_per_type_all = type_labels['hits_all'].sum() / type_labels['gt_count'].sum()\n",
    "recall_per_type_20 = type_labels['hits_20'].sum() / type_labels['gt_count'].sum()\n",
    "print('recall:', recall_per_type_all)\n",
    "print('recall@20:', recall_per_type_20)"
   ]
  }
 ],
 "metadata": {
  "kernelspec": {
   "display_name": "rapids",
   "language": "python",
   "name": "python3"
  },
  "language_info": {
   "codemirror_mode": {
    "name": "ipython",
    "version": 3
   },
   "file_extension": ".py",
   "mimetype": "text/x-python",
   "name": "python",
   "nbconvert_exporter": "python",
   "pygments_lexer": "ipython3",
   "version": "3.9.13"
  },
  "orig_nbformat": 4,
  "vscode": {
   "interpreter": {
    "hash": "f708a36acfaef0acf74ccd43dfb58100269bf08fb79032a1e0a6f35bd9856f51"
   }
  }
 },
 "nbformat": 4,
 "nbformat_minor": 2
}
