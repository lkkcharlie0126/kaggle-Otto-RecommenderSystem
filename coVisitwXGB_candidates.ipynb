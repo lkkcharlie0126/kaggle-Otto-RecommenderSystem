{
 "cells": [
  {
   "cell_type": "code",
   "execution_count": 1,
   "metadata": {},
   "outputs": [],
   "source": [
    "%load_ext autoreload\n",
    "%autoreload 2"
   ]
  },
  {
   "cell_type": "code",
   "execution_count": 1,
   "metadata": {},
   "outputs": [],
   "source": [
    "import pandas as pd, numpy as np\n",
    "from tqdm.auto import tqdm\n",
    "import os, sys, pickle, glob, gc, shutil\n",
    "import math\n",
    "from pathlib import Path\n",
    "\n",
    "\n",
    "from collections import Counter\n",
    "import itertools\n",
    "\n",
    "from eventsSuggesterNew import ClicksSuggester, BuysSuggester, CartsSuggester\n",
    "\n",
    "\n",
    "import gensim"
   ]
  },
  {
   "cell_type": "code",
   "execution_count": 2,
   "metadata": {},
   "outputs": [
    {
     "name": "stdout",
     "output_type": "stream",
     "text": [
      "mkdir: cannot create directory ‘../output/newSplited/’: File exists\n"
     ]
    }
   ],
   "source": [
    "inputPath = '../input/newSplited/'\n",
    "outputPath = '../output/newSplited/'\n",
    "! mkdir {outputPath}"
   ]
  },
  {
   "cell_type": "code",
   "execution_count": 3,
   "metadata": {},
   "outputs": [],
   "source": [
    "type_labels = {'clicks':0, 'carts':1, 'orders':2}"
   ]
  },
  {
   "attachments": {},
   "cell_type": "markdown",
   "metadata": {},
   "source": [
    "# Generate candidates"
   ]
  },
  {
   "cell_type": "code",
   "execution_count": 5,
   "metadata": {},
   "outputs": [],
   "source": [
    "TOPN_clicks = 20\n",
    "TOPN_b2b = 20\n",
    "TOPN_cartsOrders = 20\n",
    "TOPN_c2c = 20\n",
    "TOPN_click2cart = 20\n",
    "TOPN_click2order = 20\n",
    "\n",
    "candidatesNum = 100\n",
    "SET = 2\n",
    "VER = 6\n",
    "note_covisit = 'covisit_20_20_20'\n",
    "note_candidate = 'suggester_addLast'"
   ]
  },
  {
   "attachments": {},
   "cell_type": "markdown",
   "metadata": {},
   "source": [
    "## Load testA data"
   ]
  },
  {
   "cell_type": "code",
   "execution_count": 6,
   "metadata": {},
   "outputs": [
    {
     "data": {
      "text/html": [
       "<div>\n",
       "<style scoped>\n",
       "    .dataframe tbody tr th:only-of-type {\n",
       "        vertical-align: middle;\n",
       "    }\n",
       "\n",
       "    .dataframe tbody tr th {\n",
       "        vertical-align: top;\n",
       "    }\n",
       "\n",
       "    .dataframe thead th {\n",
       "        text-align: right;\n",
       "    }\n",
       "</style>\n",
       "<table border=\"1\" class=\"dataframe\">\n",
       "  <thead>\n",
       "    <tr style=\"text-align: right;\">\n",
       "      <th></th>\n",
       "      <th>session</th>\n",
       "      <th>aid</th>\n",
       "      <th>ts</th>\n",
       "      <th>type</th>\n",
       "    </tr>\n",
       "  </thead>\n",
       "  <tbody>\n",
       "    <tr>\n",
       "      <th>0</th>\n",
       "      <td>11098528</td>\n",
       "      <td>11830</td>\n",
       "      <td>1661119200</td>\n",
       "      <td>0</td>\n",
       "    </tr>\n",
       "    <tr>\n",
       "      <th>1</th>\n",
       "      <td>11098529</td>\n",
       "      <td>1105029</td>\n",
       "      <td>1661119200</td>\n",
       "      <td>0</td>\n",
       "    </tr>\n",
       "    <tr>\n",
       "      <th>2</th>\n",
       "      <td>11098530</td>\n",
       "      <td>264500</td>\n",
       "      <td>1661119200</td>\n",
       "      <td>0</td>\n",
       "    </tr>\n",
       "    <tr>\n",
       "      <th>3</th>\n",
       "      <td>11098530</td>\n",
       "      <td>264500</td>\n",
       "      <td>1661119288</td>\n",
       "      <td>0</td>\n",
       "    </tr>\n",
       "    <tr>\n",
       "      <th>4</th>\n",
       "      <td>11098530</td>\n",
       "      <td>409236</td>\n",
       "      <td>1661119369</td>\n",
       "      <td>0</td>\n",
       "    </tr>\n",
       "    <tr>\n",
       "      <th>...</th>\n",
       "      <td>...</td>\n",
       "      <td>...</td>\n",
       "      <td>...</td>\n",
       "      <td>...</td>\n",
       "    </tr>\n",
       "    <tr>\n",
       "      <th>7683572</th>\n",
       "      <td>12899774</td>\n",
       "      <td>33035</td>\n",
       "      <td>1661723968</td>\n",
       "      <td>0</td>\n",
       "    </tr>\n",
       "    <tr>\n",
       "      <th>7683573</th>\n",
       "      <td>12899775</td>\n",
       "      <td>1743151</td>\n",
       "      <td>1661723970</td>\n",
       "      <td>0</td>\n",
       "    </tr>\n",
       "    <tr>\n",
       "      <th>7683574</th>\n",
       "      <td>12899776</td>\n",
       "      <td>548599</td>\n",
       "      <td>1661723972</td>\n",
       "      <td>0</td>\n",
       "    </tr>\n",
       "    <tr>\n",
       "      <th>7683575</th>\n",
       "      <td>12899777</td>\n",
       "      <td>384045</td>\n",
       "      <td>1661723976</td>\n",
       "      <td>0</td>\n",
       "    </tr>\n",
       "    <tr>\n",
       "      <th>7683576</th>\n",
       "      <td>12899778</td>\n",
       "      <td>561560</td>\n",
       "      <td>1661723983</td>\n",
       "      <td>0</td>\n",
       "    </tr>\n",
       "  </tbody>\n",
       "</table>\n",
       "<p>7683577 rows × 4 columns</p>\n",
       "</div>"
      ],
      "text/plain": [
       "          session      aid          ts  type\n",
       "0        11098528    11830  1661119200     0\n",
       "1        11098529  1105029  1661119200     0\n",
       "2        11098530   264500  1661119200     0\n",
       "3        11098530   264500  1661119288     0\n",
       "4        11098530   409236  1661119369     0\n",
       "...           ...      ...         ...   ...\n",
       "7683572  12899774    33035  1661723968     0\n",
       "7683573  12899775  1743151  1661723970     0\n",
       "7683574  12899776   548599  1661723972     0\n",
       "7683575  12899777   384045  1661723976     0\n",
       "7683576  12899778   561560  1661723983     0\n",
       "\n",
       "[7683577 rows x 4 columns]"
      ]
     },
     "execution_count": 6,
     "metadata": {},
     "output_type": "execute_result"
    }
   ],
   "source": [
    "def load_test(path):    \n",
    "    dfs = []\n",
    "    for e, chunk_file in enumerate(glob.glob(path)):\n",
    "        chunk = pd.read_parquet(chunk_file)\n",
    "        chunk.ts = (chunk.ts/1000).astype('int32')\n",
    "        chunk['type'] = chunk['type'].map(type_labels).astype('int8')\n",
    "        dfs.append(chunk)\n",
    "    return pd.concat(dfs).reset_index(drop=True) #.astype({\"ts\": \"datetime64[ms]\"})\n",
    "    \n",
    "if SET == 1:\n",
    "    testA = load_test('../input/split_2-1_pqt/test_parquets/*')\n",
    "elif SET == 2:\n",
    "    testA = pd.read_parquet('../input/splited/test.parquet')\n",
    "\n",
    "elif SET == 3:\n",
    "    testA = load_test('../input/parquets/test_parquets/*')\n",
    "testA"
   ]
  },
  {
   "attachments": {},
   "cell_type": "markdown",
   "metadata": {},
   "source": [
    "## Load covistation matrix"
   ]
  },
  {
   "cell_type": "code",
   "execution_count": 7,
   "metadata": {},
   "outputs": [],
   "source": [
    "coVisitSaveFolder = outputPath + f'/coVisit/set{SET}/top20_20_20/'"
   ]
  },
  {
   "cell_type": "code",
   "execution_count": 8,
   "metadata": {},
   "outputs": [],
   "source": [
    "def pqt_to_dict(df):\n",
    "    return df.groupby('aid_x').aid_y.apply(list).to_dict()"
   ]
  },
  {
   "cell_type": "code",
   "execution_count": 9,
   "metadata": {},
   "outputs": [],
   "source": [
    "top_clicks_covisit = {}\n",
    "for k in range(0, 8):\n",
    "    top_clicks_covisit.update( pqt_to_dict( pd.read_parquet(coVisitSaveFolder + f'top_{TOPN_clicks}_clicks_v{VER}_{k}.pqt') ) )\n",
    "\n",
    "top_c2c_covisit = {}\n",
    "for k in range(0, 8): \n",
    "    top_c2c_covisit.update( pqt_to_dict( pd.read_parquet(coVisitSaveFolder + f'top_{TOPN_c2c}_click2click_v{VER}_{k}.pqt') ) )"
   ]
  },
  {
   "cell_type": "code",
   "execution_count": 9,
   "metadata": {},
   "outputs": [
    {
     "name": "stderr",
     "output_type": "stream",
     "text": [
      "/tmp/ipykernel_7041/1906639434.py:2: FutureWarning: Not prepending group keys to the result index of transform-like apply. In the future, the group keys will be included in the index, regardless of whether the applied function returns a like-indexed object.\n",
      "To preserve the previous behavior, use\n",
      "\n",
      "\t>>> .groupby(..., group_keys=False)\n",
      "\n",
      "To adopt the future behavior and silence this warning, use \n",
      "\n",
      "\t>>> .groupby(..., group_keys=True)\n",
      "  return df.groupby('aid_x').aid_y.apply(list).to_dict()\n",
      "/tmp/ipykernel_7041/1906639434.py:2: FutureWarning: Not prepending group keys to the result index of transform-like apply. In the future, the group keys will be included in the index, regardless of whether the applied function returns a like-indexed object.\n",
      "To preserve the previous behavior, use\n",
      "\n",
      "\t>>> .groupby(..., group_keys=False)\n",
      "\n",
      "To adopt the future behavior and silence this warning, use \n",
      "\n",
      "\t>>> .groupby(..., group_keys=True)\n",
      "  return df.groupby('aid_x').aid_y.apply(list).to_dict()\n",
      "/tmp/ipykernel_7041/1906639434.py:2: FutureWarning: Not prepending group keys to the result index of transform-like apply. In the future, the group keys will be included in the index, regardless of whether the applied function returns a like-indexed object.\n",
      "To preserve the previous behavior, use\n",
      "\n",
      "\t>>> .groupby(..., group_keys=False)\n",
      "\n",
      "To adopt the future behavior and silence this warning, use \n",
      "\n",
      "\t>>> .groupby(..., group_keys=True)\n",
      "  return df.groupby('aid_x').aid_y.apply(list).to_dict()\n",
      "/tmp/ipykernel_7041/1906639434.py:2: FutureWarning: Not prepending group keys to the result index of transform-like apply. In the future, the group keys will be included in the index, regardless of whether the applied function returns a like-indexed object.\n",
      "To preserve the previous behavior, use\n",
      "\n",
      "\t>>> .groupby(..., group_keys=False)\n",
      "\n",
      "To adopt the future behavior and silence this warning, use \n",
      "\n",
      "\t>>> .groupby(..., group_keys=True)\n",
      "  return df.groupby('aid_x').aid_y.apply(list).to_dict()\n",
      "/tmp/ipykernel_7041/1906639434.py:2: FutureWarning: Not prepending group keys to the result index of transform-like apply. In the future, the group keys will be included in the index, regardless of whether the applied function returns a like-indexed object.\n",
      "To preserve the previous behavior, use\n",
      "\n",
      "\t>>> .groupby(..., group_keys=False)\n",
      "\n",
      "To adopt the future behavior and silence this warning, use \n",
      "\n",
      "\t>>> .groupby(..., group_keys=True)\n",
      "  return df.groupby('aid_x').aid_y.apply(list).to_dict()\n",
      "/tmp/ipykernel_7041/1906639434.py:2: FutureWarning: Not prepending group keys to the result index of transform-like apply. In the future, the group keys will be included in the index, regardless of whether the applied function returns a like-indexed object.\n",
      "To preserve the previous behavior, use\n",
      "\n",
      "\t>>> .groupby(..., group_keys=False)\n",
      "\n",
      "To adopt the future behavior and silence this warning, use \n",
      "\n",
      "\t>>> .groupby(..., group_keys=True)\n",
      "  return df.groupby('aid_x').aid_y.apply(list).to_dict()\n",
      "/tmp/ipykernel_7041/1906639434.py:2: FutureWarning: Not prepending group keys to the result index of transform-like apply. In the future, the group keys will be included in the index, regardless of whether the applied function returns a like-indexed object.\n",
      "To preserve the previous behavior, use\n",
      "\n",
      "\t>>> .groupby(..., group_keys=False)\n",
      "\n",
      "To adopt the future behavior and silence this warning, use \n",
      "\n",
      "\t>>> .groupby(..., group_keys=True)\n",
      "  return df.groupby('aid_x').aid_y.apply(list).to_dict()\n",
      "/tmp/ipykernel_7041/1906639434.py:2: FutureWarning: Not prepending group keys to the result index of transform-like apply. In the future, the group keys will be included in the index, regardless of whether the applied function returns a like-indexed object.\n",
      "To preserve the previous behavior, use\n",
      "\n",
      "\t>>> .groupby(..., group_keys=False)\n",
      "\n",
      "To adopt the future behavior and silence this warning, use \n",
      "\n",
      "\t>>> .groupby(..., group_keys=True)\n",
      "  return df.groupby('aid_x').aid_y.apply(list).to_dict()\n"
     ]
    }
   ],
   "source": [
    "top_buy2buy_covisit = {}\n",
    "for k in range(0, 2):\n",
    "    top_buy2buy_covisit.update( pqt_to_dict( pd.read_parquet(coVisitSaveFolder + f'top_{TOPN_b2b}_buy2buy_v{VER}_{k}.pqt') ) )\n",
    "\n",
    "top_cartsOrders_covisit = {}\n",
    "for k in range(0, 8): \n",
    "    top_cartsOrders_covisit.update( pqt_to_dict( pd.read_parquet(coVisitSaveFolder + f'top_{TOPN_cartsOrders}_cartsOrders_v{VER}_{k}.pqt') ) )\n",
    "\n",
    "top_click2cart_covisit = {}\n",
    "for k in range(0, 8): \n",
    "    top_click2cart_covisit.update( pqt_to_dict( pd.read_parquet(coVisitSaveFolder + f'top_{TOPN_click2cart}_click2cart_v{VER}_{k}.pqt') ) )\n",
    "\n",
    "top_click2order_covisit = {}\n",
    "for k in range(0, 8): \n",
    "    top_click2order_covisit.update( pqt_to_dict( pd.read_parquet(coVisitSaveFolder + f'top_{TOPN_click2order}_click2order_v{VER}_{k}.pqt') ) )"
   ]
  },
  {
   "attachments": {},
   "cell_type": "markdown",
   "metadata": {},
   "source": [
    "## find most frequently item"
   ]
  },
  {
   "cell_type": "code",
   "execution_count": 11,
   "metadata": {},
   "outputs": [],
   "source": [
    "top_clicks = testA.loc[testA['type']==0,'aid'].value_counts().index.values[:candidatesNum].astype(np.int32)\n",
    "top_carts = testA.loc[testA['type'] == 1,'aid'].value_counts().index.values[:candidatesNum].astype(np.int32)\n",
    "top_orders = testA.loc[testA['type'] == 2,'aid'].value_counts().index.values[:candidatesNum].astype(np.int32)\n",
    "\n",
    "# print('Here are size of our 3 co-visitation matrices:')\n",
    "# print( len( top_clicks_covisit ), len( top_buy2buy_covisit ), len( top_cartsOrders_covisit ) )"
   ]
  },
  {
   "cell_type": "code",
   "execution_count": 11,
   "metadata": {},
   "outputs": [],
   "source": [
    "aid2vec_model = gensim.models.KeyedVectors.load_word2vec_format(f'../output/newSplited/savedModel/set_{SET}/otto_aid2vec_5d.bin', binary=True)"
   ]
  },
  {
   "attachments": {},
   "cell_type": "markdown",
   "metadata": {},
   "source": [
    "# suggest"
   ]
  },
  {
   "cell_type": "code",
   "execution_count": 12,
   "metadata": {},
   "outputs": [],
   "source": [
    "clicksSuggester = ClicksSuggester(top_clicks, top_c2c_covisit, top_clicks_covisit, aid2vec_model)\n",
    "cartsSuggester = CartsSuggester(top_carts, top_buy2buy_covisit, top_cartsOrders_covisit, top_click2cart_covisit, aid2vec_model)\n",
    "ordersSuggester = BuysSuggester(top_orders, top_buy2buy_covisit, top_cartsOrders_covisit, top_click2order_covisit, aid2vec_model)"
   ]
  },
  {
   "cell_type": "code",
   "execution_count": 13,
   "metadata": {},
   "outputs": [],
   "source": [
    "candidatesSavePath = outputPath + f'candidates/set{SET}_top_{candidatesNum}/{note_candidate}/'\n",
    "\n",
    "try: \n",
    "    os.makedirs(candidatesSavePath) \n",
    "except OSError as error: \n",
    "    print(error)"
   ]
  },
  {
   "cell_type": "code",
   "execution_count": 14,
   "metadata": {},
   "outputs": [],
   "source": [
    "def saveChunk(data, chunkSize, path, predType):\n",
    "    n = len(data)\n",
    "    i = 0\n",
    "    while(i*chunkSize < n):\n",
    "        sub = data[i*chunkSize:(i+1)*chunkSize]\n",
    "        sub.to_parquet(path + f'{predType}_{i}.pqt')\n",
    "        i += 1"
   ]
  },
  {
   "attachments": {},
   "cell_type": "markdown",
   "metadata": {},
   "source": [
    "### clicks"
   ]
  },
  {
   "cell_type": "code",
   "execution_count": null,
   "metadata": {},
   "outputs": [],
   "source": [
    "tqdm.pandas()\n",
    "pred_df_clicks = testA.sort_values([\"session\", \"ts\"]).groupby([\"session\"]).progress_apply(lambda x: clicksSuggester.suggest(x, candidatesNum)).to_frame().reset_index()\n",
    "# pred_df_clicks = testA.sort_values([\"session\", \"ts\"]).groupby([\"session\"]).parallel_apply(lambda x: clicksSuggester.suggest(x, TOPN_candidate)).to_frame().reset_index()\n",
    "pred_df_clicks.columns = ['session', 'labels']\n",
    "pred_df_clicks['session'] = pred_df_clicks['session'].astype('int32')\n",
    "pred_df_clicks"
   ]
  },
  {
   "cell_type": "code",
   "execution_count": null,
   "metadata": {},
   "outputs": [],
   "source": [
    "aids = pred_df_clicks.labels.explode().astype('int32').rename('aid')\n",
    "clicksCandidate = pred_df_clicks[['session']].astype('int32')\n",
    "clicksCandidate = clicksCandidate.merge(aids, left_index=True, right_index=True, how='left').reset_index(drop=True)\n",
    "saveChunk(clicksCandidate, 650000 * 100, candidatesSavePath, 'clicks')"
   ]
  },
  {
   "attachments": {},
   "cell_type": "markdown",
   "metadata": {},
   "source": [
    "### carts"
   ]
  },
  {
   "cell_type": "code",
   "execution_count": null,
   "metadata": {},
   "outputs": [
    {
     "data": {
      "application/vnd.jupyter.widget-view+json": {
       "model_id": "164d77fb5e924792875179f1c7e232cb",
       "version_major": 2,
       "version_minor": 0
      },
      "text/plain": [
       "A Jupyter Widget"
      ]
     },
     "metadata": {},
     "output_type": "display_data"
    },
    {
     "data": {
      "text/html": [
       "<div>\n",
       "<style scoped>\n",
       "    .dataframe tbody tr th:only-of-type {\n",
       "        vertical-align: middle;\n",
       "    }\n",
       "\n",
       "    .dataframe tbody tr th {\n",
       "        vertical-align: top;\n",
       "    }\n",
       "\n",
       "    .dataframe thead th {\n",
       "        text-align: right;\n",
       "    }\n",
       "</style>\n",
       "<table border=\"1\" class=\"dataframe\">\n",
       "  <thead>\n",
       "    <tr style=\"text-align: right;\">\n",
       "      <th></th>\n",
       "      <th>session</th>\n",
       "      <th>labels</th>\n",
       "    </tr>\n",
       "  </thead>\n",
       "  <tbody>\n",
       "    <tr>\n",
       "      <th>0</th>\n",
       "      <td>12899779</td>\n",
       "      <td>[59625, 469285, 689970, 159257, 731692, 397451...</td>\n",
       "    </tr>\n",
       "    <tr>\n",
       "      <th>1</th>\n",
       "      <td>12899780</td>\n",
       "      <td>[1142000, 736515, 973453, 582732, 889686, 1758...</td>\n",
       "    </tr>\n",
       "    <tr>\n",
       "      <th>2</th>\n",
       "      <td>12899781</td>\n",
       "      <td>[918667, 199008, 194067, 57315, 141736, 89022,...</td>\n",
       "    </tr>\n",
       "    <tr>\n",
       "      <th>3</th>\n",
       "      <td>12899782</td>\n",
       "      <td>[834354, 595994, 740494, 889671, 987399, 10076...</td>\n",
       "    </tr>\n",
       "    <tr>\n",
       "      <th>4</th>\n",
       "      <td>12899783</td>\n",
       "      <td>[1817895, 607638, 1754419, 1216820, 1729553, 3...</td>\n",
       "    </tr>\n",
       "    <tr>\n",
       "      <th>...</th>\n",
       "      <td>...</td>\n",
       "      <td>...</td>\n",
       "    </tr>\n",
       "    <tr>\n",
       "      <th>1671798</th>\n",
       "      <td>14571577</td>\n",
       "      <td>[1141710, 86916, 768043, 1666114, 1681772, 935...</td>\n",
       "    </tr>\n",
       "    <tr>\n",
       "      <th>1671799</th>\n",
       "      <td>14571578</td>\n",
       "      <td>[519105, 830061, 290137, 1084758, 815460, 6913...</td>\n",
       "    </tr>\n",
       "    <tr>\n",
       "      <th>1671800</th>\n",
       "      <td>14571579</td>\n",
       "      <td>[739876, 702275, 1750859, 1286038, 1550479, 78...</td>\n",
       "    </tr>\n",
       "    <tr>\n",
       "      <th>1671801</th>\n",
       "      <td>14571580</td>\n",
       "      <td>[202353, 1314576, 1231403, 925638, 1295081, 38...</td>\n",
       "    </tr>\n",
       "    <tr>\n",
       "      <th>1671802</th>\n",
       "      <td>14571581</td>\n",
       "      <td>[1100210, 978060, 1684953, 622489, 1072049, 15...</td>\n",
       "    </tr>\n",
       "  </tbody>\n",
       "</table>\n",
       "<p>1671803 rows × 2 columns</p>\n",
       "</div>"
      ],
      "text/plain": [
       "          session                                             labels\n",
       "0        12899779  [59625, 469285, 689970, 159257, 731692, 397451...\n",
       "1        12899780  [1142000, 736515, 973453, 582732, 889686, 1758...\n",
       "2        12899781  [918667, 199008, 194067, 57315, 141736, 89022,...\n",
       "3        12899782  [834354, 595994, 740494, 889671, 987399, 10076...\n",
       "4        12899783  [1817895, 607638, 1754419, 1216820, 1729553, 3...\n",
       "...           ...                                                ...\n",
       "1671798  14571577  [1141710, 86916, 768043, 1666114, 1681772, 935...\n",
       "1671799  14571578  [519105, 830061, 290137, 1084758, 815460, 6913...\n",
       "1671800  14571579  [739876, 702275, 1750859, 1286038, 1550479, 78...\n",
       "1671801  14571580  [202353, 1314576, 1231403, 925638, 1295081, 38...\n",
       "1671802  14571581  [1100210, 978060, 1684953, 622489, 1072049, 15...\n",
       "\n",
       "[1671803 rows x 2 columns]"
      ]
     },
     "execution_count": 17,
     "metadata": {},
     "output_type": "execute_result"
    }
   ],
   "source": [
    "tqdm.pandas()\n",
    "pred_df_carts = testA.sort_values([\"session\", \"ts\"]).groupby([\"session\"]).progress_apply(lambda x: cartsSuggester.suggest(x, candidatesNum)).to_frame().reset_index()\n",
    "pred_df_carts.columns = ['session', 'labels']\n",
    "pred_df_carts['session'] = pred_df_carts['session'].astype('int32')\n",
    "pred_df_carts"
   ]
  },
  {
   "cell_type": "code",
   "execution_count": null,
   "metadata": {},
   "outputs": [],
   "source": [
    "aids = pred_df_carts.labels.explode().astype('int32').rename('aid')\n",
    "cartsCandidate = pred_df_carts[['session']].astype('int32')\n",
    "cartsCandidate = cartsCandidate.merge(aids, left_index=True, right_index=True, how='left').reset_index(drop=True)\n",
    "saveChunk(cartsCandidate, 650000 * 100, candidatesSavePath, 'carts')"
   ]
  },
  {
   "attachments": {},
   "cell_type": "markdown",
   "metadata": {},
   "source": [
    "### orders"
   ]
  },
  {
   "cell_type": "code",
   "execution_count": null,
   "metadata": {},
   "outputs": [
    {
     "data": {
      "application/vnd.jupyter.widget-view+json": {
       "model_id": "c99dc08c83384f64b8f0ea9593b01eba",
       "version_major": 2,
       "version_minor": 0
      },
      "text/plain": [
       "A Jupyter Widget"
      ]
     },
     "metadata": {},
     "output_type": "display_data"
    },
    {
     "data": {
      "text/html": [
       "<div>\n",
       "<style scoped>\n",
       "    .dataframe tbody tr th:only-of-type {\n",
       "        vertical-align: middle;\n",
       "    }\n",
       "\n",
       "    .dataframe tbody tr th {\n",
       "        vertical-align: top;\n",
       "    }\n",
       "\n",
       "    .dataframe thead th {\n",
       "        text-align: right;\n",
       "    }\n",
       "</style>\n",
       "<table border=\"1\" class=\"dataframe\">\n",
       "  <thead>\n",
       "    <tr style=\"text-align: right;\">\n",
       "      <th></th>\n",
       "      <th>session</th>\n",
       "      <th>labels</th>\n",
       "    </tr>\n",
       "  </thead>\n",
       "  <tbody>\n",
       "    <tr>\n",
       "      <th>0</th>\n",
       "      <td>12899779</td>\n",
       "      <td>[59625, 689970, 159257, 731692, 397451, 125352...</td>\n",
       "    </tr>\n",
       "    <tr>\n",
       "      <th>1</th>\n",
       "      <td>12899780</td>\n",
       "      <td>[1142000, 736515, 973453, 582732, 889686, 4871...</td>\n",
       "    </tr>\n",
       "    <tr>\n",
       "      <th>2</th>\n",
       "      <td>12899781</td>\n",
       "      <td>[918667, 199008, 194067, 57315, 141736, 89022,...</td>\n",
       "    </tr>\n",
       "    <tr>\n",
       "      <th>3</th>\n",
       "      <td>12899782</td>\n",
       "      <td>[834354, 740494, 987399, 889671, 779477, 12740...</td>\n",
       "    </tr>\n",
       "    <tr>\n",
       "      <th>4</th>\n",
       "      <td>12899783</td>\n",
       "      <td>[1817895, 607638, 1754419, 1216820, 1729553, 3...</td>\n",
       "    </tr>\n",
       "    <tr>\n",
       "      <th>...</th>\n",
       "      <td>...</td>\n",
       "      <td>...</td>\n",
       "    </tr>\n",
       "    <tr>\n",
       "      <th>1671798</th>\n",
       "      <td>14571577</td>\n",
       "      <td>[1141710, 1276792, 631085, 1004292, 842555, 11...</td>\n",
       "    </tr>\n",
       "    <tr>\n",
       "      <th>1671799</th>\n",
       "      <td>14571578</td>\n",
       "      <td>[519105, 815460, 977826, 822641, 1811714, 1321...</td>\n",
       "    </tr>\n",
       "    <tr>\n",
       "      <th>1671800</th>\n",
       "      <td>14571579</td>\n",
       "      <td>[739876, 702275, 1434015, 770418, 1750859, 513...</td>\n",
       "    </tr>\n",
       "    <tr>\n",
       "      <th>1671801</th>\n",
       "      <td>14571580</td>\n",
       "      <td>[202353, 1314576, 888228, 433425, 1231403, 925...</td>\n",
       "    </tr>\n",
       "    <tr>\n",
       "      <th>1671802</th>\n",
       "      <td>14571581</td>\n",
       "      <td>[1100210, 984794, 1236674, 462056, 978060, 168...</td>\n",
       "    </tr>\n",
       "  </tbody>\n",
       "</table>\n",
       "<p>1671803 rows × 2 columns</p>\n",
       "</div>"
      ],
      "text/plain": [
       "          session                                             labels\n",
       "0        12899779  [59625, 689970, 159257, 731692, 397451, 125352...\n",
       "1        12899780  [1142000, 736515, 973453, 582732, 889686, 4871...\n",
       "2        12899781  [918667, 199008, 194067, 57315, 141736, 89022,...\n",
       "3        12899782  [834354, 740494, 987399, 889671, 779477, 12740...\n",
       "4        12899783  [1817895, 607638, 1754419, 1216820, 1729553, 3...\n",
       "...           ...                                                ...\n",
       "1671798  14571577  [1141710, 1276792, 631085, 1004292, 842555, 11...\n",
       "1671799  14571578  [519105, 815460, 977826, 822641, 1811714, 1321...\n",
       "1671800  14571579  [739876, 702275, 1434015, 770418, 1750859, 513...\n",
       "1671801  14571580  [202353, 1314576, 888228, 433425, 1231403, 925...\n",
       "1671802  14571581  [1100210, 984794, 1236674, 462056, 978060, 168...\n",
       "\n",
       "[1671803 rows x 2 columns]"
      ]
     },
     "execution_count": 19,
     "metadata": {},
     "output_type": "execute_result"
    }
   ],
   "source": [
    "tqdm.pandas()\n",
    "pred_df_orders = testA.sort_values([\"session\", \"ts\"]).groupby([\"session\"]).progress_apply(lambda x: ordersSuggester.suggest(x, candidatesNum)).to_frame().reset_index()\n",
    "# pred_df_buys = testA.sort_values([\"session\", \"ts\"]).groupby([\"session\"]).parallel_apply(lambda x: buysSuggester.suggest(x, TOPN_candidate)).to_frame().reset_index()\n",
    "pred_df_orders.columns = ['session', 'labels']\n",
    "pred_df_orders['session'] = pred_df_orders['session'].astype('int32')\n",
    "pred_df_orders"
   ]
  },
  {
   "cell_type": "code",
   "execution_count": null,
   "metadata": {},
   "outputs": [],
   "source": [
    "aids = pred_df_orders.labels.explode().astype('int32').rename('aid')\n",
    "ordersCandidate = pred_df_orders[['session']].astype('int32')\n",
    "ordersCandidate = ordersCandidate.merge(aids, left_index=True, right_index=True, how='left').reset_index(drop=True)\n",
    "saveChunk(ordersCandidate, 650000 * 100, candidatesSavePath, 'orders')"
   ]
  },
  {
   "attachments": {},
   "cell_type": "markdown",
   "metadata": {},
   "source": [
    "# Check recall rate of candidates (for set == 2 or set ==1)"
   ]
  },
  {
   "attachments": {},
   "cell_type": "markdown",
   "metadata": {},
   "source": [
    "## Trainset"
   ]
  },
  {
   "cell_type": "code",
   "execution_count": null,
   "metadata": {},
   "outputs": [
    {
     "data": {
      "text/html": [
       "<div>\n",
       "<style scoped>\n",
       "    .dataframe tbody tr th:only-of-type {\n",
       "        vertical-align: middle;\n",
       "    }\n",
       "\n",
       "    .dataframe tbody tr th {\n",
       "        vertical-align: top;\n",
       "    }\n",
       "\n",
       "    .dataframe thead th {\n",
       "        text-align: right;\n",
       "    }\n",
       "</style>\n",
       "<table border=\"1\" class=\"dataframe\">\n",
       "  <thead>\n",
       "    <tr style=\"text-align: right;\">\n",
       "      <th></th>\n",
       "      <th>session</th>\n",
       "      <th>labels</th>\n",
       "      <th>type</th>\n",
       "    </tr>\n",
       "  </thead>\n",
       "  <tbody>\n",
       "    <tr>\n",
       "      <th>0</th>\n",
       "      <td>11098528</td>\n",
       "      <td>[11830, 588923, 876129, 1732105, 307904, 20535...</td>\n",
       "      <td>clicks</td>\n",
       "    </tr>\n",
       "    <tr>\n",
       "      <th>1</th>\n",
       "      <td>11098529</td>\n",
       "      <td>[1105029, 297916, 459126, 217742, 1717995, 138...</td>\n",
       "      <td>clicks</td>\n",
       "    </tr>\n",
       "    <tr>\n",
       "      <th>2</th>\n",
       "      <td>11098530</td>\n",
       "      <td>[409236, 264500, 963957, 583026, 210880, 75233...</td>\n",
       "      <td>clicks</td>\n",
       "    </tr>\n",
       "    <tr>\n",
       "      <th>3</th>\n",
       "      <td>11098531</td>\n",
       "      <td>[396199, 1271998, 452188, 1728212, 1365569, 62...</td>\n",
       "      <td>clicks</td>\n",
       "    </tr>\n",
       "    <tr>\n",
       "      <th>4</th>\n",
       "      <td>11098532</td>\n",
       "      <td>[876469, 7651, 669555, 77906, 1159379, 1704066...</td>\n",
       "      <td>clicks</td>\n",
       "    </tr>\n",
       "    <tr>\n",
       "      <th>...</th>\n",
       "      <td>...</td>\n",
       "      <td>...</td>\n",
       "      <td>...</td>\n",
       "    </tr>\n",
       "    <tr>\n",
       "      <th>1801246</th>\n",
       "      <td>12899774</td>\n",
       "      <td>[33035, 771913, 31490, 1399483, 1053112, 86143...</td>\n",
       "      <td>clicks</td>\n",
       "    </tr>\n",
       "    <tr>\n",
       "      <th>1801247</th>\n",
       "      <td>12899775</td>\n",
       "      <td>[1743151, 155954, 1550204, 1760714, 1022572, 3...</td>\n",
       "      <td>clicks</td>\n",
       "    </tr>\n",
       "    <tr>\n",
       "      <th>1801248</th>\n",
       "      <td>12899776</td>\n",
       "      <td>[548599, 1150130, 793373, 1401030, 1440959, 51...</td>\n",
       "      <td>clicks</td>\n",
       "    </tr>\n",
       "    <tr>\n",
       "      <th>1801249</th>\n",
       "      <td>12899777</td>\n",
       "      <td>[384045, 1308634, 1450928, 1281056, 1688215, 1...</td>\n",
       "      <td>clicks</td>\n",
       "    </tr>\n",
       "    <tr>\n",
       "      <th>1801250</th>\n",
       "      <td>12899778</td>\n",
       "      <td>[561560, 1167224, 32070, 1175618, 1495496, 379...</td>\n",
       "      <td>clicks</td>\n",
       "    </tr>\n",
       "  </tbody>\n",
       "</table>\n",
       "<p>1801251 rows × 3 columns</p>\n",
       "</div>"
      ],
      "text/plain": [
       "          session                                             labels    type\n",
       "0        11098528  [11830, 588923, 876129, 1732105, 307904, 20535...  clicks\n",
       "1        11098529  [1105029, 297916, 459126, 217742, 1717995, 138...  clicks\n",
       "2        11098530  [409236, 264500, 963957, 583026, 210880, 75233...  clicks\n",
       "3        11098531  [396199, 1271998, 452188, 1728212, 1365569, 62...  clicks\n",
       "4        11098532  [876469, 7651, 669555, 77906, 1159379, 1704066...  clicks\n",
       "...           ...                                                ...     ...\n",
       "1801246  12899774  [33035, 771913, 31490, 1399483, 1053112, 86143...  clicks\n",
       "1801247  12899775  [1743151, 155954, 1550204, 1760714, 1022572, 3...  clicks\n",
       "1801248  12899776  [548599, 1150130, 793373, 1401030, 1440959, 51...  clicks\n",
       "1801249  12899777  [384045, 1308634, 1450928, 1281056, 1688215, 1...  clicks\n",
       "1801250  12899778  [561560, 1167224, 32070, 1175618, 1495496, 379...  clicks\n",
       "\n",
       "[1801251 rows x 3 columns]"
      ]
     },
     "execution_count": 26,
     "metadata": {},
     "output_type": "execute_result"
    }
   ],
   "source": [
    "pred_df_clicks['type'] = 'clicks'\n",
    "pred_df_clicks"
   ]
  },
  {
   "cell_type": "code",
   "execution_count": null,
   "metadata": {},
   "outputs": [
    {
     "data": {
      "text/html": [
       "<div>\n",
       "<style scoped>\n",
       "    .dataframe tbody tr th:only-of-type {\n",
       "        vertical-align: middle;\n",
       "    }\n",
       "\n",
       "    .dataframe tbody tr th {\n",
       "        vertical-align: top;\n",
       "    }\n",
       "\n",
       "    .dataframe thead th {\n",
       "        text-align: right;\n",
       "    }\n",
       "</style>\n",
       "<table border=\"1\" class=\"dataframe\">\n",
       "  <thead>\n",
       "    <tr style=\"text-align: right;\">\n",
       "      <th></th>\n",
       "      <th>session</th>\n",
       "      <th>labels</th>\n",
       "      <th>type</th>\n",
       "    </tr>\n",
       "  </thead>\n",
       "  <tbody>\n",
       "    <tr>\n",
       "      <th>0</th>\n",
       "      <td>11098528</td>\n",
       "      <td>[11830, 588923, 876129, 1732105, 307904, 88450...</td>\n",
       "      <td>carts</td>\n",
       "    </tr>\n",
       "    <tr>\n",
       "      <th>1</th>\n",
       "      <td>11098529</td>\n",
       "      <td>[1105029, 982457, 778200, 441348, 295362, 9241...</td>\n",
       "      <td>carts</td>\n",
       "    </tr>\n",
       "    <tr>\n",
       "      <th>2</th>\n",
       "      <td>11098530</td>\n",
       "      <td>[409236, 264500, 963957, 583026, 364155, 25415...</td>\n",
       "      <td>carts</td>\n",
       "    </tr>\n",
       "    <tr>\n",
       "      <th>3</th>\n",
       "      <td>11098531</td>\n",
       "      <td>[396199, 1271998, 452188, 1728212, 1365569, 62...</td>\n",
       "      <td>carts</td>\n",
       "    </tr>\n",
       "    <tr>\n",
       "      <th>4</th>\n",
       "      <td>11098532</td>\n",
       "      <td>[876469, 7651, 669555, 77906, 1159379, 1704066...</td>\n",
       "      <td>carts</td>\n",
       "    </tr>\n",
       "    <tr>\n",
       "      <th>...</th>\n",
       "      <td>...</td>\n",
       "      <td>...</td>\n",
       "      <td>...</td>\n",
       "    </tr>\n",
       "    <tr>\n",
       "      <th>1801246</th>\n",
       "      <td>12899774</td>\n",
       "      <td>[33035, 819288, 1089446, 1167677, 193794, 7719...</td>\n",
       "      <td>carts</td>\n",
       "    </tr>\n",
       "    <tr>\n",
       "      <th>1801247</th>\n",
       "      <td>12899775</td>\n",
       "      <td>[1743151, 155954, 1760714, 1022572, 310546, 17...</td>\n",
       "      <td>carts</td>\n",
       "    </tr>\n",
       "    <tr>\n",
       "      <th>1801248</th>\n",
       "      <td>12899776</td>\n",
       "      <td>[548599, 1150130, 1440959, 1607333, 1330306, 1...</td>\n",
       "      <td>carts</td>\n",
       "    </tr>\n",
       "    <tr>\n",
       "      <th>1801249</th>\n",
       "      <td>12899777</td>\n",
       "      <td>[384045, 1308634, 1515273, 1281056, 1688215, 3...</td>\n",
       "      <td>carts</td>\n",
       "    </tr>\n",
       "    <tr>\n",
       "      <th>1801250</th>\n",
       "      <td>12899778</td>\n",
       "      <td>[561560, 1175618, 816077, 1167224, 1344900, 31...</td>\n",
       "      <td>carts</td>\n",
       "    </tr>\n",
       "  </tbody>\n",
       "</table>\n",
       "<p>1801251 rows × 3 columns</p>\n",
       "</div>"
      ],
      "text/plain": [
       "          session                                             labels   type\n",
       "0        11098528  [11830, 588923, 876129, 1732105, 307904, 88450...  carts\n",
       "1        11098529  [1105029, 982457, 778200, 441348, 295362, 9241...  carts\n",
       "2        11098530  [409236, 264500, 963957, 583026, 364155, 25415...  carts\n",
       "3        11098531  [396199, 1271998, 452188, 1728212, 1365569, 62...  carts\n",
       "4        11098532  [876469, 7651, 669555, 77906, 1159379, 1704066...  carts\n",
       "...           ...                                                ...    ...\n",
       "1801246  12899774  [33035, 819288, 1089446, 1167677, 193794, 7719...  carts\n",
       "1801247  12899775  [1743151, 155954, 1760714, 1022572, 310546, 17...  carts\n",
       "1801248  12899776  [548599, 1150130, 1440959, 1607333, 1330306, 1...  carts\n",
       "1801249  12899777  [384045, 1308634, 1515273, 1281056, 1688215, 3...  carts\n",
       "1801250  12899778  [561560, 1175618, 816077, 1167224, 1344900, 31...  carts\n",
       "\n",
       "[1801251 rows x 3 columns]"
      ]
     },
     "execution_count": 27,
     "metadata": {},
     "output_type": "execute_result"
    }
   ],
   "source": [
    "pred_df_carts['type'] = 'carts'\n",
    "pred_df_carts"
   ]
  },
  {
   "cell_type": "code",
   "execution_count": null,
   "metadata": {},
   "outputs": [
    {
     "data": {
      "text/html": [
       "<div>\n",
       "<style scoped>\n",
       "    .dataframe tbody tr th:only-of-type {\n",
       "        vertical-align: middle;\n",
       "    }\n",
       "\n",
       "    .dataframe tbody tr th {\n",
       "        vertical-align: top;\n",
       "    }\n",
       "\n",
       "    .dataframe thead th {\n",
       "        text-align: right;\n",
       "    }\n",
       "</style>\n",
       "<table border=\"1\" class=\"dataframe\">\n",
       "  <thead>\n",
       "    <tr style=\"text-align: right;\">\n",
       "      <th></th>\n",
       "      <th>session</th>\n",
       "      <th>labels</th>\n",
       "      <th>type</th>\n",
       "    </tr>\n",
       "  </thead>\n",
       "  <tbody>\n",
       "    <tr>\n",
       "      <th>0</th>\n",
       "      <td>11098528</td>\n",
       "      <td>[11830, 588923, 876129, 1732105, 307904, 88450...</td>\n",
       "      <td>orders</td>\n",
       "    </tr>\n",
       "    <tr>\n",
       "      <th>1</th>\n",
       "      <td>11098529</td>\n",
       "      <td>[1105029, 628708, 792887, 1436233, 982457, 890...</td>\n",
       "      <td>orders</td>\n",
       "    </tr>\n",
       "    <tr>\n",
       "      <th>2</th>\n",
       "      <td>11098530</td>\n",
       "      <td>[409236, 264500, 1268065, 963957, 583026, 2108...</td>\n",
       "      <td>orders</td>\n",
       "    </tr>\n",
       "    <tr>\n",
       "      <th>3</th>\n",
       "      <td>11098531</td>\n",
       "      <td>[396199, 1271998, 452188, 1728212, 1365569, 62...</td>\n",
       "      <td>orders</td>\n",
       "    </tr>\n",
       "    <tr>\n",
       "      <th>4</th>\n",
       "      <td>11098532</td>\n",
       "      <td>[876469, 7651, 669555, 77906, 1159379, 1704066...</td>\n",
       "      <td>orders</td>\n",
       "    </tr>\n",
       "    <tr>\n",
       "      <th>...</th>\n",
       "      <td>...</td>\n",
       "      <td>...</td>\n",
       "      <td>...</td>\n",
       "    </tr>\n",
       "    <tr>\n",
       "      <th>1801246</th>\n",
       "      <td>12899774</td>\n",
       "      <td>[33035, 771913, 31490, 1399483, 1053112, 86143...</td>\n",
       "      <td>orders</td>\n",
       "    </tr>\n",
       "    <tr>\n",
       "      <th>1801247</th>\n",
       "      <td>12899775</td>\n",
       "      <td>[1743151, 155954, 1760714, 1022572, 310546, 17...</td>\n",
       "      <td>orders</td>\n",
       "    </tr>\n",
       "    <tr>\n",
       "      <th>1801248</th>\n",
       "      <td>12899776</td>\n",
       "      <td>[548599, 177902, 1150130, 1533919, 861477, 140...</td>\n",
       "      <td>orders</td>\n",
       "    </tr>\n",
       "    <tr>\n",
       "      <th>1801249</th>\n",
       "      <td>12899777</td>\n",
       "      <td>[384045, 1308634, 1821821, 1515273, 1450928, 1...</td>\n",
       "      <td>orders</td>\n",
       "    </tr>\n",
       "    <tr>\n",
       "      <th>1801250</th>\n",
       "      <td>12899778</td>\n",
       "      <td>[561560, 1167224, 1175618, 1132716, 1852787, 8...</td>\n",
       "      <td>orders</td>\n",
       "    </tr>\n",
       "  </tbody>\n",
       "</table>\n",
       "<p>1801251 rows × 3 columns</p>\n",
       "</div>"
      ],
      "text/plain": [
       "          session                                             labels    type\n",
       "0        11098528  [11830, 588923, 876129, 1732105, 307904, 88450...  orders\n",
       "1        11098529  [1105029, 628708, 792887, 1436233, 982457, 890...  orders\n",
       "2        11098530  [409236, 264500, 1268065, 963957, 583026, 2108...  orders\n",
       "3        11098531  [396199, 1271998, 452188, 1728212, 1365569, 62...  orders\n",
       "4        11098532  [876469, 7651, 669555, 77906, 1159379, 1704066...  orders\n",
       "...           ...                                                ...     ...\n",
       "1801246  12899774  [33035, 771913, 31490, 1399483, 1053112, 86143...  orders\n",
       "1801247  12899775  [1743151, 155954, 1760714, 1022572, 310546, 17...  orders\n",
       "1801248  12899776  [548599, 177902, 1150130, 1533919, 861477, 140...  orders\n",
       "1801249  12899777  [384045, 1308634, 1821821, 1515273, 1450928, 1...  orders\n",
       "1801250  12899778  [561560, 1167224, 1175618, 1132716, 1852787, 8...  orders\n",
       "\n",
       "[1801251 rows x 3 columns]"
      ]
     },
     "execution_count": 28,
     "metadata": {},
     "output_type": "execute_result"
    }
   ],
   "source": [
    "pred_df_orders['type'] = 'orders'\n",
    "pred_df_orders"
   ]
  },
  {
   "cell_type": "code",
   "execution_count": null,
   "metadata": {},
   "outputs": [
    {
     "data": {
      "text/html": [
       "<div>\n",
       "<style scoped>\n",
       "    .dataframe tbody tr th:only-of-type {\n",
       "        vertical-align: middle;\n",
       "    }\n",
       "\n",
       "    .dataframe tbody tr th {\n",
       "        vertical-align: top;\n",
       "    }\n",
       "\n",
       "    .dataframe thead th {\n",
       "        text-align: right;\n",
       "    }\n",
       "</style>\n",
       "<table border=\"1\" class=\"dataframe\">\n",
       "  <thead>\n",
       "    <tr style=\"text-align: right;\">\n",
       "      <th></th>\n",
       "      <th>session</th>\n",
       "      <th>labels</th>\n",
       "      <th>type</th>\n",
       "    </tr>\n",
       "  </thead>\n",
       "  <tbody>\n",
       "    <tr>\n",
       "      <th>0</th>\n",
       "      <td>11098528</td>\n",
       "      <td>[11830, 588923, 876129, 1732105, 307904, 20535...</td>\n",
       "      <td>clicks</td>\n",
       "    </tr>\n",
       "    <tr>\n",
       "      <th>1</th>\n",
       "      <td>11098529</td>\n",
       "      <td>[1105029, 297916, 459126, 217742, 1717995, 138...</td>\n",
       "      <td>clicks</td>\n",
       "    </tr>\n",
       "    <tr>\n",
       "      <th>2</th>\n",
       "      <td>11098530</td>\n",
       "      <td>[409236, 264500, 963957, 583026, 210880, 75233...</td>\n",
       "      <td>clicks</td>\n",
       "    </tr>\n",
       "    <tr>\n",
       "      <th>3</th>\n",
       "      <td>11098531</td>\n",
       "      <td>[396199, 1271998, 452188, 1728212, 1365569, 62...</td>\n",
       "      <td>clicks</td>\n",
       "    </tr>\n",
       "    <tr>\n",
       "      <th>4</th>\n",
       "      <td>11098532</td>\n",
       "      <td>[876469, 7651, 669555, 77906, 1159379, 1704066...</td>\n",
       "      <td>clicks</td>\n",
       "    </tr>\n",
       "    <tr>\n",
       "      <th>...</th>\n",
       "      <td>...</td>\n",
       "      <td>...</td>\n",
       "      <td>...</td>\n",
       "    </tr>\n",
       "    <tr>\n",
       "      <th>5403748</th>\n",
       "      <td>12899774</td>\n",
       "      <td>[33035, 771913, 31490, 1399483, 1053112, 86143...</td>\n",
       "      <td>orders</td>\n",
       "    </tr>\n",
       "    <tr>\n",
       "      <th>5403749</th>\n",
       "      <td>12899775</td>\n",
       "      <td>[1743151, 155954, 1760714, 1022572, 310546, 17...</td>\n",
       "      <td>orders</td>\n",
       "    </tr>\n",
       "    <tr>\n",
       "      <th>5403750</th>\n",
       "      <td>12899776</td>\n",
       "      <td>[548599, 177902, 1150130, 1533919, 861477, 140...</td>\n",
       "      <td>orders</td>\n",
       "    </tr>\n",
       "    <tr>\n",
       "      <th>5403751</th>\n",
       "      <td>12899777</td>\n",
       "      <td>[384045, 1308634, 1821821, 1515273, 1450928, 1...</td>\n",
       "      <td>orders</td>\n",
       "    </tr>\n",
       "    <tr>\n",
       "      <th>5403752</th>\n",
       "      <td>12899778</td>\n",
       "      <td>[561560, 1167224, 1175618, 1132716, 1852787, 8...</td>\n",
       "      <td>orders</td>\n",
       "    </tr>\n",
       "  </tbody>\n",
       "</table>\n",
       "<p>5403753 rows × 3 columns</p>\n",
       "</div>"
      ],
      "text/plain": [
       "          session                                             labels    type\n",
       "0        11098528  [11830, 588923, 876129, 1732105, 307904, 20535...  clicks\n",
       "1        11098529  [1105029, 297916, 459126, 217742, 1717995, 138...  clicks\n",
       "2        11098530  [409236, 264500, 963957, 583026, 210880, 75233...  clicks\n",
       "3        11098531  [396199, 1271998, 452188, 1728212, 1365569, 62...  clicks\n",
       "4        11098532  [876469, 7651, 669555, 77906, 1159379, 1704066...  clicks\n",
       "...           ...                                                ...     ...\n",
       "5403748  12899774  [33035, 771913, 31490, 1399483, 1053112, 86143...  orders\n",
       "5403749  12899775  [1743151, 155954, 1760714, 1022572, 310546, 17...  orders\n",
       "5403750  12899776  [548599, 177902, 1150130, 1533919, 861477, 140...  orders\n",
       "5403751  12899777  [384045, 1308634, 1821821, 1515273, 1450928, 1...  orders\n",
       "5403752  12899778  [561560, 1167224, 1175618, 1132716, 1852787, 8...  orders\n",
       "\n",
       "[5403753 rows x 3 columns]"
      ]
     },
     "execution_count": 29,
     "metadata": {},
     "output_type": "execute_result"
    }
   ],
   "source": [
    "pred_df = pd.concat([pred_df_clicks, pred_df_carts, pred_df_orders]).reset_index(drop=True)\n",
    "pred_df"
   ]
  },
  {
   "cell_type": "code",
   "execution_count": null,
   "metadata": {},
   "outputs": [],
   "source": [
    "if SET == 1:\n",
    "    test_label_path = '../input/split_2-1_pqt/test_labels.parquet'\n",
    "elif SET == 2:\n",
    "    test_label_path = '../input/splited/test_labels.parquet'\n",
    "test_labels = pd.read_parquet(test_label_path)"
   ]
  },
  {
   "cell_type": "code",
   "execution_count": null,
   "metadata": {},
   "outputs": [
    {
     "data": {
      "text/html": [
       "<div>\n",
       "<style scoped>\n",
       "    .dataframe tbody tr th:only-of-type {\n",
       "        vertical-align: middle;\n",
       "    }\n",
       "\n",
       "    .dataframe tbody tr th {\n",
       "        vertical-align: top;\n",
       "    }\n",
       "\n",
       "    .dataframe thead th {\n",
       "        text-align: right;\n",
       "    }\n",
       "</style>\n",
       "<table border=\"1\" class=\"dataframe\">\n",
       "  <thead>\n",
       "    <tr style=\"text-align: right;\">\n",
       "      <th></th>\n",
       "      <th>session</th>\n",
       "      <th>type</th>\n",
       "      <th>ground_truth</th>\n",
       "      <th>labels</th>\n",
       "      <th>hits</th>\n",
       "      <th>gt_count</th>\n",
       "    </tr>\n",
       "  </thead>\n",
       "  <tbody>\n",
       "    <tr>\n",
       "      <th>0</th>\n",
       "      <td>11098528</td>\n",
       "      <td>clicks</td>\n",
       "      <td>[1679529]</td>\n",
       "      <td>[11830, 588923, 876129, 1732105, 307904, 20535...</td>\n",
       "      <td>0</td>\n",
       "      <td>1</td>\n",
       "    </tr>\n",
       "    <tr>\n",
       "      <th>1</th>\n",
       "      <td>11098528</td>\n",
       "      <td>carts</td>\n",
       "      <td>[1199737]</td>\n",
       "      <td>[11830, 588923, 876129, 1732105, 307904, 88450...</td>\n",
       "      <td>0</td>\n",
       "      <td>1</td>\n",
       "    </tr>\n",
       "    <tr>\n",
       "      <th>2</th>\n",
       "      <td>11098528</td>\n",
       "      <td>orders</td>\n",
       "      <td>[990658, 950341, 1462506, 1561739, 907564, 369...</td>\n",
       "      <td>[11830, 588923, 876129, 1732105, 307904, 88450...</td>\n",
       "      <td>1</td>\n",
       "      <td>11</td>\n",
       "    </tr>\n",
       "    <tr>\n",
       "      <th>3</th>\n",
       "      <td>11098529</td>\n",
       "      <td>clicks</td>\n",
       "      <td>[1105029]</td>\n",
       "      <td>[1105029, 297916, 459126, 217742, 1717995, 138...</td>\n",
       "      <td>1</td>\n",
       "      <td>1</td>\n",
       "    </tr>\n",
       "    <tr>\n",
       "      <th>4</th>\n",
       "      <td>11098530</td>\n",
       "      <td>orders</td>\n",
       "      <td>[409236]</td>\n",
       "      <td>[409236, 264500, 1268065, 963957, 583026, 2108...</td>\n",
       "      <td>1</td>\n",
       "      <td>1</td>\n",
       "    </tr>\n",
       "    <tr>\n",
       "      <th>...</th>\n",
       "      <td>...</td>\n",
       "      <td>...</td>\n",
       "      <td>...</td>\n",
       "      <td>...</td>\n",
       "      <td>...</td>\n",
       "      <td>...</td>\n",
       "    </tr>\n",
       "    <tr>\n",
       "      <th>2212687</th>\n",
       "      <td>12899774</td>\n",
       "      <td>clicks</td>\n",
       "      <td>[1399483]</td>\n",
       "      <td>[33035, 771913, 31490, 1399483, 1053112, 86143...</td>\n",
       "      <td>1</td>\n",
       "      <td>1</td>\n",
       "    </tr>\n",
       "    <tr>\n",
       "      <th>2212688</th>\n",
       "      <td>12899775</td>\n",
       "      <td>clicks</td>\n",
       "      <td>[1760714]</td>\n",
       "      <td>[1743151, 155954, 1550204, 1760714, 1022572, 3...</td>\n",
       "      <td>1</td>\n",
       "      <td>1</td>\n",
       "    </tr>\n",
       "    <tr>\n",
       "      <th>2212689</th>\n",
       "      <td>12899776</td>\n",
       "      <td>clicks</td>\n",
       "      <td>[1737908]</td>\n",
       "      <td>[548599, 1150130, 793373, 1401030, 1440959, 51...</td>\n",
       "      <td>0</td>\n",
       "      <td>1</td>\n",
       "    </tr>\n",
       "    <tr>\n",
       "      <th>2212690</th>\n",
       "      <td>12899777</td>\n",
       "      <td>clicks</td>\n",
       "      <td>[384045]</td>\n",
       "      <td>[384045, 1308634, 1450928, 1281056, 1688215, 1...</td>\n",
       "      <td>1</td>\n",
       "      <td>1</td>\n",
       "    </tr>\n",
       "    <tr>\n",
       "      <th>2212691</th>\n",
       "      <td>12899778</td>\n",
       "      <td>clicks</td>\n",
       "      <td>[32070]</td>\n",
       "      <td>[561560, 1167224, 32070, 1175618, 1495496, 379...</td>\n",
       "      <td>1</td>\n",
       "      <td>1</td>\n",
       "    </tr>\n",
       "  </tbody>\n",
       "</table>\n",
       "<p>2212692 rows × 6 columns</p>\n",
       "</div>"
      ],
      "text/plain": [
       "          session    type                                       ground_truth  \\\n",
       "0        11098528  clicks                                          [1679529]   \n",
       "1        11098528   carts                                          [1199737]   \n",
       "2        11098528  orders  [990658, 950341, 1462506, 1561739, 907564, 369...   \n",
       "3        11098529  clicks                                          [1105029]   \n",
       "4        11098530  orders                                           [409236]   \n",
       "...           ...     ...                                                ...   \n",
       "2212687  12899774  clicks                                          [1399483]   \n",
       "2212688  12899775  clicks                                          [1760714]   \n",
       "2212689  12899776  clicks                                          [1737908]   \n",
       "2212690  12899777  clicks                                           [384045]   \n",
       "2212691  12899778  clicks                                            [32070]   \n",
       "\n",
       "                                                    labels  hits  gt_count  \n",
       "0        [11830, 588923, 876129, 1732105, 307904, 20535...     0         1  \n",
       "1        [11830, 588923, 876129, 1732105, 307904, 88450...     0         1  \n",
       "2        [11830, 588923, 876129, 1732105, 307904, 88450...     1        11  \n",
       "3        [1105029, 297916, 459126, 217742, 1717995, 138...     1         1  \n",
       "4        [409236, 264500, 1268065, 963957, 583026, 2108...     1         1  \n",
       "...                                                    ...   ...       ...  \n",
       "2212687  [33035, 771913, 31490, 1399483, 1053112, 86143...     1         1  \n",
       "2212688  [1743151, 155954, 1550204, 1760714, 1022572, 3...     1         1  \n",
       "2212689  [548599, 1150130, 793373, 1401030, 1440959, 51...     0         1  \n",
       "2212690  [384045, 1308634, 1450928, 1281056, 1688215, 1...     1         1  \n",
       "2212691  [561560, 1167224, 32070, 1175618, 1495496, 379...     1         1  \n",
       "\n",
       "[2212692 rows x 6 columns]"
      ]
     },
     "execution_count": 31,
     "metadata": {},
     "output_type": "execute_result"
    }
   ],
   "source": [
    "test_labels = test_labels.merge(pred_df, how='left', on=['session', 'type'])\n",
    "test_labels['hits'] = test_labels.apply(lambda df: len(set(df.ground_truth).intersection(set(df.labels[:20]))), axis=1)\n",
    "test_labels['gt_count'] = test_labels.ground_truth.str.len().clip(0,20)\n",
    "test_labels"
   ]
  },
  {
   "cell_type": "code",
   "execution_count": null,
   "metadata": {},
   "outputs": [
    {
     "name": "stdout",
     "output_type": "stream",
     "text": [
      "Set: 2 Top: 100\n",
      "type\n",
      "carts     0.419272\n",
      "clicks    0.536148\n",
      "orders    0.652270\n",
      "dtype: float64\n",
      "0.5707582388019186\n"
     ]
    }
   ],
   "source": [
    "print('Set:', SET, 'Top:', candidatesNum)\n",
    "recall_per_type = test_labels.groupby(['type'])['hits'].sum() / test_labels.groupby(['type'])['gt_count'].sum()\n",
    "print(recall_per_type)\n",
    "score = (recall_per_type * pd.Series({'clicks': 0.10, 'carts': 0.30, 'orders': 0.60})).sum()\n",
    "print(score)"
   ]
  },
  {
   "attachments": {},
   "cell_type": "markdown",
   "metadata": {},
   "source": [
    "## Validate on small dataset"
   ]
  },
  {
   "cell_type": "code",
   "execution_count": 34,
   "metadata": {},
   "outputs": [
    {
     "name": "stderr",
     "output_type": "stream",
     "text": [
      "[autoreload of eventsSuggesterNew failed: Traceback (most recent call last):\n",
      "  File \"/opt/conda/envs/rapids/lib/python3.9/site-packages/IPython/extensions/autoreload.py\", line 261, in check\n",
      "    superreload(m, reload, self.old_objects)\n",
      "  File \"/opt/conda/envs/rapids/lib/python3.9/site-packages/IPython/extensions/autoreload.py\", line 484, in superreload\n",
      "    update_generic(old_obj, new_obj)\n",
      "  File \"/opt/conda/envs/rapids/lib/python3.9/site-packages/IPython/extensions/autoreload.py\", line 381, in update_generic\n",
      "    update(a, b)\n",
      "  File \"/opt/conda/envs/rapids/lib/python3.9/site-packages/IPython/extensions/autoreload.py\", line 349, in update_class\n",
      "    update_instances(old, new)\n",
      "  File \"/opt/conda/envs/rapids/lib/python3.9/site-packages/IPython/extensions/autoreload.py\", line 303, in update_instances\n",
      "    refs = gc.get_referrers(old)\n",
      "KeyboardInterrupt\n",
      "]\n"
     ]
    },
    {
     "data": {
      "text/plain": [
       "123"
      ]
     },
     "execution_count": 34,
     "metadata": {},
     "output_type": "execute_result"
    }
   ],
   "source": [
    "123"
   ]
  },
  {
   "cell_type": "code",
   "execution_count": 11,
   "metadata": {},
   "outputs": [],
   "source": [
    "SET = 2\n",
    "aid2vec_model = gensim.models.KeyedVectors.load_word2vec_format(f'../output/newSplited/savedModel/set_{SET}/otto_aid2vec_5d.bin', binary=True)"
   ]
  },
  {
   "cell_type": "code",
   "execution_count": 322,
   "metadata": {},
   "outputs": [],
   "source": [
    "testA = pd.read_parquet('../input/splited/test.parquet')\n",
    "top_clicks = testA.loc[testA['type']==0,'aid'].value_counts().index.values[:100].astype(np.int32)\n",
    "top_carts = testA.loc[testA['type'] == 1,'aid'].value_counts().index.values[:100].astype(np.int32)\n",
    "top_orders = testA.loc[testA['type'] == 2,'aid'].value_counts().index.values[:100].astype(np.int32)"
   ]
  },
  {
   "cell_type": "code",
   "execution_count": 341,
   "metadata": {},
   "outputs": [
    {
     "data": {
      "text/plain": [
       "3"
      ]
     },
     "execution_count": 341,
     "metadata": {},
     "output_type": "execute_result"
    }
   ],
   "source": [
    "import random\n",
    "from eventsSuggesterNew import ClicksSuggester, BuysSuggester, CartsSuggester\n",
    "\n",
    "testA = pd.read_parquet('../input/splited/test.parquet')\n",
    "random.seed(10)\n",
    "uniqueUser = list(testA.session.unique())\n",
    "keepUsers = random.sample(uniqueUser, int(len(uniqueUser)/10))\n",
    "testA = testA[testA.session.isin(keepUsers)].reset_index(drop=True)\n",
    "\n",
    "predictType = 'orders'\n",
    "# suggester = CartsSuggester(top_carts, top_buy2buy_covisit, top_cartsOrders_covisit, top_click2cart_covisit, aid2vec_model)\n",
    "suggester = BuysSuggester(top_orders, top_buy2buy_covisit, top_cartsOrders_covisit, top_click2order_covisit, aid2vec_model)\n",
    "suggester.a\n",
    "# suggester = ClicksSuggester(top_clicks, top_c2c_covisit, top_clicks_covisit, aid2vec_model)"
   ]
  },
  {
   "cell_type": "code",
   "execution_count": 342,
   "metadata": {},
   "outputs": [
    {
     "data": {
      "application/vnd.jupyter.widget-view+json": {
       "model_id": "1b40716726dc45bc9dfa537802efc707",
       "version_major": 2,
       "version_minor": 0
      },
      "text/plain": [
       "A Jupyter Widget"
      ]
     },
     "metadata": {},
     "output_type": "display_data"
    },
    {
     "data": {
      "text/html": [
       "<div>\n",
       "<style scoped>\n",
       "    .dataframe tbody tr th:only-of-type {\n",
       "        vertical-align: middle;\n",
       "    }\n",
       "\n",
       "    .dataframe tbody tr th {\n",
       "        vertical-align: top;\n",
       "    }\n",
       "\n",
       "    .dataframe thead th {\n",
       "        text-align: right;\n",
       "    }\n",
       "</style>\n",
       "<table border=\"1\" class=\"dataframe\">\n",
       "  <thead>\n",
       "    <tr style=\"text-align: right;\">\n",
       "      <th></th>\n",
       "      <th>session</th>\n",
       "      <th>labels</th>\n",
       "    </tr>\n",
       "  </thead>\n",
       "  <tbody>\n",
       "    <tr>\n",
       "      <th>0</th>\n",
       "      <td>11098529</td>\n",
       "      <td>[1105029, 1135201, 295362, 441348, 1049489, 51...</td>\n",
       "    </tr>\n",
       "    <tr>\n",
       "      <th>1</th>\n",
       "      <td>11098540</td>\n",
       "      <td>[1545215, 1277598, 896787, 789082, 1472725, 10...</td>\n",
       "    </tr>\n",
       "    <tr>\n",
       "      <th>2</th>\n",
       "      <td>11098553</td>\n",
       "      <td>[314297, 1061776, 399992, 1783610, 1125095, 57...</td>\n",
       "    </tr>\n",
       "    <tr>\n",
       "      <th>3</th>\n",
       "      <td>11098557</td>\n",
       "      <td>[1234327, 719075, 1471333, 1732776, 53060, 527...</td>\n",
       "    </tr>\n",
       "    <tr>\n",
       "      <th>4</th>\n",
       "      <td>11098559</td>\n",
       "      <td>[907069, 84703, 1003267, 607328, 1381738, 5999...</td>\n",
       "    </tr>\n",
       "    <tr>\n",
       "      <th>...</th>\n",
       "      <td>...</td>\n",
       "      <td>...</td>\n",
       "    </tr>\n",
       "    <tr>\n",
       "      <th>180120</th>\n",
       "      <td>12899695</td>\n",
       "      <td>[206768, 1712543, 1005385, 1572478, 413094, 18...</td>\n",
       "    </tr>\n",
       "    <tr>\n",
       "      <th>180121</th>\n",
       "      <td>12899714</td>\n",
       "      <td>[559593, 138753, 683268, 472892, 1839548, 5541...</td>\n",
       "    </tr>\n",
       "    <tr>\n",
       "      <th>180122</th>\n",
       "      <td>12899719</td>\n",
       "      <td>[1217083, 250637, 132109, 226025, 508883, 1156...</td>\n",
       "    </tr>\n",
       "    <tr>\n",
       "      <th>180123</th>\n",
       "      <td>12899763</td>\n",
       "      <td>[1539032, 750901, 95488, 873385, 1854775, 3695...</td>\n",
       "    </tr>\n",
       "    <tr>\n",
       "      <th>180124</th>\n",
       "      <td>12899773</td>\n",
       "      <td>[1311526, 37930, 125520, 132574, 781068, 98155...</td>\n",
       "    </tr>\n",
       "  </tbody>\n",
       "</table>\n",
       "<p>180125 rows × 2 columns</p>\n",
       "</div>"
      ],
      "text/plain": [
       "         session                                             labels\n",
       "0       11098529  [1105029, 1135201, 295362, 441348, 1049489, 51...\n",
       "1       11098540  [1545215, 1277598, 896787, 789082, 1472725, 10...\n",
       "2       11098553  [314297, 1061776, 399992, 1783610, 1125095, 57...\n",
       "3       11098557  [1234327, 719075, 1471333, 1732776, 53060, 527...\n",
       "4       11098559  [907069, 84703, 1003267, 607328, 1381738, 5999...\n",
       "...          ...                                                ...\n",
       "180120  12899695  [206768, 1712543, 1005385, 1572478, 413094, 18...\n",
       "180121  12899714  [559593, 138753, 683268, 472892, 1839548, 5541...\n",
       "180122  12899719  [1217083, 250637, 132109, 226025, 508883, 1156...\n",
       "180123  12899763  [1539032, 750901, 95488, 873385, 1854775, 3695...\n",
       "180124  12899773  [1311526, 37930, 125520, 132574, 781068, 98155...\n",
       "\n",
       "[180125 rows x 2 columns]"
      ]
     },
     "execution_count": 342,
     "metadata": {},
     "output_type": "execute_result"
    }
   ],
   "source": [
    "tqdm.pandas()\n",
    "pred_df = testA.sort_values([\"session\", \"ts\"]).groupby([\"session\"]).progress_apply(lambda x: suggester.suggest(x, candidatesNum)).to_frame().reset_index()\n",
    "pred_df.columns = ['session', 'labels']\n",
    "pred_df['session'] = pred_df['session'].astype('int32')\n",
    "pred_df"
   ]
  },
  {
   "cell_type": "code",
   "execution_count": 343,
   "metadata": {},
   "outputs": [
    {
     "data": {
      "text/plain": [
       "0.6915200924380537"
      ]
     },
     "execution_count": 343,
     "metadata": {},
     "output_type": "execute_result"
    }
   ],
   "source": [
    "pred_df['type'] = predictType\n",
    "test_labels = pd.read_parquet('../input/splited/test_labels.parquet')\n",
    "type_labels = test_labels[test_labels['type'] == predictType]\n",
    "type_labels = type_labels.merge(pred_df, how='left', on=['session', 'type']).dropna()\n",
    "type_labels['hits'] = type_labels.apply(lambda df: len(set(df.ground_truth).intersection(set(df.labels))), axis=1)\n",
    "type_labels['gt_count'] = type_labels.ground_truth.str.len().clip(0,20)\n",
    "recall_per_type = type_labels['hits'].sum() / type_labels['gt_count'].sum()\n",
    "recall_per_type"
   ]
  },
  {
   "cell_type": "code",
   "execution_count": 344,
   "metadata": {},
   "outputs": [
    {
     "data": {
      "text/plain": [
       "0.6517203748876621"
      ]
     },
     "execution_count": 344,
     "metadata": {},
     "output_type": "execute_result"
    }
   ],
   "source": [
    "pred_df['type'] = predictType\n",
    "test_labels = pd.read_parquet('../input/splited/test_labels.parquet')\n",
    "type_labels = test_labels[test_labels['type'] == predictType]\n",
    "type_labels = type_labels.merge(pred_df, how='left', on=['session', 'type']).dropna()\n",
    "type_labels['hits'] = type_labels.apply(lambda df: len(set(df.ground_truth).intersection(set(df.labels[:20]))), axis=1)\n",
    "type_labels['gt_count'] = type_labels.ground_truth.str.len().clip(0,20)\n",
    "recall_per_type20 = type_labels['hits'].sum() / type_labels['gt_count'].sum()\n",
    "recall_per_type20"
   ]
  },
  {
   "cell_type": "code",
   "execution_count": null,
   "metadata": {},
   "outputs": [],
   "source": []
  },
  {
   "cell_type": "code",
   "execution_count": 40,
   "metadata": {},
   "outputs": [
    {
     "data": {
      "text/plain": [
       "0.6453853787628184"
      ]
     },
     "execution_count": 40,
     "metadata": {},
     "output_type": "execute_result"
    }
   ],
   "source": []
  },
  {
   "attachments": {},
   "cell_type": "markdown",
   "metadata": {},
   "source": [
    "/10"
   ]
  },
  {
   "cell_type": "code",
   "execution_count": null,
   "metadata": {},
   "outputs": [
    {
     "data": {
      "text/plain": [
       "0.6890807549107716"
      ]
     },
     "execution_count": 231,
     "metadata": {},
     "output_type": "execute_result"
    }
   ],
   "source": []
  },
  {
   "cell_type": "code",
   "execution_count": null,
   "metadata": {},
   "outputs": [
    {
     "data": {
      "text/plain": [
       "0.6516882783412504"
      ]
     },
     "execution_count": 232,
     "metadata": {},
     "output_type": "execute_result"
    }
   ],
   "source": []
  },
  {
   "attachments": {},
   "cell_type": "markdown",
   "metadata": {},
   "source": [
    "## old"
   ]
  },
  {
   "cell_type": "code",
   "execution_count": null,
   "metadata": {},
   "outputs": [
    {
     "data": {
      "text/plain": [
       "0.47257675060365645"
      ]
     },
     "execution_count": 133,
     "metadata": {},
     "output_type": "execute_result"
    }
   ],
   "source": [
    "0.6877647965078958\n",
    "0.6505328026704327"
   ]
  },
  {
   "attachments": {},
   "cell_type": "markdown",
   "metadata": {},
   "source": [
    "## now"
   ]
  },
  {
   "cell_type": "code",
   "execution_count": null,
   "metadata": {},
   "outputs": [
    {
     "data": {
      "text/plain": [
       "0.47440496723007936"
      ]
     },
     "execution_count": 128,
     "metadata": {},
     "output_type": "execute_result"
    }
   ],
   "source": [
    "0.6885993067145975\n",
    "0.6516882783412504"
   ]
  },
  {
   "attachments": {},
   "cell_type": "markdown",
   "metadata": {},
   "source": [
    "new"
   ]
  },
  {
   "cell_type": "code",
   "execution_count": null,
   "metadata": {},
   "outputs": [],
   "source": [
    "0.602599650419326\n",
    "0.5365550931171323"
   ]
  },
  {
   "cell_type": "code",
   "execution_count": null,
   "metadata": {},
   "outputs": [],
   "source": [
    "0.5057669362322683\n",
    "0.4402757523531751"
   ]
  },
  {
   "cell_type": "code",
   "execution_count": null,
   "metadata": {},
   "outputs": [],
   "source": [
    "0.6920978302734626\n",
    "0.651399409423546"
   ]
  },
  {
   "attachments": {},
   "cell_type": "markdown",
   "metadata": {},
   "source": [
    "yesterday"
   ]
  },
  {
   "cell_type": "code",
   "execution_count": null,
   "metadata": {},
   "outputs": [
    {
     "data": {
      "text/plain": [
       "0.5381151111085807"
      ]
     },
     "execution_count": 175,
     "metadata": {},
     "output_type": "execute_result"
    }
   ],
   "source": []
  },
  {
   "cell_type": "code",
   "execution_count": null,
   "metadata": {},
   "outputs": [
    {
     "data": {
      "text/plain": [
       "0.4205588133839255"
      ]
     },
     "execution_count": 99,
     "metadata": {},
     "output_type": "execute_result"
    }
   ],
   "source": []
  },
  {
   "cell_type": "code",
   "execution_count": null,
   "metadata": {},
   "outputs": [
    {
     "data": {
      "text/plain": [
       "0.6516882783412504"
      ]
     },
     "execution_count": 83,
     "metadata": {},
     "output_type": "execute_result"
    }
   ],
   "source": []
  },
  {
   "cell_type": "code",
   "execution_count": null,
   "metadata": {},
   "outputs": [
    {
     "data": {
      "text/plain": [
       "0.570992122130786"
      ]
     },
     "execution_count": 176,
     "metadata": {},
     "output_type": "execute_result"
    }
   ],
   "source": [
    "0.4205588133839255*0.3 + 0.5381151111085807*0.1 + 0.6516882783412504*0.6"
   ]
  },
  {
   "attachments": {},
   "cell_type": "markdown",
   "metadata": {},
   "source": [
    "## Submit only covisitation candidates (for SET == 3)"
   ]
  },
  {
   "cell_type": "code",
   "execution_count": null,
   "metadata": {},
   "outputs": [
    {
     "data": {
      "text/html": [
       "<div>\n",
       "<style scoped>\n",
       "    .dataframe tbody tr th:only-of-type {\n",
       "        vertical-align: middle;\n",
       "    }\n",
       "\n",
       "    .dataframe tbody tr th {\n",
       "        vertical-align: top;\n",
       "    }\n",
       "\n",
       "    .dataframe thead th {\n",
       "        text-align: right;\n",
       "    }\n",
       "</style>\n",
       "<table border=\"1\" class=\"dataframe\">\n",
       "  <thead>\n",
       "    <tr style=\"text-align: right;\">\n",
       "      <th></th>\n",
       "      <th>session</th>\n",
       "      <th>labels</th>\n",
       "    </tr>\n",
       "  </thead>\n",
       "  <tbody>\n",
       "    <tr>\n",
       "      <th>0</th>\n",
       "      <td>12899779_clicks</td>\n",
       "      <td>[59625, 1253524, 737445, 438191, 731692, 17907...</td>\n",
       "    </tr>\n",
       "    <tr>\n",
       "      <th>1</th>\n",
       "      <td>12899780_clicks</td>\n",
       "      <td>[1142000, 736515, 973453, 582732, 1502122, 889...</td>\n",
       "    </tr>\n",
       "    <tr>\n",
       "      <th>2</th>\n",
       "      <td>12899781_clicks</td>\n",
       "      <td>[918667, 199008, 194067, 57315, 141736, 146057...</td>\n",
       "    </tr>\n",
       "    <tr>\n",
       "      <th>3</th>\n",
       "      <td>12899782_clicks</td>\n",
       "      <td>[1007613, 595994, 1033148, 834354, 479970, 169...</td>\n",
       "    </tr>\n",
       "    <tr>\n",
       "      <th>4</th>\n",
       "      <td>12899783_clicks</td>\n",
       "      <td>[1817895, 607638, 1754419, 1216820, 1729553, 3...</td>\n",
       "    </tr>\n",
       "    <tr>\n",
       "      <th>...</th>\n",
       "      <td>...</td>\n",
       "      <td>...</td>\n",
       "    </tr>\n",
       "    <tr>\n",
       "      <th>1671798</th>\n",
       "      <td>14571577_clicks</td>\n",
       "      <td>[1141710, 1276792, 1004292, 1666114, 367734, 8...</td>\n",
       "    </tr>\n",
       "    <tr>\n",
       "      <th>1671799</th>\n",
       "      <td>14571578_clicks</td>\n",
       "      <td>[519105, 977826, 1811714, 822641, 815460, 1536...</td>\n",
       "    </tr>\n",
       "    <tr>\n",
       "      <th>1671800</th>\n",
       "      <td>14571579_clicks</td>\n",
       "      <td>[739876, 1209992, 1750859, 1550479, 51363, 785...</td>\n",
       "    </tr>\n",
       "    <tr>\n",
       "      <th>1671801</th>\n",
       "      <td>14571580_clicks</td>\n",
       "      <td>[202353, 1314576, 433425, 871658, 1231403, 925...</td>\n",
       "    </tr>\n",
       "    <tr>\n",
       "      <th>1671802</th>\n",
       "      <td>14571581_clicks</td>\n",
       "      <td>[1100210, 1684953, 462056, 1158237, 1401429, 6...</td>\n",
       "    </tr>\n",
       "  </tbody>\n",
       "</table>\n",
       "<p>1671803 rows × 2 columns</p>\n",
       "</div>"
      ],
      "text/plain": [
       "                 session                                             labels\n",
       "0        12899779_clicks  [59625, 1253524, 737445, 438191, 731692, 17907...\n",
       "1        12899780_clicks  [1142000, 736515, 973453, 582732, 1502122, 889...\n",
       "2        12899781_clicks  [918667, 199008, 194067, 57315, 141736, 146057...\n",
       "3        12899782_clicks  [1007613, 595994, 1033148, 834354, 479970, 169...\n",
       "4        12899783_clicks  [1817895, 607638, 1754419, 1216820, 1729553, 3...\n",
       "...                  ...                                                ...\n",
       "1671798  14571577_clicks  [1141710, 1276792, 1004292, 1666114, 367734, 8...\n",
       "1671799  14571578_clicks  [519105, 977826, 1811714, 822641, 815460, 1536...\n",
       "1671800  14571579_clicks  [739876, 1209992, 1750859, 1550479, 51363, 785...\n",
       "1671801  14571580_clicks  [202353, 1314576, 433425, 871658, 1231403, 925...\n",
       "1671802  14571581_clicks  [1100210, 1684953, 462056, 1158237, 1401429, 6...\n",
       "\n",
       "[1671803 rows x 2 columns]"
      ]
     },
     "execution_count": 21,
     "metadata": {},
     "output_type": "execute_result"
    }
   ],
   "source": [
    "pred_df_clicks.session = pred_df_clicks.session.apply(lambda x: str(x) + '_' + 'clicks')\n",
    "pred_df_clicks.labels = pred_df_clicks.labels.apply(lambda x: x[:20])\n",
    "\n",
    "pred_df_clicks"
   ]
  },
  {
   "cell_type": "code",
   "execution_count": null,
   "metadata": {},
   "outputs": [
    {
     "data": {
      "text/html": [
       "<div>\n",
       "<style scoped>\n",
       "    .dataframe tbody tr th:only-of-type {\n",
       "        vertical-align: middle;\n",
       "    }\n",
       "\n",
       "    .dataframe tbody tr th {\n",
       "        vertical-align: top;\n",
       "    }\n",
       "\n",
       "    .dataframe thead th {\n",
       "        text-align: right;\n",
       "    }\n",
       "</style>\n",
       "<table border=\"1\" class=\"dataframe\">\n",
       "  <thead>\n",
       "    <tr style=\"text-align: right;\">\n",
       "      <th></th>\n",
       "      <th>session</th>\n",
       "      <th>labels</th>\n",
       "    </tr>\n",
       "  </thead>\n",
       "  <tbody>\n",
       "    <tr>\n",
       "      <th>0</th>\n",
       "      <td>12899779_carts</td>\n",
       "      <td>[59625, 397451, 469285, 689970, 1493965, 48525...</td>\n",
       "    </tr>\n",
       "    <tr>\n",
       "      <th>1</th>\n",
       "      <td>12899780_carts</td>\n",
       "      <td>[1142000, 736515, 973453, 582732, 487136, 1263...</td>\n",
       "    </tr>\n",
       "    <tr>\n",
       "      <th>2</th>\n",
       "      <td>12899781_carts</td>\n",
       "      <td>[918667, 199008, 194067, 57315, 141736, 759436...</td>\n",
       "    </tr>\n",
       "    <tr>\n",
       "      <th>3</th>\n",
       "      <td>12899782_carts</td>\n",
       "      <td>[1007613, 595994, 1033148, 834354, 479970, 169...</td>\n",
       "    </tr>\n",
       "    <tr>\n",
       "      <th>4</th>\n",
       "      <td>12899783_carts</td>\n",
       "      <td>[1817895, 607638, 1754419, 1216820, 1729553, 3...</td>\n",
       "    </tr>\n",
       "    <tr>\n",
       "      <th>...</th>\n",
       "      <td>...</td>\n",
       "      <td>...</td>\n",
       "    </tr>\n",
       "    <tr>\n",
       "      <th>1671798</th>\n",
       "      <td>14571577_carts</td>\n",
       "      <td>[1141710, 86916, 1276792, 1006198, 631085, 768...</td>\n",
       "    </tr>\n",
       "    <tr>\n",
       "      <th>1671799</th>\n",
       "      <td>14571578_carts</td>\n",
       "      <td>[519105, 977826, 664851, 1498443, 1736598, 652...</td>\n",
       "    </tr>\n",
       "    <tr>\n",
       "      <th>1671800</th>\n",
       "      <td>14571579_carts</td>\n",
       "      <td>[739876, 1209992, 1550479, 785544, 1750859, 87...</td>\n",
       "    </tr>\n",
       "    <tr>\n",
       "      <th>1671801</th>\n",
       "      <td>14571580_carts</td>\n",
       "      <td>[202353, 387358, 433425, 528665, 575020, 84809...</td>\n",
       "    </tr>\n",
       "    <tr>\n",
       "      <th>1671802</th>\n",
       "      <td>14571581_carts</td>\n",
       "      <td>[1100210, 1684953, 462056, 1401429, 622489, 10...</td>\n",
       "    </tr>\n",
       "  </tbody>\n",
       "</table>\n",
       "<p>1671803 rows × 2 columns</p>\n",
       "</div>"
      ],
      "text/plain": [
       "                session                                             labels\n",
       "0        12899779_carts  [59625, 397451, 469285, 689970, 1493965, 48525...\n",
       "1        12899780_carts  [1142000, 736515, 973453, 582732, 487136, 1263...\n",
       "2        12899781_carts  [918667, 199008, 194067, 57315, 141736, 759436...\n",
       "3        12899782_carts  [1007613, 595994, 1033148, 834354, 479970, 169...\n",
       "4        12899783_carts  [1817895, 607638, 1754419, 1216820, 1729553, 3...\n",
       "...                 ...                                                ...\n",
       "1671798  14571577_carts  [1141710, 86916, 1276792, 1006198, 631085, 768...\n",
       "1671799  14571578_carts  [519105, 977826, 664851, 1498443, 1736598, 652...\n",
       "1671800  14571579_carts  [739876, 1209992, 1550479, 785544, 1750859, 87...\n",
       "1671801  14571580_carts  [202353, 387358, 433425, 528665, 575020, 84809...\n",
       "1671802  14571581_carts  [1100210, 1684953, 462056, 1401429, 622489, 10...\n",
       "\n",
       "[1671803 rows x 2 columns]"
      ]
     },
     "execution_count": 20,
     "metadata": {},
     "output_type": "execute_result"
    }
   ],
   "source": [
    "pred_df_carts.session = pred_df_carts.session.apply(lambda x: str(x) + '_' + 'carts')\n",
    "pred_df_carts.labels = pred_df_carts.labels.apply(lambda x: x[:20])\n",
    "\n",
    "pred_df_carts"
   ]
  },
  {
   "cell_type": "code",
   "execution_count": null,
   "metadata": {},
   "outputs": [
    {
     "data": {
      "text/html": [
       "<div>\n",
       "<style scoped>\n",
       "    .dataframe tbody tr th:only-of-type {\n",
       "        vertical-align: middle;\n",
       "    }\n",
       "\n",
       "    .dataframe tbody tr th {\n",
       "        vertical-align: top;\n",
       "    }\n",
       "\n",
       "    .dataframe thead th {\n",
       "        text-align: right;\n",
       "    }\n",
       "</style>\n",
       "<table border=\"1\" class=\"dataframe\">\n",
       "  <thead>\n",
       "    <tr style=\"text-align: right;\">\n",
       "      <th></th>\n",
       "      <th>session</th>\n",
       "      <th>labels</th>\n",
       "    </tr>\n",
       "  </thead>\n",
       "  <tbody>\n",
       "    <tr>\n",
       "      <th>0</th>\n",
       "      <td>12899779_orders</td>\n",
       "      <td>[59625, 485256, 986164, 1460571, 33343, 554660...</td>\n",
       "    </tr>\n",
       "    <tr>\n",
       "      <th>1</th>\n",
       "      <td>12899780_orders</td>\n",
       "      <td>[1142000, 736515, 973453, 582732, 487136, 1758...</td>\n",
       "    </tr>\n",
       "    <tr>\n",
       "      <th>2</th>\n",
       "      <td>12899781_orders</td>\n",
       "      <td>[918667, 199008, 194067, 57315, 141736, 146057...</td>\n",
       "    </tr>\n",
       "    <tr>\n",
       "      <th>3</th>\n",
       "      <td>12899782_orders</td>\n",
       "      <td>[1007613, 595994, 1033148, 834354, 479970, 169...</td>\n",
       "    </tr>\n",
       "    <tr>\n",
       "      <th>4</th>\n",
       "      <td>12899783_orders</td>\n",
       "      <td>[1817895, 607638, 1754419, 1216820, 1729553, 3...</td>\n",
       "    </tr>\n",
       "    <tr>\n",
       "      <th>...</th>\n",
       "      <td>...</td>\n",
       "      <td>...</td>\n",
       "    </tr>\n",
       "    <tr>\n",
       "      <th>1671798</th>\n",
       "      <td>14571577_orders</td>\n",
       "      <td>[1141710, 1006198, 1432586, 1523164, 485256, 9...</td>\n",
       "    </tr>\n",
       "    <tr>\n",
       "      <th>1671799</th>\n",
       "      <td>14571578_orders</td>\n",
       "      <td>[519105, 664851, 1498443, 1736598, 485256, 986...</td>\n",
       "    </tr>\n",
       "    <tr>\n",
       "      <th>1671800</th>\n",
       "      <td>14571579_orders</td>\n",
       "      <td>[739876, 785544, 876416, 1750859, 12334, 12479...</td>\n",
       "    </tr>\n",
       "    <tr>\n",
       "      <th>1671801</th>\n",
       "      <td>14571580_orders</td>\n",
       "      <td>[202353, 336919, 14540, 32322, 79147, 105517, ...</td>\n",
       "    </tr>\n",
       "    <tr>\n",
       "      <th>1671802</th>\n",
       "      <td>14571581_orders</td>\n",
       "      <td>[1100210, 1684953, 462056, 514866, 1072049, 12...</td>\n",
       "    </tr>\n",
       "  </tbody>\n",
       "</table>\n",
       "<p>1671803 rows × 2 columns</p>\n",
       "</div>"
      ],
      "text/plain": [
       "                 session                                             labels\n",
       "0        12899779_orders  [59625, 485256, 986164, 1460571, 33343, 554660...\n",
       "1        12899780_orders  [1142000, 736515, 973453, 582732, 487136, 1758...\n",
       "2        12899781_orders  [918667, 199008, 194067, 57315, 141736, 146057...\n",
       "3        12899782_orders  [1007613, 595994, 1033148, 834354, 479970, 169...\n",
       "4        12899783_orders  [1817895, 607638, 1754419, 1216820, 1729553, 3...\n",
       "...                  ...                                                ...\n",
       "1671798  14571577_orders  [1141710, 1006198, 1432586, 1523164, 485256, 9...\n",
       "1671799  14571578_orders  [519105, 664851, 1498443, 1736598, 485256, 986...\n",
       "1671800  14571579_orders  [739876, 785544, 876416, 1750859, 12334, 12479...\n",
       "1671801  14571580_orders  [202353, 336919, 14540, 32322, 79147, 105517, ...\n",
       "1671802  14571581_orders  [1100210, 1684953, 462056, 514866, 1072049, 12...\n",
       "\n",
       "[1671803 rows x 2 columns]"
      ]
     },
     "execution_count": 22,
     "metadata": {},
     "output_type": "execute_result"
    }
   ],
   "source": [
    "pred_df_orders.session = pred_df_orders.session.apply(lambda x: str(x) + '_' + 'orders')\n",
    "pred_df_orders.labels = pred_df_orders.labels.apply(lambda x: x[:20])\n",
    "\n",
    "pred_df_orders"
   ]
  },
  {
   "cell_type": "code",
   "execution_count": null,
   "metadata": {},
   "outputs": [
    {
     "data": {
      "text/html": [
       "<div>\n",
       "<style scoped>\n",
       "    .dataframe tbody tr th:only-of-type {\n",
       "        vertical-align: middle;\n",
       "    }\n",
       "\n",
       "    .dataframe tbody tr th {\n",
       "        vertical-align: top;\n",
       "    }\n",
       "\n",
       "    .dataframe thead th {\n",
       "        text-align: right;\n",
       "    }\n",
       "</style>\n",
       "<table border=\"1\" class=\"dataframe\">\n",
       "  <thead>\n",
       "    <tr style=\"text-align: right;\">\n",
       "      <th></th>\n",
       "      <th>session_type</th>\n",
       "      <th>labels</th>\n",
       "    </tr>\n",
       "  </thead>\n",
       "  <tbody>\n",
       "    <tr>\n",
       "      <th>0</th>\n",
       "      <td>12899779_clicks</td>\n",
       "      <td>59625 1253524 737445 438191 731692 1790770 942...</td>\n",
       "    </tr>\n",
       "    <tr>\n",
       "      <th>1</th>\n",
       "      <td>12899780_clicks</td>\n",
       "      <td>1142000 736515 973453 582732 1502122 889686 48...</td>\n",
       "    </tr>\n",
       "    <tr>\n",
       "      <th>2</th>\n",
       "      <td>12899781_clicks</td>\n",
       "      <td>918667 199008 194067 57315 141736 1460571 7594...</td>\n",
       "    </tr>\n",
       "    <tr>\n",
       "      <th>3</th>\n",
       "      <td>12899782_clicks</td>\n",
       "      <td>1007613 595994 1033148 834354 479970 1696036 8...</td>\n",
       "    </tr>\n",
       "    <tr>\n",
       "      <th>4</th>\n",
       "      <td>12899783_clicks</td>\n",
       "      <td>1817895 607638 1754419 1216820 1729553 300127 ...</td>\n",
       "    </tr>\n",
       "    <tr>\n",
       "      <th>...</th>\n",
       "      <td>...</td>\n",
       "      <td>...</td>\n",
       "    </tr>\n",
       "    <tr>\n",
       "      <th>1671798</th>\n",
       "      <td>14571577_orders</td>\n",
       "      <td>1141710 1006198 1432586 1523164 485256 986164 ...</td>\n",
       "    </tr>\n",
       "    <tr>\n",
       "      <th>1671799</th>\n",
       "      <td>14571578_orders</td>\n",
       "      <td>519105 664851 1498443 1736598 485256 986164 14...</td>\n",
       "    </tr>\n",
       "    <tr>\n",
       "      <th>1671800</th>\n",
       "      <td>14571579_orders</td>\n",
       "      <td>739876 785544 876416 1750859 12334 124793 1286...</td>\n",
       "    </tr>\n",
       "    <tr>\n",
       "      <th>1671801</th>\n",
       "      <td>14571580_orders</td>\n",
       "      <td>202353 336919 14540 32322 79147 105517 218014 ...</td>\n",
       "    </tr>\n",
       "    <tr>\n",
       "      <th>1671802</th>\n",
       "      <td>14571581_orders</td>\n",
       "      <td>1100210 1684953 462056 514866 1072049 1281805 ...</td>\n",
       "    </tr>\n",
       "  </tbody>\n",
       "</table>\n",
       "<p>5015409 rows × 2 columns</p>\n",
       "</div>"
      ],
      "text/plain": [
       "            session_type                                             labels\n",
       "0        12899779_clicks  59625 1253524 737445 438191 731692 1790770 942...\n",
       "1        12899780_clicks  1142000 736515 973453 582732 1502122 889686 48...\n",
       "2        12899781_clicks  918667 199008 194067 57315 141736 1460571 7594...\n",
       "3        12899782_clicks  1007613 595994 1033148 834354 479970 1696036 8...\n",
       "4        12899783_clicks  1817895 607638 1754419 1216820 1729553 300127 ...\n",
       "...                  ...                                                ...\n",
       "1671798  14571577_orders  1141710 1006198 1432586 1523164 485256 986164 ...\n",
       "1671799  14571578_orders  519105 664851 1498443 1736598 485256 986164 14...\n",
       "1671800  14571579_orders  739876 785544 876416 1750859 12334 124793 1286...\n",
       "1671801  14571580_orders  202353 336919 14540 32322 79147 105517 218014 ...\n",
       "1671802  14571581_orders  1100210 1684953 462056 514866 1072049 1281805 ...\n",
       "\n",
       "[5015409 rows x 2 columns]"
      ]
     },
     "execution_count": 23,
     "metadata": {},
     "output_type": "execute_result"
    }
   ],
   "source": [
    "pred_df = pd.concat([pred_df_clicks, pred_df_carts, pred_df_orders])\n",
    "pred_df.columns = [\"session_type\", \"labels\"]\n",
    "pred_df[\"labels\"] = pred_df.labels.apply(lambda x: \" \".join(map(str,x)))\n",
    "pred_df"
   ]
  },
  {
   "cell_type": "code",
   "execution_count": null,
   "metadata": {},
   "outputs": [],
   "source": [
    "pred_df.to_csv(f'../submissions/covisitCandidates_{note_candidate}.csv', index=False)"
   ]
  },
  {
   "attachments": {},
   "cell_type": "markdown",
   "metadata": {},
   "source": [
    "## Top50 to top20"
   ]
  },
  {
   "cell_type": "code",
   "execution_count": null,
   "metadata": {},
   "outputs": [],
   "source": [
    "subs = []\n",
    "clicks_pred_df = pd.read_parquet('../output/newSplited/candidates_set3_top50_covisit_15_20_15/clicksCandidate.pqt')\n",
    "carts_pred_df = pd.read_parquet('../output/newSplited/candidates_set3_top50_covisit_15_20_15/buysCandidate.pqt')\n",
    "orders_pred_df = pd.read_parquet('../output/newSplited/candidates_set3_top50_covisit_15_20_15/buysCandidate.pqt')\n"
   ]
  },
  {
   "cell_type": "code",
   "execution_count": null,
   "metadata": {},
   "outputs": [],
   "source": [
    "clicks_pred_df.session = clicks_pred_df.session.apply(lambda x: str(x) + '_' + 'clicks')\n",
    "clicks_pred_df.labels = clicks_pred_df.labels.apply(lambda x: x[:20])"
   ]
  },
  {
   "cell_type": "code",
   "execution_count": null,
   "metadata": {},
   "outputs": [],
   "source": [
    "carts_pred_df.session = carts_pred_df.session.apply(lambda x: str(x) + '_' + 'carts')\n",
    "carts_pred_df.labels = carts_pred_df.labels.apply(lambda x: x[:20])"
   ]
  },
  {
   "cell_type": "code",
   "execution_count": null,
   "metadata": {},
   "outputs": [],
   "source": [
    "orders_pred_df.session = orders_pred_df.session.apply(lambda x: str(x) + '_' + 'orders')\n",
    "orders_pred_df.labels = orders_pred_df.labels.apply(lambda x: x[:20])"
   ]
  },
  {
   "cell_type": "code",
   "execution_count": null,
   "metadata": {},
   "outputs": [
    {
     "data": {
      "text/html": [
       "<div>\n",
       "<style scoped>\n",
       "    .dataframe tbody tr th:only-of-type {\n",
       "        vertical-align: middle;\n",
       "    }\n",
       "\n",
       "    .dataframe tbody tr th {\n",
       "        vertical-align: top;\n",
       "    }\n",
       "\n",
       "    .dataframe thead th {\n",
       "        text-align: right;\n",
       "    }\n",
       "</style>\n",
       "<table border=\"1\" class=\"dataframe\">\n",
       "  <thead>\n",
       "    <tr style=\"text-align: right;\">\n",
       "      <th></th>\n",
       "      <th>session_type</th>\n",
       "      <th>labels</th>\n",
       "    </tr>\n",
       "  </thead>\n",
       "  <tbody>\n",
       "    <tr>\n",
       "      <th>0</th>\n",
       "      <td>12899779_clicks</td>\n",
       "      <td>59625 1253524 737445 438191 731692 1790770 942...</td>\n",
       "    </tr>\n",
       "    <tr>\n",
       "      <th>1</th>\n",
       "      <td>12899780_clicks</td>\n",
       "      <td>1142000 736515 973453 582732 1502122 889686 48...</td>\n",
       "    </tr>\n",
       "    <tr>\n",
       "      <th>2</th>\n",
       "      <td>12899781_clicks</td>\n",
       "      <td>918667 199008 194067 57315 141736 1460571 7594...</td>\n",
       "    </tr>\n",
       "    <tr>\n",
       "      <th>3</th>\n",
       "      <td>12899782_clicks</td>\n",
       "      <td>1007613 595994 1033148 834354 479970 1696036 8...</td>\n",
       "    </tr>\n",
       "    <tr>\n",
       "      <th>4</th>\n",
       "      <td>12899783_clicks</td>\n",
       "      <td>1817895 607638 1754419 1216820 1729553 300127 ...</td>\n",
       "    </tr>\n",
       "    <tr>\n",
       "      <th>...</th>\n",
       "      <td>...</td>\n",
       "      <td>...</td>\n",
       "    </tr>\n",
       "    <tr>\n",
       "      <th>1671798</th>\n",
       "      <td>14571577_orders</td>\n",
       "      <td>1141710 1276792 1666114 86916 631085 1004292 3...</td>\n",
       "    </tr>\n",
       "    <tr>\n",
       "      <th>1671799</th>\n",
       "      <td>14571578_orders</td>\n",
       "      <td>519105 977826 1811714 822641 1671592 815460 15...</td>\n",
       "    </tr>\n",
       "    <tr>\n",
       "      <th>1671800</th>\n",
       "      <td>14571579_orders</td>\n",
       "      <td>739876 1209992 1750859 1550479 785544 51363 21...</td>\n",
       "    </tr>\n",
       "    <tr>\n",
       "      <th>1671801</th>\n",
       "      <td>14571580_orders</td>\n",
       "      <td>202353 433425 1314576 1231403 871658 925638 89...</td>\n",
       "    </tr>\n",
       "    <tr>\n",
       "      <th>1671802</th>\n",
       "      <td>14571581_orders</td>\n",
       "      <td>1100210 1684953 462056 1158237 1401429 622489 ...</td>\n",
       "    </tr>\n",
       "  </tbody>\n",
       "</table>\n",
       "<p>5015409 rows × 2 columns</p>\n",
       "</div>"
      ],
      "text/plain": [
       "            session_type                                             labels\n",
       "0        12899779_clicks  59625 1253524 737445 438191 731692 1790770 942...\n",
       "1        12899780_clicks  1142000 736515 973453 582732 1502122 889686 48...\n",
       "2        12899781_clicks  918667 199008 194067 57315 141736 1460571 7594...\n",
       "3        12899782_clicks  1007613 595994 1033148 834354 479970 1696036 8...\n",
       "4        12899783_clicks  1817895 607638 1754419 1216820 1729553 300127 ...\n",
       "...                  ...                                                ...\n",
       "1671798  14571577_orders  1141710 1276792 1666114 86916 631085 1004292 3...\n",
       "1671799  14571578_orders  519105 977826 1811714 822641 1671592 815460 15...\n",
       "1671800  14571579_orders  739876 1209992 1750859 1550479 785544 51363 21...\n",
       "1671801  14571580_orders  202353 433425 1314576 1231403 871658 925638 89...\n",
       "1671802  14571581_orders  1100210 1684953 462056 1158237 1401429 622489 ...\n",
       "\n",
       "[5015409 rows x 2 columns]"
      ]
     },
     "execution_count": 17,
     "metadata": {},
     "output_type": "execute_result"
    }
   ],
   "source": [
    "pred_df = pd.concat([clicks_pred_df, carts_pred_df, orders_pred_df])\n",
    "pred_df.columns = [\"session_type\", \"labels\"]\n",
    "pred_df[\"labels\"] = pred_df.labels.apply(lambda x: \" \".join(map(str,x)))\n",
    "pred_df"
   ]
  },
  {
   "cell_type": "code",
   "execution_count": null,
   "metadata": {},
   "outputs": [],
   "source": [
    "pred_df.to_csv(f'../submissions/covisitCandidates_50to20.csv', index=False)"
   ]
  },
  {
   "cell_type": "code",
   "execution_count": null,
   "metadata": {},
   "outputs": [],
   "source": []
  }
 ],
 "metadata": {
  "kernelspec": {
   "display_name": "rapids",
   "language": "python",
   "name": "python3"
  },
  "language_info": {
   "codemirror_mode": {
    "name": "ipython",
    "version": 3
   },
   "file_extension": ".py",
   "mimetype": "text/x-python",
   "name": "python",
   "nbconvert_exporter": "python",
   "pygments_lexer": "ipython3",
   "version": "3.9.13"
  },
  "orig_nbformat": 4,
  "vscode": {
   "interpreter": {
    "hash": "f708a36acfaef0acf74ccd43dfb58100269bf08fb79032a1e0a6f35bd9856f51"
   }
  }
 },
 "nbformat": 4,
 "nbformat_minor": 2
}
