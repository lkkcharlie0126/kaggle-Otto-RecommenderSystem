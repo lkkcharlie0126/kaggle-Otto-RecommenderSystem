{
 "cells": [
  {
   "cell_type": "code",
   "execution_count": 1,
   "metadata": {},
   "outputs": [],
   "source": [
    "# ! conda install -c conda-forge python-annoy\n",
    "import pandas as pd, numpy as np\n",
    "from tqdm.notebook import tqdm\n",
    "tqdm.pandas()\n",
    "import os, sys, pickle, glob, gc\n",
    "from collections import Counter\n",
    "import itertools\n",
    "\n",
    "import gensim\n",
    "from annoy import AnnoyIndex"
   ]
  },
  {
   "cell_type": "code",
   "execution_count": 2,
   "metadata": {},
   "outputs": [],
   "source": [
    "inputPath = '../input/newSplited/'\n",
    "outputPath = '../output/newSplited/'"
   ]
  },
  {
   "cell_type": "code",
   "execution_count": 3,
   "metadata": {},
   "outputs": [],
   "source": [
    "TOPN_candidate = 50\n",
    "note = 'covisit_20_20_20_covwgt'\n",
    "type_labels = {'clicks':0, 'carts':1, 'orders':2}"
   ]
  },
  {
   "cell_type": "code",
   "execution_count": 4,
   "metadata": {},
   "outputs": [],
   "source": [
    "def load_df(path):    \n",
    "    dfs = []\n",
    "    for e, chunk_file in enumerate(glob.glob(path)):\n",
    "        chunk = pd.read_parquet(chunk_file)\n",
    "        chunk.ts = (chunk.ts/1000).astype('int32')\n",
    "        chunk['type'] = chunk['type'].map(type_labels).astype('int8')\n",
    "        dfs.append(chunk)\n",
    "    return pd.concat(dfs).reset_index(drop=True) #.astype({\"ts\": \"datetime64[ms]\"})"
   ]
  },
  {
   "cell_type": "code",
   "execution_count": 5,
   "metadata": {},
   "outputs": [],
   "source": [
    "aid2vec_model = gensim.models.KeyedVectors.load_word2vec_format('../output/newSplited/savedModel/otto_aid2vec_5d.bin', binary=True)"
   ]
  },
  {
   "cell_type": "code",
   "execution_count": 6,
   "metadata": {},
   "outputs": [
    {
     "data": {
      "text/plain": [
       "True"
      ]
     },
     "execution_count": 6,
     "metadata": {},
     "output_type": "execute_result"
    }
   ],
   "source": [
    "aid2idx = {int(aid): i for i, aid in enumerate(aid2vec_model.index_to_key)}\n",
    "index = AnnoyIndex(5, 'euclidean')\n",
    "for _, idx in aid2idx.items():\n",
    "    index.add_item(idx, aid2vec_model.vectors[idx])\n",
    "index.build(10)"
   ]
  },
  {
   "cell_type": "code",
   "execution_count": 7,
   "metadata": {},
   "outputs": [],
   "source": [
    "def calW2vSimilarity(x):\n",
    "    return index.get_distance(aid2idx[x.aid_x], aid2idx[x.aid_y])"
   ]
  },
  {
   "attachments": {},
   "cell_type": "markdown",
   "metadata": {},
   "source": [
    "# Load candidate"
   ]
  },
  {
   "cell_type": "code",
   "execution_count": 8,
   "metadata": {},
   "outputs": [
    {
     "data": {
      "application/vnd.jupyter.widget-view+json": {
       "model_id": "4df92dacad4c47df9cb7203bf5bd5439",
       "version_major": 2,
       "version_minor": 0
      },
      "text/plain": [
       "A Jupyter Widget"
      ]
     },
     "metadata": {},
     "output_type": "display_data"
    },
    {
     "data": {
      "application/vnd.jupyter.widget-view+json": {
       "model_id": "b4e61566e86a4ca4af22928c4a86cbd5",
       "version_major": 2,
       "version_minor": 0
      },
      "text/plain": [
       "A Jupyter Widget"
      ]
     },
     "metadata": {},
     "output_type": "display_data"
    },
    {
     "data": {
      "application/vnd.jupyter.widget-view+json": {
       "model_id": "bfe08442b2c64032a7daba6797fd287d",
       "version_major": 2,
       "version_minor": 0
      },
      "text/plain": [
       "A Jupyter Widget"
      ]
     },
     "metadata": {},
     "output_type": "display_data"
    },
    {
     "name": "stdout",
     "output_type": "stream",
     "text": [
      "mkdir: cannot create directory ‘../output/newSplited/candidates_set3_top50_covisit_20_20_20_covwgt_w2vSim/’: File exists\n"
     ]
    },
    {
     "data": {
      "application/vnd.jupyter.widget-view+json": {
       "model_id": "602cba270ec04db58d0434a905c42464",
       "version_major": 2,
       "version_minor": 0
      },
      "text/plain": [
       "A Jupyter Widget"
      ]
     },
     "metadata": {},
     "output_type": "display_data"
    },
    {
     "data": {
      "application/vnd.jupyter.widget-view+json": {
       "model_id": "5e5a00e7faad44659c862c1562cb5cc3",
       "version_major": 2,
       "version_minor": 0
      },
      "text/plain": [
       "A Jupyter Widget"
      ]
     },
     "metadata": {},
     "output_type": "display_data"
    },
    {
     "data": {
      "application/vnd.jupyter.widget-view+json": {
       "model_id": "4bf55b630301469f8ea2c4558d232304",
       "version_major": 2,
       "version_minor": 0
      },
      "text/plain": [
       "A Jupyter Widget"
      ]
     },
     "metadata": {},
     "output_type": "display_data"
    }
   ],
   "source": [
    "SETS = [2, 3]\n",
    "for SET in SETS:\n",
    "    candidatesSavePath = outputPath + f'candidates_set{SET}_top{TOPN_candidate}_{note}/'\n",
    "    candidatesSavePath_w2vSim = outputPath + f'candidates_set{SET}_top{TOPN_candidate}_{note}_w2vSim/'\n",
    "    ! mkdir {candidatesSavePath_w2vSim}\n",
    "    predTypes = ['clicks', 'carts', 'orders']\n",
    "    for predType in predTypes:\n",
    "        candidate = pd.read_parquet(candidatesSavePath + f'{predType}Candidate.pqt')\n",
    "        if SET == 2:\n",
    "            val_A = pd.read_parquet('../input/splited/test.parquet')\n",
    "        elif SET == 3:\n",
    "            val_A = load_df('../input/parquets/test_parquets/*')\n",
    "            # val_A = val_A.drop_duplicates((['session', 'aid']))\n",
    "        df = val_A.merge(candidate, on='session')\n",
    "        w2vSim = df[['aid_x', 'aid_y']].drop_duplicates(['aid_x', 'aid_y'])\n",
    "        w2vSim['w2vSim'] = w2vSim.progress_apply(lambda x: calW2vSimilarity(x), axis=1)\n",
    "        df = df.merge(w2vSim, on=['aid_x', 'aid_y'], how='left')\n",
    "        df = df.groupby(['session', 'aid_y']).w2vSim.mean().reset_index()\n",
    "        df.columns = ['session', 'aid', 'w2vSim']\n",
    "        candidate = candidate.merge(df, on=['session', 'aid'], how='left')\n",
    "        candidate.to_parquet(candidatesSavePath_w2vSim + f'{predType}Candidate.pqt')"
   ]
  },
  {
   "cell_type": "code",
   "execution_count": 9,
   "metadata": {},
   "outputs": [
    {
     "data": {
      "text/plain": [
       "'../output/newSplited/candidates_set3_top50_covisit_20_20_20_covwgt_w2vSim/'"
      ]
     },
     "execution_count": 9,
     "metadata": {},
     "output_type": "execute_result"
    }
   ],
   "source": [
    "candidatesSavePath_w2vSim"
   ]
  },
  {
   "cell_type": "code",
   "execution_count": null,
   "metadata": {},
   "outputs": [],
   "source": [
    "similarity"
   ]
  }
 ],
 "metadata": {
  "kernelspec": {
   "display_name": "rapids",
   "language": "python",
   "name": "python3"
  },
  "language_info": {
   "codemirror_mode": {
    "name": "ipython",
    "version": 3
   },
   "file_extension": ".py",
   "mimetype": "text/x-python",
   "name": "python",
   "nbconvert_exporter": "python",
   "pygments_lexer": "ipython3",
   "version": "3.9.13 | packaged by conda-forge | (main, May 27 2022, 16:56:21) \n[GCC 10.3.0]"
  },
  "orig_nbformat": 4,
  "vscode": {
   "interpreter": {
    "hash": "f708a36acfaef0acf74ccd43dfb58100269bf08fb79032a1e0a6f35bd9856f51"
   }
  }
 },
 "nbformat": 4,
 "nbformat_minor": 2
}
