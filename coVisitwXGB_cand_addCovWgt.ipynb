{
 "cells": [
  {
   "cell_type": "code",
   "execution_count": 1,
   "metadata": {},
   "outputs": [],
   "source": [
    "import pandas as pd, numpy as np\n",
    "from tqdm.notebook import tqdm\n",
    "import os, sys, pickle, glob, gc\n",
    "from collections import Counter\n",
    "import itertools"
   ]
  },
  {
   "cell_type": "code",
   "execution_count": 2,
   "metadata": {},
   "outputs": [],
   "source": [
    "inputPath = '../input/newSplited/'\n",
    "outputPath = '../output/newSplited/'"
   ]
  },
  {
   "cell_type": "code",
   "execution_count": 3,
   "metadata": {},
   "outputs": [],
   "source": [
    "TOPN_candidate = 100\n",
    "SETS = [1]\n",
    "VER = 6\n",
    "SUBSETNUM = 3\n",
    "\n",
    "TOPN_b2b = 20\n",
    "TOPN_cartsOrders = 20\n",
    "TOPN_clicks = 20\n",
    "TOPN_c2c = 20\n",
    "TOPN_click2cart = 20\n",
    "TOPN_click2order = 20\n",
    "\n",
    "note = 'covisit_20_20_20_newSuggester2'\n",
    "outputNote = 'covisit_20_20_20_newSuggester2_moreCovwgt'\n",
    "\n",
    "predTypes = ['clicks', 'carts', 'orders']\n",
    "type_labels = {'clicks':0, 'carts':1, 'orders':2}\n",
    "type2covisitType = {'clicks': 'clicks', 'carts': 'cartsOrders', 'orders': 'cartsOrders'}"
   ]
  },
  {
   "cell_type": "code",
   "execution_count": 4,
   "metadata": {},
   "outputs": [],
   "source": [
    "def load_df(path):    \n",
    "    dfs = []\n",
    "    for e, chunk_file in enumerate(glob.glob(path)):\n",
    "        chunk = pd.read_parquet(chunk_file)\n",
    "        chunk.ts = (chunk.ts/1000).astype('int32')\n",
    "        chunk['type'] = chunk['type'].map(type_labels).astype('int8')\n",
    "        dfs.append(chunk)\n",
    "    return pd.concat(dfs).reset_index(drop=True) #.astype({\"ts\": \"datetime64[ms]\"})"
   ]
  },
  {
   "cell_type": "code",
   "execution_count": 5,
   "metadata": {},
   "outputs": [
    {
     "name": "stdout",
     "output_type": "stream",
     "text": [
      "mkdir: cannot create directory ‘../output/newSplited/candidates_set1_top100_covisit_20_20_20_newSuggester2_moreCovwgt/’: File exists\n",
      "type: clicks\n",
      "sub: 0\n",
      "sub: 1\n",
      "sub: 2\n",
      "type: carts\n",
      "sub: 0\n",
      "sub: 1\n",
      "sub: 2\n",
      "type: orders\n",
      "sub: 0\n",
      "sub: 1\n",
      "sub: 2\n"
     ]
    }
   ],
   "source": [
    "for SET in SETS:\n",
    "    coVisitSaveFolder = outputPath + f'coVisit_set{SET}_top{TOPN_b2b}_{TOPN_clicks}_{TOPN_cartsOrders}/'\n",
    "    candidatesSavePath = outputPath + f'candidates_set{SET}_top{TOPN_candidate}_{note}/'\n",
    "    candidatesSavePath_covwgt = outputPath + f'candidates_set{SET}_top{TOPN_candidate}_{outputNote}/'\n",
    "    ! mkdir {candidatesSavePath_covwgt}\n",
    "    if SET == 1:\n",
    "        val_A = load_df('../input/split_2-1_pqt/test_parquets/*')\n",
    "    elif SET == 2:\n",
    "        val_A = pd.read_parquet('../input/splited/test.parquet')\n",
    "    elif SET == 3:\n",
    "        val_A = load_df('../input/parquets/test_parquets/*')\n",
    "        # val_A = val_A.drop_duplicates((['session', 'aid']))\n",
    "    for k in range(0, 8):\n",
    "        if k == 0:\n",
    "            covistWeight_clicks = pd.read_parquet(coVisitSaveFolder + f'top_{TOPN_clicks}_clicks_v{VER}_{k}.pqt')\n",
    "        else:\n",
    "            covistWeight_clicks = pd.concat([covistWeight_clicks, pd.read_parquet(coVisitSaveFolder + f'top_{TOPN_clicks}_clicks_v{VER}_{k}.pqt')], axis=0)\n",
    "    for k in range(0, 8):\n",
    "        if k == 0:\n",
    "            covistWeight_cl2cl = pd.read_parquet(coVisitSaveFolder + f'top_{TOPN_c2c}_click2click_v{VER}_{k}.pqt')\n",
    "        else:\n",
    "            covistWeight_cl2cl = pd.concat([covistWeight_cl2cl, pd.read_parquet(coVisitSaveFolder + f'top_{TOPN_c2c}_click2click_v{VER}_{k}.pqt')], axis=0)\n",
    "\n",
    "    for k in range(0, 8):\n",
    "        if k == 0:\n",
    "            covistWeight_cartsOders = pd.read_parquet(coVisitSaveFolder + f'top_{TOPN_clicks}_cartsOrders_v{VER}_{k}.pqt')\n",
    "        else:\n",
    "            covistWeight_cartsOders = pd.concat([covistWeight_cartsOders, pd.read_parquet(coVisitSaveFolder + f'top_{TOPN_clicks}_cartsOrders_v{VER}_{k}.pqt')], axis=0)\n",
    "    for k in range(0, 2):\n",
    "        if k == 0:\n",
    "            covistWeight_b2b = pd.read_parquet(coVisitSaveFolder + f'top_{TOPN_b2b}_buy2buy_v{VER}_{k}.pqt')\n",
    "        else:\n",
    "            covistWeight_b2b = pd.concat([covistWeight_b2b, pd.read_parquet(coVisitSaveFolder + f'top_{TOPN_b2b}_buy2buy_v{VER}_{k}.pqt')], axis=0)\n",
    "    for k in range(0, 8):\n",
    "        if k == 0:\n",
    "            covistWeightcl2ca = pd.read_parquet(coVisitSaveFolder + f'top_{TOPN_click2cart}_click2cart_v{VER}_{k}.pqt')\n",
    "        else:\n",
    "            covistWeightcl2ca = pd.concat([covistWeightcl2ca, pd.read_parquet(coVisitSaveFolder + f'top_{TOPN_click2cart}_click2cart_v{VER}_{k}.pqt')], axis=0)\n",
    "\n",
    "    for k in range(0, 8):\n",
    "        if k == 0: \n",
    "            covistWeightcl2or = pd.read_parquet(coVisitSaveFolder + f'top_{TOPN_click2order}_click2order_v{VER}_{k}.pqt')\n",
    "        else:\n",
    "            covistWeightcl2or = pd.concat([covistWeightcl2or, pd.read_parquet(coVisitSaveFolder + f'top_{TOPN_click2order}_click2order_v{VER}_{k}.pqt')], axis=0)\n",
    "\n",
    "\n",
    "    for predType in predTypes:\n",
    "        print('type:', predType)\n",
    "        for s in range(SUBSETNUM):     \n",
    "            print('sub:', s)    \n",
    "            candidate = pd.read_parquet(candidatesSavePath + f'{predType}Candidate_{s}.pqt')\n",
    "            candidate['session'] = candidate.session.astype('int32')\n",
    "            df = val_A.merge(candidate[['session', 'aid']],on='session')\n",
    "            if predType == 'clicks':\n",
    "                df = df.merge(covistWeight_clicks, on=['aid_x', 'aid_y'], how='left').fillna(0)\n",
    "                df = df.merge(covistWeight_cl2cl, on=['aid_x', 'aid_y'], how='left').fillna(0)\n",
    "                df.loc[df.type.isin([1, 2]), 'wgt_y'] = 0\n",
    "                df = df.groupby(['session', 'aid_y']).agg({'wgt_x':'mean', 'wgt_y':'mean'}).reset_index()\n",
    "                df.columns = ['session', 'aid', 'covWgt', 'covWgt_cl2cl']\n",
    "            elif predType == 'carts':\n",
    "                df = df.merge(covistWeight_cartsOders, on=['aid_x', 'aid_y'], how='left').fillna(0)\n",
    "                df = df.merge(covistWeight_b2b, on=['aid_x', 'aid_y'], how='left').fillna(0)\n",
    "                df = df.merge(covistWeightcl2ca, on=['aid_x', 'aid_y'], how='left').fillna(0)\n",
    "                df.loc[df.type == 0, 'wgt_y'] = 0\n",
    "                df.loc[df.type.isin([1, 2]), 'wgt'] = 0\n",
    "                df = df.groupby(['session', 'aid_y']).agg({'wgt_x':'mean', 'wgt_y':'mean', 'wgt':'mean'}).reset_index()\n",
    "                df.columns = ['session', 'aid', 'covWgt', 'covWgt_b2b', 'covWgt_cl2cr']\n",
    "            else:\n",
    "                df = df.merge(covistWeight_cartsOders, on=['aid_x', 'aid_y'], how='left').fillna(0)\n",
    "                df = df.merge(covistWeight_b2b, on=['aid_x', 'aid_y'], how='left').fillna(0)\n",
    "                df = df.merge(covistWeightcl2or, on=['aid_x', 'aid_y'], how='left').fillna(0)\n",
    "                df.loc[df.type == 0, 'wgt_y'] = 0\n",
    "                df.loc[df.type.isin([1, 2]), 'wgt'] = 0\n",
    "                df = df.groupby(['session', 'aid_y']).agg({'wgt_x':'mean', 'wgt_y':'mean', 'wgt':'mean'}).reset_index()\n",
    "                df.columns = ['session', 'aid', 'covWgt', 'covWgt_b2b', 'covWgt_cl2or']\n",
    "                \n",
    "            candidate = candidate.merge(df, on=['session', 'aid'], how='left')\n",
    "            candidate.to_parquet(candidatesSavePath_covwgt + f'{predType}Candidate_{s}.pqt')"
   ]
  },
  {
   "cell_type": "code",
   "execution_count": null,
   "metadata": {},
   "outputs": [],
   "source": []
  }
 ],
 "metadata": {
  "kernelspec": {
   "display_name": "rapids",
   "language": "python",
   "name": "python3"
  },
  "language_info": {
   "codemirror_mode": {
    "name": "ipython",
    "version": 3
   },
   "file_extension": ".py",
   "mimetype": "text/x-python",
   "name": "python",
   "nbconvert_exporter": "python",
   "pygments_lexer": "ipython3",
   "version": "3.9.13 | packaged by conda-forge | (main, May 27 2022, 16:56:21) \n[GCC 10.3.0]"
  },
  "orig_nbformat": 4,
  "vscode": {
   "interpreter": {
    "hash": "f708a36acfaef0acf74ccd43dfb58100269bf08fb79032a1e0a6f35bd9856f51"
   }
  }
 },
 "nbformat": 4,
 "nbformat_minor": 2
}
