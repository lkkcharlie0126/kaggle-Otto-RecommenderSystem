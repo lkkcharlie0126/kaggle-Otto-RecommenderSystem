{
 "cells": [
  {
   "cell_type": "code",
   "execution_count": 1,
   "metadata": {},
   "outputs": [
    {
     "name": "stdout",
     "output_type": "stream",
     "text": [
      "We will use RAPIDS version 22.10.01+2.gca9a422da9\n"
     ]
    }
   ],
   "source": [
    "import pandas as pd, numpy as np\n",
    "from tqdm.notebook import tqdm\n",
    "import os, sys, pickle, glob, gc\n",
    "from collections import Counter\n",
    "import itertools\n",
    "import cudf\n",
    "print('We will use RAPIDS version',cudf.__version__)\n",
    "cudf.set_option(\"default_integer_bitwidth\", 32)\n",
    "cudf.set_option(\"default_float_bitwidth\", 32)\n",
    "\n",
    "\n",
    "from coVisitation import CV_B2B, CV_toClicks, CV_carts_orders, ClicktoClick, ClicktoCart, ClicktoOrder"
   ]
  },
  {
   "cell_type": "code",
   "execution_count": 2,
   "metadata": {},
   "outputs": [
    {
     "name": "stdout",
     "output_type": "stream",
     "text": [
      "mkdir: cannot create directory ‘../output/newSplited/’: File exists\n"
     ]
    }
   ],
   "source": [
    "inputPath = '../input/newSplited/'\n",
    "outputPath = '../output/newSplited/'\n",
    "! mkdir {outputPath}"
   ]
  },
  {
   "attachments": {},
   "cell_type": "markdown",
   "metadata": {},
   "source": [
    "# Calculate covisitaion matrix"
   ]
  },
  {
   "cell_type": "code",
   "execution_count": 3,
   "metadata": {},
   "outputs": [],
   "source": [
    "SET = 2\n",
    "type_labels = {'clicks':0, 'carts':1, 'orders':2}"
   ]
  },
  {
   "cell_type": "code",
   "execution_count": 4,
   "metadata": {},
   "outputs": [],
   "source": [
    "def read_file_to_cache(f):\n",
    "    df = pd.read_parquet(f)\n",
    "    df.ts = (df.ts/1000).astype('int32')\n",
    "    df['type'] = df['type'].map(type_labels).astype('int8')\n",
    "    return df"
   ]
  },
  {
   "cell_type": "code",
   "execution_count": 6,
   "metadata": {},
   "outputs": [
    {
     "name": "stdout",
     "output_type": "stream",
     "text": [
      "[Errno 17] File exists: '../output/newSplited/coVisit_set2_top20_20_20/'\n"
     ]
    }
   ],
   "source": [
    "data_cache = {}\n",
    "if SET == 1:\n",
    "    files = glob.glob('../input/split_2-1_pqt/*_parquets/*')\n",
    "    for f in files: \n",
    "        data_cache[f] = read_file_to_cache(f)\n",
    "elif SET == 2:\n",
    "    files = glob.glob('../input/splited/parquets/*_parquets/*')\n",
    "    for f in files: \n",
    "        data_cache[f] = pd.read_parquet(f)\n",
    "elif SET == 3:\n",
    "    files = glob.glob('../input/parquets/*_parquets/*')\n",
    "    for f in files: \n",
    "        data_cache[f] = read_file_to_cache(f)\n",
    "\n",
    "saveFolder = outputPath + f'coVisit_set{SET}_top20_20_20/'\n",
    "try: \n",
    "    os.makedirs(saveFolder) \n",
    "except OSError as error: \n",
    "    print(error)"
   ]
  },
  {
   "cell_type": "code",
   "execution_count": 11,
   "metadata": {},
   "outputs": [],
   "source": [
    "CovisitMat = [ClicktoOrder, ClicktoCart, ClicktoClick, CV_toClicks, CV_carts_orders, CV_B2B]\n",
    "topN_covisit = {ClicktoOrder: 20, ClicktoCart: 20, ClicktoClick: 20, CV_toClicks: 20, CV_carts_orders: 20, CV_B2B: 20}"
   ]
  },
  {
   "cell_type": "code",
   "execution_count": null,
   "metadata": {},
   "outputs": [],
   "source": [
    "for covisitMat in CovisitMat:\n",
    "    covisiter = covisitMat(files, data_cache, saveFolder)\n",
    "    covisiter.processDisks(topN_covisit[covisitMat])"
   ]
  }
 ],
 "metadata": {
  "kernelspec": {
   "display_name": "rapids",
   "language": "python",
   "name": "python3"
  },
  "language_info": {
   "codemirror_mode": {
    "name": "ipython",
    "version": 3
   },
   "file_extension": ".py",
   "mimetype": "text/x-python",
   "name": "python",
   "nbconvert_exporter": "python",
   "pygments_lexer": "ipython3",
   "version": "3.9.13"
  },
  "orig_nbformat": 4,
  "vscode": {
   "interpreter": {
    "hash": "f708a36acfaef0acf74ccd43dfb58100269bf08fb79032a1e0a6f35bd9856f51"
   }
  }
 },
 "nbformat": 4,
 "nbformat_minor": 2
}
