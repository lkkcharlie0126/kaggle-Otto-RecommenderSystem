{
 "cells": [
  {
   "cell_type": "code",
   "execution_count": 1,
   "metadata": {},
   "outputs": [],
   "source": [
    "import numpy as np\n",
    "import pandas as pd\n",
    "import os, glob\n",
    "from pathlib import Path\n",
    "from tqdm import tqdm\n",
    "from collections import defaultdict\n",
    "import math\n",
    "from operator import itemgetter\n",
    "from functions.itemCF import itemCFTrain, ItemMatrix_fn, ItemSimilarityMatrix_fn, recommend"
   ]
  },
  {
   "cell_type": "code",
   "execution_count": 2,
   "metadata": {},
   "outputs": [],
   "source": [
    "type_labels = {'clicks':0, 'carts':1, 'orders':2}"
   ]
  },
  {
   "cell_type": "code",
   "execution_count": 22,
   "metadata": {},
   "outputs": [],
   "source": [
    "SET = 3\n",
    "# predType = 'orders'"
   ]
  },
  {
   "cell_type": "code",
   "execution_count": 23,
   "metadata": {},
   "outputs": [],
   "source": [
    "def load_test(path):    \n",
    "    dfs = []\n",
    "    for e, chunk_file in enumerate(glob.glob(path)):\n",
    "        chunk = pd.read_parquet(chunk_file)\n",
    "        chunk.ts = (chunk.ts/1000).astype('int32')\n",
    "        chunk['type'] = chunk['type'].map(type_labels).astype('int8')\n",
    "        dfs.append(chunk)\n",
    "    return pd.concat(dfs).reset_index(drop=True) #.astype({\"ts\": \"datetime64[ms]\"})"
   ]
  },
  {
   "cell_type": "code",
   "execution_count": 24,
   "metadata": {},
   "outputs": [
    {
     "data": {
      "text/html": [
       "<div>\n",
       "<style scoped>\n",
       "    .dataframe tbody tr th:only-of-type {\n",
       "        vertical-align: middle;\n",
       "    }\n",
       "\n",
       "    .dataframe tbody tr th {\n",
       "        vertical-align: top;\n",
       "    }\n",
       "\n",
       "    .dataframe thead th {\n",
       "        text-align: right;\n",
       "    }\n",
       "</style>\n",
       "<table border=\"1\" class=\"dataframe\">\n",
       "  <thead>\n",
       "    <tr style=\"text-align: right;\">\n",
       "      <th></th>\n",
       "      <th>session</th>\n",
       "      <th>aid</th>\n",
       "      <th>ts</th>\n",
       "      <th>type</th>\n",
       "    </tr>\n",
       "  </thead>\n",
       "  <tbody>\n",
       "    <tr>\n",
       "      <th>0</th>\n",
       "      <td>12899779</td>\n",
       "      <td>59625</td>\n",
       "      <td>1661724000</td>\n",
       "      <td>0</td>\n",
       "    </tr>\n",
       "    <tr>\n",
       "      <th>1</th>\n",
       "      <td>12899780</td>\n",
       "      <td>1142000</td>\n",
       "      <td>1661724000</td>\n",
       "      <td>0</td>\n",
       "    </tr>\n",
       "    <tr>\n",
       "      <th>2</th>\n",
       "      <td>12899780</td>\n",
       "      <td>582732</td>\n",
       "      <td>1661724058</td>\n",
       "      <td>0</td>\n",
       "    </tr>\n",
       "    <tr>\n",
       "      <th>3</th>\n",
       "      <td>12899780</td>\n",
       "      <td>973453</td>\n",
       "      <td>1661724109</td>\n",
       "      <td>0</td>\n",
       "    </tr>\n",
       "    <tr>\n",
       "      <th>4</th>\n",
       "      <td>12899780</td>\n",
       "      <td>736515</td>\n",
       "      <td>1661724136</td>\n",
       "      <td>0</td>\n",
       "    </tr>\n",
       "    <tr>\n",
       "      <th>...</th>\n",
       "      <td>...</td>\n",
       "      <td>...</td>\n",
       "      <td>...</td>\n",
       "      <td>...</td>\n",
       "    </tr>\n",
       "    <tr>\n",
       "      <th>6928118</th>\n",
       "      <td>13099776</td>\n",
       "      <td>1159407</td>\n",
       "      <td>1661844072</td>\n",
       "      <td>0</td>\n",
       "    </tr>\n",
       "    <tr>\n",
       "      <th>6928119</th>\n",
       "      <td>13099776</td>\n",
       "      <td>546448</td>\n",
       "      <td>1661844142</td>\n",
       "      <td>0</td>\n",
       "    </tr>\n",
       "    <tr>\n",
       "      <th>6928120</th>\n",
       "      <td>13099777</td>\n",
       "      <td>468584</td>\n",
       "      <td>1661795832</td>\n",
       "      <td>0</td>\n",
       "    </tr>\n",
       "    <tr>\n",
       "      <th>6928121</th>\n",
       "      <td>13099778</td>\n",
       "      <td>926609</td>\n",
       "      <td>1661795832</td>\n",
       "      <td>0</td>\n",
       "    </tr>\n",
       "    <tr>\n",
       "      <th>6928122</th>\n",
       "      <td>13099778</td>\n",
       "      <td>1025490</td>\n",
       "      <td>1661795863</td>\n",
       "      <td>0</td>\n",
       "    </tr>\n",
       "  </tbody>\n",
       "</table>\n",
       "<p>6928123 rows × 4 columns</p>\n",
       "</div>"
      ],
      "text/plain": [
       "          session      aid          ts  type\n",
       "0        12899779    59625  1661724000     0\n",
       "1        12899780  1142000  1661724000     0\n",
       "2        12899780   582732  1661724058     0\n",
       "3        12899780   973453  1661724109     0\n",
       "4        12899780   736515  1661724136     0\n",
       "...           ...      ...         ...   ...\n",
       "6928118  13099776  1159407  1661844072     0\n",
       "6928119  13099776   546448  1661844142     0\n",
       "6928120  13099777   468584  1661795832     0\n",
       "6928121  13099778   926609  1661795832     0\n",
       "6928122  13099778  1025490  1661795863     0\n",
       "\n",
       "[6928123 rows x 4 columns]"
      ]
     },
     "execution_count": 24,
     "metadata": {},
     "output_type": "execute_result"
    }
   ],
   "source": [
    "if SET == 1:\n",
    "    test_df = load_test('../input/split_2-1_pqt/test_parquets/*')\n",
    "elif SET == 2:\n",
    "    test_df = pd.read_parquet('../input/splited/test.parquet')\n",
    "\n",
    "elif SET == 3:\n",
    "    test_df = load_test('../input/parquets/test_parquets/*')\n",
    "test_df"
   ]
  },
  {
   "cell_type": "code",
   "execution_count": 25,
   "metadata": {},
   "outputs": [],
   "source": [
    "# if predType == 'carts': \n",
    "#     test_df = test_df[test_df.type.isin([1, 2])].reset_index(drop=True)\n",
    "# elif predType == 'orders':\n",
    "#     test_df = test_df[test_df.type == 2].reset_index(drop=True)"
   ]
  },
  {
   "cell_type": "code",
   "execution_count": 26,
   "metadata": {},
   "outputs": [
    {
     "name": "stderr",
     "output_type": "stream",
     "text": [
      "100%|██████████| 65480/65480 [00:01<00:00, 57088.38it/s]\n",
      "100%|██████████| 65480/65480 [00:00<00:00, 3216450.11it/s]\n",
      "100%|██████████| 35849/35849 [00:00<00:00, 587731.12it/s]\n",
      "100%|██████████| 42709/42709 [00:00<00:00, 635641.32it/s]\n",
      "100%|██████████| 42709/42709 [00:00<00:00, 927034.22it/s]\n"
     ]
    }
   ],
   "source": [
    "uidict = itemCFTrain(test_df)\n",
    "itemMatrix, N = ItemMatrix_fn(uidict)\n",
    "itemSimMatrix = ItemSimilarityMatrix_fn(itemMatrix, N)"
   ]
  },
  {
   "cell_type": "code",
   "execution_count": 27,
   "metadata": {},
   "outputs": [],
   "source": [
    "save_path = Path(f'../output/newSplited/cf_matrix/set_{SET}')\n",
    "try: \n",
    "    os.makedirs(save_path) \n",
    "except OSError as error: \n",
    "    print(error) \n",
    "\n",
    "np.save(save_path / 'uidict.npy', uidict)\n",
    "np.save(save_path / 'itemMatrix.npy', itemMatrix)\n",
    "np.save(save_path / 'N.npy', N)\n",
    "np.save(save_path / 'itemSimMatrix.npy', itemSimMatrix)"
   ]
  },
  {
   "attachments": {},
   "cell_type": "markdown",
   "metadata": {},
   "source": [
    "## Recommend"
   ]
  },
  {
   "cell_type": "code",
   "execution_count": 5,
   "metadata": {},
   "outputs": [],
   "source": [
    "save_path = Path(f'../output/newSplited/cf_matrix/set_{SET}')\n",
    "uidict = np.load(save_path / 'uidict.npy', allow_pickle='TRUE').item()\n",
    "itemMatrix = np.load(save_path / 'itemMatrix.npy', allow_pickle='TRUE').item()\n",
    "N = np.load(save_path / 'N.npy', allow_pickle='TRUE').item()\n",
    "itemSimMatrix = np.load(save_path / 'itemSimMatrix.npy', allow_pickle='TRUE').item()"
   ]
  },
  {
   "cell_type": "code",
   "execution_count": 23,
   "metadata": {},
   "outputs": [],
   "source": [
    "pop = list(dict(sorted(N.items(), key=itemgetter(1), reverse=True)[:20]).keys())\n",
    "users = list(uidict.keys())\n",
    "re_items = []"
   ]
  },
  {
   "cell_type": "code",
   "execution_count": 24,
   "metadata": {},
   "outputs": [
    {
     "name": "stderr",
     "output_type": "stream",
     "text": [
      "100%|██████████| 1801251/1801251 [12:33<00:00, 2390.50it/s]\n"
     ]
    }
   ],
   "source": [
    "for user in tqdm(users):\n",
    "    result = list(recommend(uidict, itemSimMatrix, user, pop))\n",
    "    re_items.append(result)\n",
    "np.save(save_path / 're_items.npy', re_items)"
   ]
  },
  {
   "cell_type": "code",
   "execution_count": 45,
   "metadata": {},
   "outputs": [
    {
     "data": {
      "text/html": [
       "<div>\n",
       "<style scoped>\n",
       "    .dataframe tbody tr th:only-of-type {\n",
       "        vertical-align: middle;\n",
       "    }\n",
       "\n",
       "    .dataframe tbody tr th {\n",
       "        vertical-align: top;\n",
       "    }\n",
       "\n",
       "    .dataframe thead th {\n",
       "        text-align: right;\n",
       "    }\n",
       "</style>\n",
       "<table border=\"1\" class=\"dataframe\">\n",
       "  <thead>\n",
       "    <tr style=\"text-align: right;\">\n",
       "      <th></th>\n",
       "      <th>session</th>\n",
       "      <th>labels</th>\n",
       "    </tr>\n",
       "  </thead>\n",
       "  <tbody>\n",
       "    <tr>\n",
       "      <th>0</th>\n",
       "      <td>11098528</td>\n",
       "      <td>[11830, 588923, 1732105, 630636, 828829, 87612...</td>\n",
       "    </tr>\n",
       "    <tr>\n",
       "      <th>1</th>\n",
       "      <td>11098529</td>\n",
       "      <td>[1105029, 528290, 333991, 1384035, 952682, 139...</td>\n",
       "    </tr>\n",
       "    <tr>\n",
       "      <th>2</th>\n",
       "      <td>11098530</td>\n",
       "      <td>[409236, 264500, 639815, 983539, 364155, 58302...</td>\n",
       "    </tr>\n",
       "    <tr>\n",
       "      <th>3</th>\n",
       "      <td>11098531</td>\n",
       "      <td>[1271998, 1365569, 1728212, 1557766, 452188, 3...</td>\n",
       "    </tr>\n",
       "    <tr>\n",
       "      <th>4</th>\n",
       "      <td>11098532</td>\n",
       "      <td>[7651, 876469, 1273333, 1402537, 358039, 97028...</td>\n",
       "    </tr>\n",
       "    <tr>\n",
       "      <th>...</th>\n",
       "      <td>...</td>\n",
       "      <td>...</td>\n",
       "    </tr>\n",
       "    <tr>\n",
       "      <th>1801246</th>\n",
       "      <td>12899774</td>\n",
       "      <td>[33035, 356112, 433555, 1228185, 100048, 74521...</td>\n",
       "    </tr>\n",
       "    <tr>\n",
       "      <th>1801247</th>\n",
       "      <td>12899775</td>\n",
       "      <td>[1743151, 1414967, 1163166, 1022572, 955514, 1...</td>\n",
       "    </tr>\n",
       "    <tr>\n",
       "      <th>1801248</th>\n",
       "      <td>12899776</td>\n",
       "      <td>[548599, 487078, 1599137, 1259052, 1045568, 26...</td>\n",
       "    </tr>\n",
       "    <tr>\n",
       "      <th>1801249</th>\n",
       "      <td>12899777</td>\n",
       "      <td>[384045, 1308634, 479563, 1838401, 1494551, 51...</td>\n",
       "    </tr>\n",
       "    <tr>\n",
       "      <th>1801250</th>\n",
       "      <td>12899778</td>\n",
       "      <td>[561560, 1717432, 1353445, 1167224, 494124, 41...</td>\n",
       "    </tr>\n",
       "  </tbody>\n",
       "</table>\n",
       "<p>1801251 rows × 2 columns</p>\n",
       "</div>"
      ],
      "text/plain": [
       "          session                                             labels\n",
       "0        11098528  [11830, 588923, 1732105, 630636, 828829, 87612...\n",
       "1        11098529  [1105029, 528290, 333991, 1384035, 952682, 139...\n",
       "2        11098530  [409236, 264500, 639815, 983539, 364155, 58302...\n",
       "3        11098531  [1271998, 1365569, 1728212, 1557766, 452188, 3...\n",
       "4        11098532  [7651, 876469, 1273333, 1402537, 358039, 97028...\n",
       "...           ...                                                ...\n",
       "1801246  12899774  [33035, 356112, 433555, 1228185, 100048, 74521...\n",
       "1801247  12899775  [1743151, 1414967, 1163166, 1022572, 955514, 1...\n",
       "1801248  12899776  [548599, 487078, 1599137, 1259052, 1045568, 26...\n",
       "1801249  12899777  [384045, 1308634, 479563, 1838401, 1494551, 51...\n",
       "1801250  12899778  [561560, 1717432, 1353445, 1167224, 494124, 41...\n",
       "\n",
       "[1801251 rows x 2 columns]"
      ]
     },
     "execution_count": 45,
     "metadata": {},
     "output_type": "execute_result"
    }
   ],
   "source": [
    "sub = pd.DataFrame({\n",
    "    'session': users,\n",
    "    'labels': re_items\n",
    "    })\n",
    "sub"
   ]
  },
  {
   "cell_type": "code",
   "execution_count": 47,
   "metadata": {},
   "outputs": [
    {
     "data": {
      "text/plain": [
       "{'clicks': 0.4109450457809419,\n",
       " 'carts': 0.3526597534701864,\n",
       " 'orders': 0.6019412517594789}"
      ]
     },
     "execution_count": 47,
     "metadata": {},
     "output_type": "execute_result"
    }
   ],
   "source": [
    "predTypes = ['clicks', 'carts', 'orders']\n",
    "recall20 = {}\n",
    "for predType in predTypes:\n",
    "    sub['type'] = predType\n",
    "    test_labels = pd.read_parquet('../input/splited/test_labels.parquet')\n",
    "    type_labels = test_labels[test_labels['type'] == predType]\n",
    "    type_labels = type_labels.merge(sub, how='left', on=['session', 'type']).dropna()\n",
    "    type_labels['hits'] = type_labels.apply(lambda df: len(set(df.ground_truth).intersection(set(df.labels[:20]))), axis=1)\n",
    "    type_labels['gt_count'] = type_labels.ground_truth.str.len().clip(0,20)\n",
    "    recall_per_type = type_labels['hits'].sum() / type_labels['gt_count'].sum()\n",
    "    recall20[predType] = recall_per_type\n",
    "recall20"
   ]
  },
  {
   "cell_type": "code",
   "execution_count": 48,
   "metadata": {},
   "outputs": [
    {
     "data": {
      "text/plain": [
       "0.5080571816748374"
      ]
     },
     "execution_count": 48,
     "metadata": {},
     "output_type": "execute_result"
    }
   ],
   "source": [
    "score = recall20['clicks']*0.1 + recall20['carts']*0.3 + recall20['orders']*0.6\n",
    "score"
   ]
  },
  {
   "cell_type": "code",
   "execution_count": null,
   "metadata": {},
   "outputs": [],
   "source": []
  }
 ],
 "metadata": {
  "kernelspec": {
   "display_name": "rapids",
   "language": "python",
   "name": "python3"
  },
  "language_info": {
   "codemirror_mode": {
    "name": "ipython",
    "version": 3
   },
   "file_extension": ".py",
   "mimetype": "text/x-python",
   "name": "python",
   "nbconvert_exporter": "python",
   "pygments_lexer": "ipython3",
   "version": "3.9.13 | packaged by conda-forge | (main, May 27 2022, 16:56:21) \n[GCC 10.3.0]"
  },
  "orig_nbformat": 4,
  "vscode": {
   "interpreter": {
    "hash": "f708a36acfaef0acf74ccd43dfb58100269bf08fb79032a1e0a6f35bd9856f51"
   }
  }
 },
 "nbformat": 4,
 "nbformat_minor": 2
}
