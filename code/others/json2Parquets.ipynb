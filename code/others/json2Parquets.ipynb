{
 "cells": [
  {
   "cell_type": "code",
   "execution_count": 11,
   "metadata": {},
   "outputs": [],
   "source": [
    "import os \n",
    "\n",
    "import numpy as np\n",
    "import pandas as pd\n",
    "\n",
    "from pathlib import Path\n",
    "from tqdm import tqdm\n",
    "\n",
    "data_path = Path('../input/split_2-1')\n",
    "output_path = Path('../input/split_2-1_pqt')\n",
    "os.mkdir(output_path)\n",
    "\n",
    "chunksize = 100_000"
   ]
  },
  {
   "cell_type": "code",
   "execution_count": 12,
   "metadata": {},
   "outputs": [
    {
     "name": "stderr",
     "output_type": "stream",
     "text": [
      " 60%|██████    | 78/129 [03:44<02:26,  2.88s/it]\n"
     ]
    }
   ],
   "source": [
    "chunks = pd.read_json(data_path / 'train_sessions.jsonl', lines=True, chunksize=chunksize)\n",
    "os.mkdir(output_path / 'train_parquets')\n",
    "\n",
    "for e, chunk in enumerate(tqdm(chunks, total=129)):\n",
    "    event_dict = {\n",
    "        'session': [],\n",
    "        'aid': [],\n",
    "        'ts': [],\n",
    "        'type': [],\n",
    "    }\n",
    "\n",
    "    for session, events in zip(chunk['session'].tolist(), chunk['events'].tolist()):\n",
    "        for event in events:\n",
    "            event_dict['session'].append(session)\n",
    "            event_dict['aid'].append(event['aid'])\n",
    "            event_dict['ts'].append(event['ts'])\n",
    "            event_dict['type'].append(event['type'])\n",
    "\n",
    "    # save DataFrame\n",
    "    start = str(e*chunksize).zfill(9)\n",
    "    end = str(e*chunksize+chunksize).zfill(9)\n",
    "    pd.DataFrame(event_dict).to_parquet(output_path / 'train_parquets' / f\"{start}_{end}.parquet\")"
   ]
  },
  {
   "cell_type": "code",
   "execution_count": 13,
   "metadata": {},
   "outputs": [
    {
     "name": "stderr",
     "output_type": "stream",
     "text": [
      "23it [00:29,  1.26s/it]                        \n"
     ]
    }
   ],
   "source": [
    "chunks = pd.read_json(data_path / 'test_sessions.jsonl', lines=True, chunksize=chunksize)\n",
    "os.mkdir(output_path / 'test_parquets')\n",
    "\n",
    "for e, chunk in enumerate(tqdm(chunks, total=17)):\n",
    "    event_dict = {\n",
    "        'session': [],\n",
    "        'aid': [],\n",
    "        'ts': [],\n",
    "        'type': [],\n",
    "    }\n",
    "\n",
    "    for session, events in zip(chunk['session'].tolist(), chunk['events'].tolist()):\n",
    "        for event in events:\n",
    "            event_dict['session'].append(session)\n",
    "            event_dict['aid'].append(event['aid'])\n",
    "            event_dict['ts'].append(event['ts'])\n",
    "            event_dict['type'].append(event['type'])\n",
    "\n",
    "    # save DataFrame\n",
    "    start = str(e*chunksize).zfill(9)\n",
    "    end = str(e*chunksize+chunksize).zfill(9)\n",
    "    pd.DataFrame(event_dict).to_parquet(output_path / 'test_parquets' / f\"{start}_{end}.parquet\")"
   ]
  },
  {
   "cell_type": "code",
   "execution_count": 19,
   "metadata": {},
   "outputs": [
    {
     "data": {
      "text/html": [
       "<div>\n",
       "<style scoped>\n",
       "    .dataframe tbody tr th:only-of-type {\n",
       "        vertical-align: middle;\n",
       "    }\n",
       "\n",
       "    .dataframe tbody tr th {\n",
       "        vertical-align: top;\n",
       "    }\n",
       "\n",
       "    .dataframe thead th {\n",
       "        text-align: right;\n",
       "    }\n",
       "</style>\n",
       "<table border=\"1\" class=\"dataframe\">\n",
       "  <thead>\n",
       "    <tr style=\"text-align: right;\">\n",
       "      <th></th>\n",
       "      <th>session</th>\n",
       "      <th>labels</th>\n",
       "    </tr>\n",
       "  </thead>\n",
       "  <tbody>\n",
       "    <tr>\n",
       "      <th>0</th>\n",
       "      <td>8643220</td>\n",
       "      <td>{'clicks': 1189975}</td>\n",
       "    </tr>\n",
       "    <tr>\n",
       "      <th>1</th>\n",
       "      <td>8643221</td>\n",
       "      <td>{'clicks': 111691}</td>\n",
       "    </tr>\n",
       "    <tr>\n",
       "      <th>2</th>\n",
       "      <td>8643222</td>\n",
       "      <td>{'clicks': 756920}</td>\n",
       "    </tr>\n",
       "    <tr>\n",
       "      <th>3</th>\n",
       "      <td>8643223</td>\n",
       "      <td>{'clicks': 1742315}</td>\n",
       "    </tr>\n",
       "    <tr>\n",
       "      <th>4</th>\n",
       "      <td>8643224</td>\n",
       "      <td>{'clicks': 778561, 'orders': [1502227, 154901,...</td>\n",
       "    </tr>\n",
       "    <tr>\n",
       "      <th>...</th>\n",
       "      <td>...</td>\n",
       "      <td>...</td>\n",
       "    </tr>\n",
       "    <tr>\n",
       "      <th>2224029</th>\n",
       "      <td>11098472</td>\n",
       "      <td>{'clicks': 504876}</td>\n",
       "    </tr>\n",
       "    <tr>\n",
       "      <th>2224030</th>\n",
       "      <td>11098478</td>\n",
       "      <td>{'clicks': 261405}</td>\n",
       "    </tr>\n",
       "    <tr>\n",
       "      <th>2224031</th>\n",
       "      <td>11098483</td>\n",
       "      <td>{'clicks': 46115}</td>\n",
       "    </tr>\n",
       "    <tr>\n",
       "      <th>2224032</th>\n",
       "      <td>11098494</td>\n",
       "      <td>{'clicks': 1733630}</td>\n",
       "    </tr>\n",
       "    <tr>\n",
       "      <th>2224033</th>\n",
       "      <td>11098509</td>\n",
       "      <td>{'clicks': 1792831}</td>\n",
       "    </tr>\n",
       "  </tbody>\n",
       "</table>\n",
       "<p>2224034 rows × 2 columns</p>\n",
       "</div>"
      ],
      "text/plain": [
       "          session                                             labels\n",
       "0         8643220                                {'clicks': 1189975}\n",
       "1         8643221                                 {'clicks': 111691}\n",
       "2         8643222                                 {'clicks': 756920}\n",
       "3         8643223                                {'clicks': 1742315}\n",
       "4         8643224  {'clicks': 778561, 'orders': [1502227, 154901,...\n",
       "...           ...                                                ...\n",
       "2224029  11098472                                 {'clicks': 504876}\n",
       "2224030  11098478                                 {'clicks': 261405}\n",
       "2224031  11098483                                  {'clicks': 46115}\n",
       "2224032  11098494                                {'clicks': 1733630}\n",
       "2224033  11098509                                {'clicks': 1792831}\n",
       "\n",
       "[2224034 rows x 2 columns]"
      ]
     },
     "execution_count": 19,
     "metadata": {},
     "output_type": "execute_result"
    }
   ],
   "source": [
    "test_labels = pd.read_json(data_path / 'test_labels.jsonl', lines=True)\n",
    "test_labels_new = {\n",
    "        'session': [],\n",
    "        'type': [],\n",
    "        'ground_truth': [],\n",
    "    }\n",
    "for session, labels in tqdm(zip(test_labels.session, test_labels.labels)):\n",
    "    for event in labels:\n",
    "        test_labels_new['session'].append(session)\n",
    "        test_labels_new['type'].append(event)\n",
    "        if type(labels[event]) == int:\n",
    "            test_labels_new['ground_truth'].append([labels[event]])\n",
    "        else:\n",
    "            test_labels_new['ground_truth'].append(labels[event])\n",
    "pd.DataFrame(test_labels_new).to_parquet(output_path / 'test_labels.parquet')"
   ]
  }
 ],
 "metadata": {
  "kernelspec": {
   "display_name": "rapids",
   "language": "python",
   "name": "python3"
  },
  "language_info": {
   "codemirror_mode": {
    "name": "ipython",
    "version": 3
   },
   "file_extension": ".py",
   "mimetype": "text/x-python",
   "name": "python",
   "nbconvert_exporter": "python",
   "pygments_lexer": "ipython3",
   "version": "3.9.13 | packaged by conda-forge | (main, May 27 2022, 16:56:21) \n[GCC 10.3.0]"
  },
  "orig_nbformat": 4,
  "vscode": {
   "interpreter": {
    "hash": "f708a36acfaef0acf74ccd43dfb58100269bf08fb79032a1e0a6f35bd9856f51"
   }
  }
 },
 "nbformat": 4,
 "nbformat_minor": 2
}
