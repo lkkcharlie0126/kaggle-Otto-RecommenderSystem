{
 "cells": [
  {
   "cell_type": "code",
   "execution_count": 1,
   "metadata": {},
   "outputs": [],
   "source": [
    "import glob\n",
    "import pandas as pd, numpy as np\n",
    "from tqdm.notebook import tqdm\n",
    "tqdm.pandas()\n",
    "import os\n",
    "import gensim\n",
    "from annoy import AnnoyIndex\n",
    "\n",
    "type_labels = {'clicks':0, 'carts':1, 'orders':2}\n",
    "predTypes = ['orders']\n",
    "\n",
    "def load_df(path):    \n",
    "    dfs = []\n",
    "    for e, chunk_file in enumerate(glob.glob(path)):\n",
    "        chunk = pd.read_parquet(chunk_file)\n",
    "        chunk.ts = (chunk.ts/1000).astype('int32')\n",
    "        chunk['type'] = chunk['type'].map(type_labels).astype('int8')\n",
    "        dfs.append(chunk)\n",
    "    return pd.concat(dfs).reset_index(drop=True) #.astype({\"ts\": \"datetime64[ms]\"})\n",
    "\n",
    "def load_ValA(SET):\n",
    "    if SET == 1:\n",
    "        return load_df('../input/split_2-1_pqt/test_parquets/*')\n",
    "    elif SET == 2:\n",
    "        return pd.read_parquet('../input/splited/test.parquet')\n",
    "    elif SET == 3:\n",
    "        return load_df('../input/parquets/test_parquets/*')"
   ]
  },
  {
   "cell_type": "code",
   "execution_count": 2,
   "metadata": {},
   "outputs": [
    {
     "name": "stdout",
     "output_type": "stream",
     "text": [
      "2 orders 0\n",
      "2 orders 1\n",
      "2 orders 2\n",
      "2 orders 3\n",
      "2 orders 4\n",
      "2 orders 5\n"
     ]
    },
    {
     "data": {
      "text/html": [
       "<div>\n",
       "<style scoped>\n",
       "    .dataframe tbody tr th:only-of-type {\n",
       "        vertical-align: middle;\n",
       "    }\n",
       "\n",
       "    .dataframe tbody tr th {\n",
       "        vertical-align: top;\n",
       "    }\n",
       "\n",
       "    .dataframe thead th {\n",
       "        text-align: right;\n",
       "    }\n",
       "</style>\n",
       "<table border=\"1\" class=\"dataframe\">\n",
       "  <thead>\n",
       "    <tr style=\"text-align: right;\">\n",
       "      <th></th>\n",
       "      <th>aid_x</th>\n",
       "      <th>aid_y</th>\n",
       "    </tr>\n",
       "  </thead>\n",
       "  <tbody>\n",
       "    <tr>\n",
       "      <th>0</th>\n",
       "      <td>11830</td>\n",
       "      <td>11830</td>\n",
       "    </tr>\n",
       "    <tr>\n",
       "      <th>1</th>\n",
       "      <td>11830</td>\n",
       "      <td>1732105</td>\n",
       "    </tr>\n",
       "    <tr>\n",
       "      <th>2</th>\n",
       "      <td>11830</td>\n",
       "      <td>588923</td>\n",
       "    </tr>\n",
       "    <tr>\n",
       "      <th>3</th>\n",
       "      <td>11830</td>\n",
       "      <td>884502</td>\n",
       "    </tr>\n",
       "    <tr>\n",
       "      <th>4</th>\n",
       "      <td>11830</td>\n",
       "      <td>876129</td>\n",
       "    </tr>\n",
       "    <tr>\n",
       "      <th>...</th>\n",
       "      <td>...</td>\n",
       "      <td>...</td>\n",
       "    </tr>\n",
       "    <tr>\n",
       "      <th>125448412</th>\n",
       "      <td>561560</td>\n",
       "      <td>576949</td>\n",
       "    </tr>\n",
       "    <tr>\n",
       "      <th>125448413</th>\n",
       "      <td>561560</td>\n",
       "      <td>1534690</td>\n",
       "    </tr>\n",
       "    <tr>\n",
       "      <th>125448414</th>\n",
       "      <td>561560</td>\n",
       "      <td>122983</td>\n",
       "    </tr>\n",
       "    <tr>\n",
       "      <th>125448415</th>\n",
       "      <td>561560</td>\n",
       "      <td>1257293</td>\n",
       "    </tr>\n",
       "    <tr>\n",
       "      <th>125448416</th>\n",
       "      <td>561560</td>\n",
       "      <td>1445562</td>\n",
       "    </tr>\n",
       "  </tbody>\n",
       "</table>\n",
       "<p>125448417 rows × 2 columns</p>\n",
       "</div>"
      ],
      "text/plain": [
       "            aid_x    aid_y\n",
       "0           11830    11830\n",
       "1           11830  1732105\n",
       "2           11830   588923\n",
       "3           11830   884502\n",
       "4           11830   876129\n",
       "...           ...      ...\n",
       "125448412  561560   576949\n",
       "125448413  561560  1534690\n",
       "125448414  561560   122983\n",
       "125448415  561560  1257293\n",
       "125448416  561560  1445562\n",
       "\n",
       "[125448417 rows x 2 columns]"
      ]
     },
     "execution_count": 2,
     "metadata": {},
     "output_type": "execute_result"
    }
   ],
   "source": [
    "toConcat = []\n",
    "for SET in [2]:\n",
    "    val_A = load_ValA(SET)\n",
    "    val_A = val_A.sort_values(['session', 'ts'], ascending=[True, False]).reset_index(drop=True)\n",
    "    val_A = val_A.drop_duplicates((['session', 'aid'])).reset_index(drop=True)\n",
    "\n",
    "    val_A['n'] = val_A.groupby('session').aid.cumcount()\n",
    "    val_A = val_A.loc[val_A.n < 3].drop('n',axis=1)\n",
    "    \n",
    "    for predType in predTypes:\n",
    "        for sub in range(6):\n",
    "            print(SET, predType, sub)\n",
    "            candidate = pd.read_parquet(f'../output/newSplited/candidates/set{SET}_top_100/suggester_addLast/{predType}_{sub}.pqt')[['session', 'aid']]\n",
    "            candidate['session'] = candidate.session.astype('int32')\n",
    "            df =val_A.merge(candidate, on='session')\n",
    "            df = df[['aid_x', 'aid_y']].drop_duplicates()\n",
    "            toConcat.append(df)\n",
    "\n",
    "aidxaid = pd.concat(toConcat, axis=0, ignore_index=True)\n",
    "aidxaid = aidxaid.drop_duplicates().reset_index(drop=True)\n",
    "aidxaid"
   ]
  },
  {
   "cell_type": "code",
   "execution_count": 3,
   "metadata": {},
   "outputs": [],
   "source": [
    "aid2vec_model = gensim.models.KeyedVectors.load_word2vec_format(f'../output/newSplited/savedModel/set_{SET}/otto_aid2vec_5d.bin', binary=True)\n",
    "\n",
    "# aid2idx = {int(aid): i for i, aid in enumerate(aid2vec_model.index_to_key)}\n",
    "# index = AnnoyIndex(8, 'euclidean')\n",
    "# for _, idx in aid2idx.items():\n",
    "#     index.add_item(idx, aid2vec_model.vectors[idx])\n",
    "# index.build(10)"
   ]
  },
  {
   "attachments": {},
   "cell_type": "markdown",
   "metadata": {},
   "source": [
    "Merge with old"
   ]
  },
  {
   "cell_type": "code",
   "execution_count": null,
   "metadata": {},
   "outputs": [],
   "source": [
    "aidxaid_old = pd.read_parquet('../output/newSplited/features/suggester_addLast/aid2aid_annoySim.pqt')\n",
    "aidxaid_old"
   ]
  },
  {
   "cell_type": "code",
   "execution_count": null,
   "metadata": {},
   "outputs": [],
   "source": []
  },
  {
   "cell_type": "code",
   "execution_count": null,
   "metadata": {},
   "outputs": [],
   "source": []
  },
  {
   "cell_type": "code",
   "execution_count": null,
   "metadata": {},
   "outputs": [],
   "source": [
    "aidxaid = aidxaid.merge(aidxaid_old, on=['aid_x', 'aid_y'], how='left').fillna(-1)\n",
    "aidxaid[['aid_x', 'aid_y']] = aidxaid[['aid_x', 'aid_y']].astype('int32')"
   ]
  },
  {
   "cell_type": "code",
   "execution_count": 6,
   "metadata": {},
   "outputs": [
    {
     "data": {
      "application/vnd.jupyter.widget-view+json": {
       "model_id": "439fc4ff86a048968c4ab19c245058cc",
       "version_major": 2,
       "version_minor": 0
      },
      "text/plain": [
       "A Jupyter Widget"
      ]
     },
     "metadata": {},
     "output_type": "display_data"
    }
   ],
   "source": [
    "aidxaid.loc[aidxaid.annoySim == -1, 'annoySim'] = aidxaid[aidxaid.annoySim == -1].progress_apply(lambda x: aid2vec_model.similarity(str(int(x.aid_x)), str(int(x.aid_y))), axis=1)\n",
    "! mkdir ../output/newSplited/features/suggester_addLast/set_{SET}\n",
    "aidxaid.to_parquet(f'../output/newSplited/features/suggester_addLast/set_{SET}/aid2aid_annoySim.pqt')\n"
   ]
  },
  {
   "attachments": {},
   "cell_type": "markdown",
   "metadata": {},
   "source": [
    "Create new"
   ]
  },
  {
   "cell_type": "code",
   "execution_count": 4,
   "metadata": {},
   "outputs": [
    {
     "data": {
      "application/vnd.jupyter.widget-view+json": {
       "model_id": "86e549052f0d47518e9a8bbfa483fa63",
       "version_major": 2,
       "version_minor": 0
      },
      "text/plain": [
       "A Jupyter Widget"
      ]
     },
     "metadata": {},
     "output_type": "display_data"
    },
    {
     "data": {
      "application/vnd.jupyter.widget-view+json": {
       "model_id": "749efd1ee18749d4aef6553d50e9aad0",
       "version_major": 2,
       "version_minor": 0
      },
      "text/plain": [
       "A Jupyter Widget"
      ]
     },
     "metadata": {},
     "output_type": "display_data"
    },
    {
     "data": {
      "application/vnd.jupyter.widget-view+json": {
       "model_id": "b12fdce45d7840528aaa0182fb9b12f0",
       "version_major": 2,
       "version_minor": 0
      },
      "text/plain": [
       "A Jupyter Widget"
      ]
     },
     "metadata": {},
     "output_type": "display_data"
    },
    {
     "data": {
      "application/vnd.jupyter.widget-view+json": {
       "model_id": "d46106684d4848f48652667cf96428f5",
       "version_major": 2,
       "version_minor": 0
      },
      "text/plain": [
       "A Jupyter Widget"
      ]
     },
     "metadata": {},
     "output_type": "display_data"
    },
    {
     "data": {
      "application/vnd.jupyter.widget-view+json": {
       "model_id": "a6d4e90bb241445ba4eb1705150e6264",
       "version_major": 2,
       "version_minor": 0
      },
      "text/plain": [
       "A Jupyter Widget"
      ]
     },
     "metadata": {},
     "output_type": "display_data"
    }
   ],
   "source": [
    "chunkSize = 30_000_000\n",
    "i = 0\n",
    "n = len(aidxaid)\n",
    "while (i*chunkSize < n):\n",
    "    if i == 0:\n",
    "        annoySim = aidxaid[i*chunkSize : (i+1)*chunkSize].progress_apply(lambda x: aid2vec_model.similarity(str(x.aid_x), str(x.aid_y)), axis=1)\n",
    "    else:\n",
    "        annoySim = pd.concat([annoySim, aidxaid[i*chunkSize : (i+1)*chunkSize].progress_apply(lambda x: aid2vec_model.similarity(str(x.aid_x), str(x.aid_y)), axis=1)], axis=0, ignore_index=True)\n",
    "    # annoySim.append(aidxaid[i*chunkSize : (i+1)*chunkSize].progress_apply(lambda x: index.get_distance(aid2idx[x.aid_x], aid2idx[x.aid_y]), axis=1))\n",
    "    i += 1\n",
    "aidxaid['annoySim'] = annoySim\n",
    "! mkdir ../output/newSplited/features/suggester_addLast/set_{SET}\n",
    "aidxaid.to_parquet(f'../output/newSplited/features/suggester_addLast/set_{SET}/aid2aid_annoySim.pqt')\n",
    "\n",
    "# test = aidxaid[:1000]\n",
    "# test['annoySim'] = test.progress_apply(lambda x: index.get_distance(aid2idx[x.aid_x], aid2idx[x.aid_y]), axis=1)\n",
    "# test"
   ]
  },
  {
   "cell_type": "code",
   "execution_count": null,
   "metadata": {},
   "outputs": [],
   "source": []
  }
 ],
 "metadata": {
  "kernelspec": {
   "display_name": "rapids",
   "language": "python",
   "name": "python3"
  },
  "language_info": {
   "codemirror_mode": {
    "name": "ipython",
    "version": 3
   },
   "file_extension": ".py",
   "mimetype": "text/x-python",
   "name": "python",
   "nbconvert_exporter": "python",
   "pygments_lexer": "ipython3",
   "version": "3.9.13"
  },
  "orig_nbformat": 4,
  "vscode": {
   "interpreter": {
    "hash": "f708a36acfaef0acf74ccd43dfb58100269bf08fb79032a1e0a6f35bd9856f51"
   }
  }
 },
 "nbformat": 4,
 "nbformat_minor": 2
}
